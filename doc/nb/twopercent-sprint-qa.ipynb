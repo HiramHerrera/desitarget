{
 "cells": [
  {
   "cell_type": "markdown",
   "metadata": {},
   "source": [
    "# Build QA for the 2% sprint output files"
   ]
  },
  {
   "cell_type": "code",
   "execution_count": 1,
   "metadata": {
    "collapsed": false
   },
   "outputs": [
    {
     "name": "stdout",
     "output_type": "stream",
     "text": [
      "Populating the interactive namespace from numpy and matplotlib\n"
     ]
    }
   ],
   "source": [
    "%pylab inline"
   ]
  },
  {
   "cell_type": "code",
   "execution_count": 2,
   "metadata": {
    "collapsed": true
   },
   "outputs": [],
   "source": [
    "import os\n",
    "import numpy as np\n",
    "import warnings"
   ]
  },
  {
   "cell_type": "code",
   "execution_count": 3,
   "metadata": {
    "collapsed": true
   },
   "outputs": [],
   "source": [
    "# Note that you need the standard desi/conda dependencies + matplotlib, \n",
    "# basemap, and healpy to run this notebook.\n",
    "import fitsio\n",
    "import matplotlib.pyplot as plt\n",
    "from astropy.table import Table"
   ]
  },
  {
   "cell_type": "code",
   "execution_count": 4,
   "metadata": {
    "collapsed": true
   },
   "outputs": [],
   "source": [
    "from desitarget import desi_mask, bgs_mask, mws_mask, contam_mask\n",
    "from desiutil.plots import init_sky, plot_sky_binned\n",
    "from desiutil.log import get_logger"
   ]
  },
  {
   "cell_type": "code",
   "execution_count": 5,
   "metadata": {
    "collapsed": true
   },
   "outputs": [],
   "source": [
    "log = get_logger()"
   ]
  },
  {
   "cell_type": "markdown",
   "metadata": {},
   "source": [
    "## Read the data"
   ]
  },
  {
   "cell_type": "code",
   "execution_count": 6,
   "metadata": {
    "collapsed": false
   },
   "outputs": [],
   "source": [
    "topdir = os.path.join(os.getenv('DESI_ROOT'), 'datachallenge', 'dc17a')\n",
    "targfile = os.path.join(topdir, 'targets.fits')\n",
    "truthfile = os.path.join(topdir, 'truth.fits')\n",
    "skyfile = os.path.join(topdir, 'sky.fits')"
   ]
  },
  {
   "cell_type": "code",
   "execution_count": 7,
   "metadata": {
    "collapsed": false
   },
   "outputs": [
    {
     "name": "stdout",
     "output_type": "stream",
     "text": [
      "INFO:<ipython-input-7-e61e9e3dffeb>:1:<module>: Reading /Users/ioannis/research/projects/desi/datachallenge/dc17a/targets.fits\n",
      "\n",
      "  file: /Users/ioannis/research/projects/desi/datachallenge/dc17a/targets.fits\n",
      "  extension: 1\n",
      "  type: BINARY_TBL\n",
      "  rows: 22409814\n",
      "  column info:\n",
      "    TARGETID            i8  \n",
      "    RA                  f8  \n",
      "    DEC                 f8  \n",
      "    DESI_TARGET         i8  \n",
      "    BGS_TARGET          i8  \n",
      "    MWS_TARGET          i8  \n",
      "    SUBPRIORITY         f8  \n",
      "    OBSCONDITIONS       i4  \n",
      "    BRICKNAME          S10  \n",
      "    DECAM_FLUX          f4  array[6]\n",
      "    WISE_FLUX           f4  array[2]\n",
      "    SHAPEEXP_R          f4  \n",
      "    SHAPEEXP_E1         f4  \n",
      "    SHAPEEXP_E2         f4  \n",
      "    SHAPEDEV_R          f4  \n",
      "    SHAPEDEV_E1         f4  \n",
      "    SHAPEDEV_E2         f4  \n",
      "    DECAM_DEPTH         f4  array[6]\n",
      "    DECAM_GALDEPTH      f4  array[6]\n",
      "    EBV                 f4  \n"
     ]
    }
   ],
   "source": [
    "log.info('Reading {}'.format(targfile))\n",
    "ff = fitsio.FITS(targfile)\n",
    "print(ff[1])\n",
    "targets = ff[1].read(upper=True)"
   ]
  },
  {
   "cell_type": "code",
   "execution_count": 8,
   "metadata": {
    "collapsed": false
   },
   "outputs": [
    {
     "name": "stdout",
     "output_type": "stream",
     "text": [
      "INFO:<ipython-input-8-b2d03af3b019>:1:<module>: Reading /Users/ioannis/research/projects/desi/datachallenge/dc17a/truth.fits\n",
      "\n",
      "  file: /Users/ioannis/research/projects/desi/datachallenge/dc17a/truth.fits\n",
      "  extension: 1\n",
      "  type: BINARY_TBL\n",
      "  rows: 22409814\n",
      "  column info:\n",
      "    TARGETID            i8  \n",
      "    MOCKID              i8  \n",
      "    CONTAM_TARGET       i8  \n",
      "    TRUEZ               f4  \n",
      "    TRUESPECTYPE       S10  \n",
      "    TEMPLATETYPE       S10  \n",
      "    TEMPLATESUBTYPE    S10  \n",
      "    TEMPLATEID          i4  \n",
      "    SEED                i8  \n",
      "    MAG                 f4  \n",
      "    DECAM_FLUX          f4  array[6]\n",
      "    WISE_FLUX           f4  array[2]\n",
      "    OIIFLUX             f4  \n",
      "    HBETAFLUX           f4  \n",
      "    TEFF                f4  \n",
      "    LOGG                f4  \n",
      "    FEH                 f4  \n"
     ]
    }
   ],
   "source": [
    "log.info('Reading {}'.format(truthfile))\n",
    "ff = fitsio.FITS(truthfile)\n",
    "print(ff[1])\n",
    "truth = ff[1].read(upper=True)"
   ]
  },
  {
   "cell_type": "code",
   "execution_count": 9,
   "metadata": {
    "collapsed": false
   },
   "outputs": [
    {
     "name": "stdout",
     "output_type": "stream",
     "text": [
      "INFO:<ipython-input-9-3e3f33b7ca22>:1:<module>: Reading /Users/ioannis/research/projects/desi/datachallenge/dc17a/sky.fits\n",
      "\n",
      "  file: /Users/ioannis/research/projects/desi/datachallenge/dc17a/sky.fits\n",
      "  extension: 1\n",
      "  type: BINARY_TBL\n",
      "  rows: 4885646\n",
      "  column info:\n",
      "    TARGETID            i8  \n",
      "    RA                  f8  \n",
      "    DEC                 f8  \n",
      "    DESI_TARGET         i8  \n",
      "    BGS_TARGET          i8  \n",
      "    MWS_TARGET          i8  \n",
      "    SUBPRIORITY         f8  \n",
      "    OBSCONDITIONS       i4  \n",
      "    BRICKNAME          S10  \n",
      "    DECAM_FLUX          f4  array[6]\n",
      "    WISE_FLUX           f4  array[2]\n",
      "    SHAPEEXP_R          f4  \n",
      "    SHAPEEXP_E1         f4  \n",
      "    SHAPEEXP_E2         f4  \n",
      "    SHAPEDEV_R          f4  \n",
      "    SHAPEDEV_E1         f4  \n",
      "    SHAPEDEV_E2         f4  \n",
      "    DECAM_DEPTH         f4  array[6]\n",
      "    DECAM_GALDEPTH      f4  array[6]\n",
      "    EBV                 f4  \n"
     ]
    }
   ],
   "source": [
    "log.info('Reading {}'.format(skyfile))\n",
    "ff = fitsio.FITS(skyfile)\n",
    "print(ff[1])\n",
    "sky = ff[1].read(upper=True)"
   ]
  },
  {
   "cell_type": "markdown",
   "metadata": {},
   "source": [
    "## Visualize the \"observed\" target densities"
   ]
  },
  {
   "cell_type": "code",
   "execution_count": 10,
   "metadata": {
    "collapsed": false
   },
   "outputs": [],
   "source": [
    "def qadensity(cat, objtype, targdens=None, max_bin_area=1.0):\n",
    "    label = '{} (targets/deg$^2$)'.format(objtype)\n",
    "    if targdens:\n",
    "        fig, ax = plt.subplots(1, 2, figsize=(12, 4))\n",
    "    else:\n",
    "        fig, ax = plt.subplots(1)\n",
    "       \n",
    "    with warnings.catch_warnings():\n",
    "        warnings.simplefilter('ignore')\n",
    "        basemap = init_sky(galactic_plane_color='k', ax=ax[0]);\n",
    "        data, area, _ = plot_sky_binned(cat['RA'], cat['DEC'], max_bin_area=max_bin_area,\n",
    "                                        clip_lo='!1', cmap='jet', plot_type='healpix', \n",
    "                                        label=label, basemap=basemap)\n",
    "    if targdens:\n",
    "        dens = data.compressed()\n",
    "        ax[1].hist(dens, bins=100, histtype='stepfilled', alpha=0.6, label='Observed {} Density'.format(objtype))\n",
    "        if objtype in targdens.keys():\n",
    "            ax[1].axvline(x=targdens[objtype], ls='--', color='k', label='Goal {} Density'.format(objtype))\n",
    "        ax[1].set_xlabel(label)\n",
    "        ax[1].set_ylabel('Number of Healpixels')\n",
    "        ax[1].legend(loc='upper left', frameon=False)\n",
    "        fig.subplots_adjust(wspace=0.2)"
   ]
  },
  {
   "cell_type": "code",
   "execution_count": null,
   "metadata": {
    "collapsed": true
   },
   "outputs": [],
   "source": [
    "# Desired target densities, including contaminants.\n",
    "targdens = {'ELG': 2400, 'LRG': 350, 'QSO': 260, 'SKY': 1400}"
   ]
  },
  {
   "cell_type": "code",
   "execution_count": null,
   "metadata": {
    "collapsed": false
   },
   "outputs": [],
   "source": [
    "for obj in ('ELG', 'LRG', 'QSO', 'BGS_ANY', 'MWS_ANY'):\n",
    "    these = np.where((targets['DESI_TARGET'] & desi_mask.mask(obj)) != 0)[0]\n",
    "    qadensity(targets[these], obj, targdens)"
   ]
  },
  {
   "cell_type": "code",
   "execution_count": null,
   "metadata": {
    "collapsed": false
   },
   "outputs": [],
   "source": [
    "for obj in ('BGS_BRIGHT', 'BGS_FAINT'):\n",
    "    these = np.where((targets['BGS_TARGET'] & bgs_mask.mask(obj)) != 0)[0]\n",
    "    qadensity(targets[these], obj, targdens)"
   ]
  },
  {
   "cell_type": "code",
   "execution_count": null,
   "metadata": {
    "collapsed": false
   },
   "outputs": [],
   "source": [
    "binarea = (2.0, 2.0, 10.0, 10.0) # [deg2]\n",
    "for obj, area in zip( ('MWS_MAIN', 'MWS_MAIN_VERY_FAINT', 'MWS_NEARBY', 'MWS_WD'), binarea ):\n",
    "    these = np.where((targets['MWS_TARGET'] & mws_mask.mask(obj)) != 0)[0]\n",
    "    qadensity(targets[these], obj, targdens, max_bin_area=area)"
   ]
  },
  {
   "cell_type": "code",
   "execution_count": null,
   "metadata": {
    "collapsed": false
   },
   "outputs": [],
   "source": [
    "obj = 'SKY'\n",
    "these = np.where((sky['DESI_TARGET'] & desi_mask.mask(obj)) != 0)[0]\n",
    "qadensity(sky[these], obj, targdens)"
   ]
  },
  {
   "cell_type": "markdown",
   "metadata": {},
   "source": [
    "## Visualize true targets and contaminants"
   ]
  },
  {
   "cell_type": "code",
   "execution_count": null,
   "metadata": {
    "collapsed": true
   },
   "outputs": [],
   "source": [
    "def healpix_density(data):\n",
    "    \"\"\"Determine the target density given an input catalog using code \n",
    "    shamelessly taken from desiutil.plot.plot_sky_binned (by D. Kirkby).\n",
    "\n",
    "    nside = 64 corresponds to about 0.210 deg2, about a factor of 3 smaller\n",
    "    than the nominal imaging brick area (0.25x0.25=0.625 deg2), as determined \n",
    "    by this snippet of code:\n",
    "\n",
    "      max_bin_area = 0.5\n",
    "      for n in range(1, 10):\n",
    "          nside = 2 ** n\n",
    "          bin_area = hp.nside2pixarea(nside, degrees=True)\n",
    "          print(nside, bin_area)\n",
    "          if bin_area <= max_bin_area:\n",
    "              break\n",
    "    \"\"\"\n",
    "    import healpy as hp\n",
    "        \n",
    "    nside = 32\n",
    "    npix = hp.nside2npix(nside)\n",
    "    bin_area = hp.nside2pixarea(nside, degrees=True)\n",
    "\n",
    "    pixels = hp.ang2pix(nside, np.radians(90 - data['DEC']), \n",
    "                        np.radians(data['RA']), nest=False)\n",
    "    counts = np.bincount(pixels, weights=None, minlength=npix)\n",
    "    dens = counts[np.flatnonzero(counts)] / bin_area\n",
    "            \n",
    "    return dens"
   ]
  },
  {
   "cell_type": "code",
   "execution_count": null,
   "metadata": {
    "collapsed": false
   },
   "outputs": [],
   "source": [
    "def qso_density(targets, truth):\n",
    "    \"\"\"Determine the target density of QSOs (including contaminants).\"\"\"\n",
    "    \n",
    "    dens = dict()\n",
    "    \n",
    "    these = np.where(targets['DESI_TARGET'] & desi_mask.mask('QSO') != 0)[0]\n",
    "    dens['QSO_TARGETS'] = healpix_density(targets[these])\n",
    "\n",
    "    these = np.where((targets['DESI_TARGET'] & desi_mask.mask('QSO') != 0) * (truth['TRUEZ'] < 2.1))[0]\n",
    "    dens['QSO_TRACER'] = healpix_density(targets[these])\n",
    "\n",
    "    these = np.where((targets['DESI_TARGET'] & desi_mask.mask('QSO') != 0) * (truth['TRUEZ'] >= 2.1))[0]\n",
    "    dens['QSO_LYA'] = healpix_density(targets[these])\n",
    "    \n",
    "    these = np.where((targets['DESI_TARGET'] & desi_mask.mask('QSO') != 0) * \n",
    "                     (truth['CONTAM_TARGET'] & contam_mask.mask('QSO_IS_GALAXY')) != 0)[0]\n",
    "    dens['QSO_IS_GALAXY'] = healpix_density(targets[these])\n",
    "\n",
    "    these = np.where((targets['DESI_TARGET'] & desi_mask.mask('QSO') != 0) * \n",
    "                     (truth['CONTAM_TARGET'] & contam_mask.mask('QSO_IS_STAR')) != 0)[0]\n",
    "    dens['QSO_IS_STAR'] = healpix_density(targets[these])\n",
    "    \n",
    "    return dens"
   ]
  },
  {
   "cell_type": "code",
   "execution_count": null,
   "metadata": {
    "collapsed": false
   },
   "outputs": [],
   "source": [
    "dens = qso_density(targets, truth)"
   ]
  },
  {
   "cell_type": "code",
   "execution_count": null,
   "metadata": {
    "collapsed": false
   },
   "outputs": [],
   "source": [
    "bins = 50\n",
    "lim = (-10, 320)\n",
    "fig, ax = plt.subplots(1, 2, figsize=(12, 4))\n",
    "ax[0].hist(dens['QSO_TARGETS'], bins=bins, range=lim, label='All Targets', color='k', lw=3, histtype='step')\n",
    "ax[0].hist(dens['QSO_TRACER'], bins=bins, range=lim, alpha=0.6, ls='--', lw=2, label='Tracers')#, histtype='step')\n",
    "ax[0].hist(dens['QSO_LYA'], bins=bins, range=lim, lw=2, label='Lya')\n",
    "ax[0].legend(loc='upper right')\n",
    "\n",
    "ax[1].hist(dens['QSO_IS_GALAXY'], bins=bins, range=lim, label='Galaxy')\n",
    "ax[1].hist(dens['QSO_IS_STAR'], bins=bins, range=lim, alpha=0.3, label='Star')\n",
    "ax[1].legend(loc='upper right')"
   ]
  },
  {
   "cell_type": "code",
   "execution_count": null,
   "metadata": {
    "collapsed": false
   },
   "outputs": [],
   "source": [
    "these = np.where((targets['DESI_TARGET'] & desi_mask.mask('QSO') != 0) * \n",
    "                 (truth['CONTAM_TARGET'] & contam_mask.mask('QSO_IS_GALAXY')) != 0)[0]\n",
    "print(these)\n",
    "print(len(these))\n",
    "print(healpix_density(targets[these]))"
   ]
  },
  {
   "cell_type": "code",
   "execution_count": null,
   "metadata": {
    "collapsed": false
   },
   "outputs": [],
   "source": [
    "truth['TRUEZ'][these]"
   ]
  },
  {
   "cell_type": "code",
   "execution_count": null,
   "metadata": {
    "collapsed": true
   },
   "outputs": [],
   "source": []
  }
 ],
 "metadata": {
  "kernelspec": {
   "display_name": "Python 3",
   "language": "python",
   "name": "python3"
  },
  "language_info": {
   "codemirror_mode": {
    "name": "ipython",
    "version": 3
   },
   "file_extension": ".py",
   "mimetype": "text/x-python",
   "name": "python",
   "nbconvert_exporter": "python",
   "pygments_lexer": "ipython3",
   "version": "3.5.2"
  }
 },
 "nbformat": 4,
 "nbformat_minor": 2
}
