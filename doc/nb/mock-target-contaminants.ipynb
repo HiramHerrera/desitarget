{
 "cells": [
  {
   "cell_type": "markdown",
   "metadata": {},
   "source": [
    "# Mock Target Contaminants"
   ]
  },
  {
   "cell_type": "code",
   "execution_count": 2,
   "metadata": {},
   "outputs": [],
   "source": [
    "import os\n",
    "import numpy as np"
   ]
  },
  {
   "cell_type": "code",
   "execution_count": 3,
   "metadata": {},
   "outputs": [],
   "source": [
    "import fitsio\n",
    "from astropy.table import Table\n",
    "import matplotlib.pyplot as plt"
   ]
  },
  {
   "cell_type": "code",
   "execution_count": 4,
   "metadata": {},
   "outputs": [],
   "source": [
    "%matplotlib inline"
   ]
  },
  {
   "cell_type": "code",
   "execution_count": 5,
   "metadata": {},
   "outputs": [],
   "source": [
    "topdir = os.path.join(os.getenv('DESI_ROOT'), 'datachallenge', 'contaminants')"
   ]
  },
  {
   "cell_type": "code",
   "execution_count": 8,
   "metadata": {},
   "outputs": [],
   "source": [
    "targets = Table(fitsio.read(os.path.join(topdir, 'targets.fits')))"
   ]
  },
  {
   "cell_type": "code",
   "execution_count": 9,
   "metadata": {},
   "outputs": [
    {
     "data": {
      "text/plain": [
       "\n",
       "  file: /Users/ioannis/work/desi/datachallenge/contaminants/truth.fits\n",
       "  mode: READONLY\n",
       "  extnum hdutype         hduname[v]\n",
       "  0      IMAGE_HDU       \n",
       "  1      BINARY_TBL      TRUTH\n",
       "  2      BINARY_TBL      TRUTH_QSO\n",
       "  3      BINARY_TBL      TRUTH_STAR"
      ]
     },
     "execution_count": 9,
     "metadata": {},
     "output_type": "execute_result"
    }
   ],
   "source": [
    "ff = fitsio.FITS(os.path.join(topdir, 'truth.fits'))\n",
    "ff\n",
    "#truth = Table(fitsio.read(os.path.join(topdir, 'truth-64-26029.fits'"
   ]
  },
  {
   "cell_type": "code",
   "execution_count": 11,
   "metadata": {},
   "outputs": [],
   "source": [
    "truth = Table(ff['TRUTH'].read())\n",
    "truth_star = Table(ff['TRUTH_STAR'].read())"
   ]
  },
  {
   "cell_type": "code",
   "execution_count": 14,
   "metadata": {},
   "outputs": [
    {
     "data": {
      "text/html": [
       "<i>Table length=2228</i>\n",
       "<table id=\"table4609891520\" class=\"table-striped table-bordered table-condensed\">\n",
       "<thead><tr><th>TARGETID</th><th>TEFF</th><th>LOGG</th><th>FEH</th></tr></thead>\n",
       "<thead><tr><th>int64</th><th>float32</th><th>float32</th><th>float32</th></tr></thead>\n",
       "<tr><td>288230381667222034</td><td>4023.5288</td><td>4.9940267</td><td>-0.621917</td></tr>\n",
       "<tr><td>288230381667222035</td><td>4279.8047</td><td>4.850349</td><td>-0.58192</td></tr>\n",
       "<tr><td>288230381667222036</td><td>4112.202</td><td>5.0470867</td><td>-1.1745421</td></tr>\n",
       "<tr><td>288230381667222037</td><td>4052.393</td><td>4.840685</td><td>-0.23106055</td></tr>\n",
       "<tr><td>288230381667222038</td><td>5632.296</td><td>4.6532516</td><td>-1.613478</td></tr>\n",
       "<tr><td>288230381667222039</td><td>4543.9097</td><td>4.953037</td><td>-1.7507149</td></tr>\n",
       "<tr><td>288230381667222040</td><td>5783.927</td><td>4.5938406</td><td>-1.3256701</td></tr>\n",
       "<tr><td>288230381667222041</td><td>5974.75</td><td>4.560552</td><td>-1.6132926</td></tr>\n",
       "<tr><td>288230381667222042</td><td>4027.0842</td><td>4.9541507</td><td>-0.47602448</td></tr>\n",
       "<tr><td>288230381667222043</td><td>4063.4802</td><td>4.86964</td><td>-0.32222444</td></tr>\n",
       "<tr><td>...</td><td>...</td><td>...</td><td>...</td></tr>\n",
       "<tr><td>288230382078263960</td><td>5607.6387</td><td>4.6880693</td><td>-1.9199308</td></tr>\n",
       "<tr><td>288230382078263961</td><td>6508.5957</td><td>4.2423773</td><td>-1.6749378</td></tr>\n",
       "<tr><td>288230382078263962</td><td>4191.535</td><td>4.9978805</td><td>-0.9309529</td></tr>\n",
       "<tr><td>288230382078263963</td><td>4093.6985</td><td>5.0263624</td><td>-0.8045767</td></tr>\n",
       "<tr><td>288230382078263964</td><td>4055.07</td><td>4.862541</td><td>-0.27913293</td></tr>\n",
       "<tr><td>288230382078263965</td><td>4526.059</td><td>4.8394947</td><td>-1.1352859</td></tr>\n",
       "<tr><td>288230382078263966</td><td>4070.6719</td><td>5.0354285</td><td>-0.7939315</td></tr>\n",
       "<tr><td>288230382078263967</td><td>3996.6665</td><td>4.90687</td><td>-0.38577703</td></tr>\n",
       "<tr><td>288230382078263968</td><td>5719.067</td><td>4.619118</td><td>-1.4378213</td></tr>\n",
       "<tr><td>288230382078263969</td><td>4291.0527</td><td>4.7320304</td><td>-0.08668465</td></tr>\n",
       "</table>"
      ],
      "text/plain": [
       "<Table length=2228>\n",
       "     TARGETID         TEFF      LOGG       FEH    \n",
       "      int64         float32   float32    float32  \n",
       "------------------ --------- --------- -----------\n",
       "288230381667222034 4023.5288 4.9940267   -0.621917\n",
       "288230381667222035 4279.8047  4.850349    -0.58192\n",
       "288230381667222036  4112.202 5.0470867  -1.1745421\n",
       "288230381667222037  4052.393  4.840685 -0.23106055\n",
       "288230381667222038  5632.296 4.6532516   -1.613478\n",
       "288230381667222039 4543.9097  4.953037  -1.7507149\n",
       "288230381667222040  5783.927 4.5938406  -1.3256701\n",
       "288230381667222041   5974.75  4.560552  -1.6132926\n",
       "288230381667222042 4027.0842 4.9541507 -0.47602448\n",
       "288230381667222043 4063.4802   4.86964 -0.32222444\n",
       "               ...       ...       ...         ...\n",
       "288230382078263960 5607.6387 4.6880693  -1.9199308\n",
       "288230382078263961 6508.5957 4.2423773  -1.6749378\n",
       "288230382078263962  4191.535 4.9978805  -0.9309529\n",
       "288230382078263963 4093.6985 5.0263624  -0.8045767\n",
       "288230382078263964   4055.07  4.862541 -0.27913293\n",
       "288230382078263965  4526.059 4.8394947  -1.1352859\n",
       "288230382078263966 4070.6719 5.0354285  -0.7939315\n",
       "288230382078263967 3996.6665   4.90687 -0.38577703\n",
       "288230382078263968  5719.067  4.619118  -1.4378213\n",
       "288230382078263969 4291.0527 4.7320304 -0.08668465"
      ]
     },
     "execution_count": 14,
     "metadata": {},
     "output_type": "execute_result"
    }
   ],
   "source": [
    "truth_star"
   ]
  },
  {
   "cell_type": "code",
   "execution_count": 13,
   "metadata": {},
   "outputs": [
    {
     "data": {
      "image/png": "[encoded data removed]",
      "text/plain": [
       "<Figure size 432x288 with 1 Axes>"
      ]
     },
     "metadata": {},
     "output_type": "display_data"
    }
   ],
   "source": [
    "fig, ax = plt.subplots()\n",
    "_ = ax.hist(truth_star['TEFF'], bins=100)"
   ]
  },
  {
   "cell_type": "code",
   "execution_count": null,
   "metadata": {},
   "outputs": [],
   "source": [
    "fig, ax = plt.subplots()\n",
    "for ii in range(5):\n",
    "    "
   ]
  }
 ],
 "metadata": {
  "kernelspec": {
   "display_name": "Python [conda env:desi]",
   "language": "python",
   "name": "conda-env-desi-py"
  },
  "language_info": {
   "codemirror_mode": {
    "name": "ipython",
    "version": 3
   },
   "file_extension": ".py",
   "mimetype": "text/x-python",
   "name": "python",
   "nbconvert_exporter": "python",
   "pygments_lexer": "ipython3",
   "version": "3.6.5"
  }
 },
 "nbformat": 4,
 "nbformat_minor": 2
}
