{
 "cells": [
  {
   "cell_type": "code",
   "execution_count": 22,
   "metadata": {},
   "outputs": [],
   "source": [
    "import glob\n",
    "import numpy as np\n",
    "\n",
    "from astropy.table  import Table\n",
    "\n",
    "from desitarget.io  import read_mtl_ledger\n",
    "from desitarget.mtl import make_mtl, inflate_ledger"
   ]
  },
  {
   "cell_type": "code",
   "execution_count": null,
   "metadata": {},
   "outputs": [],
   "source": []
  },
  {
   "cell_type": "markdown",
   "metadata": {},
   "source": [
    "# Original documentation"
   ]
  },
  {
   "cell_type": "markdown",
   "metadata": {},
   "source": [
    "https://github.com/desihub/desitarget/pull/635\n"
   ]
  },
  {
   "cell_type": "markdown",
   "metadata": {},
   "source": [
    "Grab a starting targets file."
   ]
  },
  {
   "cell_type": "code",
   "execution_count": 4,
   "metadata": {},
   "outputs": [],
   "source": [
    "# Standard target files, hp 39 only.\n",
    "targets = Table.read('/project/projectdirs/desi/target/catalogs/dr8/0.39.0/targets/sv/resolve//dark/sv1-targets-dr8-hp-39.fits')"
   ]
  },
  {
   "cell_type": "code",
   "execution_count": 5,
   "metadata": {},
   "outputs": [
    {
     "data": {
      "text/html": [
       "<i>Table length=1178683</i>\n",
       "<table id=\"table46913295998832\" class=\"table-striped table-bordered table-condensed\">\n",
       "<thead><tr><th>RELEASE</th><th>BRICKID</th><th>BRICKNAME</th><th>BRICK_OBJID</th><th>MORPHTYPE</th><th>RA</th><th>RA_IVAR</th><th>DEC</th><th>DEC_IVAR</th><th>DCHISQ [5]</th><th>EBV</th><th>FLUX_G</th><th>FLUX_R</th><th>FLUX_Z</th><th>FLUX_IVAR_G</th><th>FLUX_IVAR_R</th><th>FLUX_IVAR_Z</th><th>MW_TRANSMISSION_G</th><th>MW_TRANSMISSION_R</th><th>MW_TRANSMISSION_Z</th><th>FRACFLUX_G</th><th>FRACFLUX_R</th><th>FRACFLUX_Z</th><th>FRACMASKED_G</th><th>FRACMASKED_R</th><th>FRACMASKED_Z</th><th>FRACIN_G</th><th>FRACIN_R</th><th>FRACIN_Z</th><th>NOBS_G</th><th>NOBS_R</th><th>NOBS_Z</th><th>PSFDEPTH_G</th><th>PSFDEPTH_R</th><th>PSFDEPTH_Z</th><th>GALDEPTH_G</th><th>GALDEPTH_R</th><th>GALDEPTH_Z</th><th>FLUX_W1</th><th>FLUX_W2</th><th>FLUX_W3</th><th>FLUX_W4</th><th>FLUX_IVAR_W1</th><th>FLUX_IVAR_W2</th><th>FLUX_IVAR_W3</th><th>FLUX_IVAR_W4</th><th>MW_TRANSMISSION_W1</th><th>MW_TRANSMISSION_W2</th><th>MW_TRANSMISSION_W3</th><th>MW_TRANSMISSION_W4</th><th>ALLMASK_G</th><th>ALLMASK_R</th><th>ALLMASK_Z</th><th>FIBERFLUX_G</th><th>FIBERFLUX_R</th><th>FIBERFLUX_Z</th><th>FIBERTOTFLUX_G</th><th>FIBERTOTFLUX_R</th><th>FIBERTOTFLUX_Z</th><th>REF_EPOCH</th><th>WISEMASK_W1</th><th>WISEMASK_W2</th><th>MASKBITS</th><th>FRACDEV</th><th>FRACDEV_IVAR</th><th>SHAPEDEV_R</th><th>SHAPEDEV_E1</th><th>SHAPEDEV_E2</th><th>SHAPEDEV_R_IVAR</th><th>SHAPEDEV_E1_IVAR</th><th>SHAPEDEV_E2_IVAR</th><th>SHAPEEXP_R</th><th>SHAPEEXP_E1</th><th>SHAPEEXP_E2</th><th>SHAPEEXP_R_IVAR</th><th>SHAPEEXP_E1_IVAR</th><th>SHAPEEXP_E2_IVAR</th><th>REF_ID</th><th>REF_CAT</th><th>GAIA_PHOT_G_MEAN_MAG</th><th>GAIA_PHOT_G_MEAN_FLUX_OVER_ERROR</th><th>GAIA_PHOT_BP_MEAN_MAG</th><th>GAIA_PHOT_BP_MEAN_FLUX_OVER_ERROR</th><th>GAIA_PHOT_RP_MEAN_MAG</th><th>GAIA_PHOT_RP_MEAN_FLUX_OVER_ERROR</th><th>GAIA_PHOT_BP_RP_EXCESS_FACTOR</th><th>GAIA_ASTROMETRIC_EXCESS_NOISE</th><th>GAIA_DUPLICATED_SOURCE</th><th>GAIA_ASTROMETRIC_SIGMA5D_MAX</th><th>GAIA_ASTROMETRIC_PARAMS_SOLVED</th><th>PARALLAX</th><th>PARALLAX_IVAR</th><th>PMRA</th><th>PMRA_IVAR</th><th>PMDEC</th><th>PMDEC_IVAR</th><th>PHOTSYS</th><th>TARGETID</th><th>SV1_DESI_TARGET</th><th>SV1_BGS_TARGET</th><th>SV1_MWS_TARGET</th><th>SUBPRIORITY</th><th>OBSCONDITIONS</th><th>PRIORITY_INIT</th><th>NUMOBS_INIT</th><th>HPXPIXEL</th></tr></thead>\n",
       "<thead><tr><th>int16</th><th>int32</th><th>bytes8</th><th>int32</th><th>bytes4</th><th>float64</th><th>float32</th><th>float64</th><th>float32</th><th>float32</th><th>float32</th><th>float32</th><th>float32</th><th>float32</th><th>float32</th><th>float32</th><th>float32</th><th>float32</th><th>float32</th><th>float32</th><th>float32</th><th>float32</th><th>float32</th><th>float32</th><th>float32</th><th>float32</th><th>float32</th><th>float32</th><th>float32</th><th>int16</th><th>int16</th><th>int16</th><th>float32</th><th>float32</th><th>float32</th><th>float32</th><th>float32</th><th>float32</th><th>float32</th><th>float32</th><th>float32</th><th>float32</th><th>float32</th><th>float32</th><th>float32</th><th>float32</th><th>float32</th><th>float32</th><th>float32</th><th>float32</th><th>int16</th><th>int16</th><th>int16</th><th>float32</th><th>float32</th><th>float32</th><th>float32</th><th>float32</th><th>float32</th><th>float32</th><th>uint8</th><th>uint8</th><th>int16</th><th>float32</th><th>float32</th><th>float32</th><th>float32</th><th>float32</th><th>float32</th><th>float32</th><th>float32</th><th>float32</th><th>float32</th><th>float32</th><th>float32</th><th>float32</th><th>float32</th><th>int64</th><th>bytes2</th><th>float32</th><th>float32</th><th>float32</th><th>float32</th><th>float32</th><th>float32</th><th>float32</th><th>float32</th><th>bool</th><th>float32</th><th>float64</th><th>float32</th><th>float32</th><th>float32</th><th>float32</th><th>float32</th><th>float32</th><th>bytes1</th><th>int64</th><th>int64</th><th>int64</th><th>int64</th><th>float64</th><th>int64</th><th>int64</th><th>int64</th><th>int64</th></tr></thead>\n",
       "<tr><td>8000</td><td>323702</td><td>1336m012</td><td>5007</td><td>PSF</td><td>133.63312410816184</td><td>45020300000000.0</td><td>-1.1603799566568491</td><td>166979100000000.0</td><td>207192.75 .. 0.0</td><td>0.018940069</td><td>3.0723295</td><td>11.2176285</td><td>53.46312</td><td>1444.9786</td><td>271.63205</td><td>55.761055</td><td>0.9454763</td><td>0.96293706</td><td>0.97909635</td><td>0.0</td><td>0.0</td><td>0.0</td><td>0.0069302926</td><td>0.0066685616</td><td>0.011131304</td><td>0.9937654</td><td>0.99321735</td><td>0.99573135</td><td>4</td><td>3</td><td>3</td><td>2304.0564</td><td>513.5728</td><td>111.21567</td><td>1392.9493</td><td>303.10498</td><td>49.199593</td><td>33.768642</td><td>25.342257</td><td>-63.370316</td><td>-272.42044</td><td>2.733598</td><td>0.515351</td><td>0.0008473634</td><td>1.1282217e-05</td><td>0.99679536</td><td>0.9980307</td><td>0.99957967</td><td>0.9998413</td><td>0</td><td>0</td><td>0</td><td>2.3808756</td><td>8.693006</td><td>41.43079</td><td>2.3808756</td><td>8.693006</td><td>41.43079</td><td>2015.5</td><td>0</td><td>0</td><td>0</td><td>0.0</td><td>0.0</td><td>0.0</td><td>0.0</td><td>0.0</td><td>0.0</td><td>0.0</td><td>0.0</td><td>0.0</td><td>0.0</td><td>0.0</td><td>0.0</td><td>0.0</td><td>0.0</td><td>3074269867433092224</td><td>G2</td><td>19.627241</td><td>263.58875</td><td>20.844194</td><td>10.6158285</td><td>18.464708</td><td>55.742874</td><td>1.481913</td><td>0.6772506</td><td>False</td><td>0.9689543</td><td>31.0</td><td>3.270076</td><td>2.5505466</td><td>1.5009911</td><td>1.0092283</td><td>-14.090265</td><td>4.9453483</td><td>S</td><td>35185729793430415</td><td>2305843009213693952</td><td>0</td><td>81920</td><td>0.7711840984536714</td><td>7</td><td>1050</td><td>1</td><td>40958</td></tr>\n",
       "<tr><td>8000</td><td>325152</td><td>1361m010</td><td>2375</td><td>PSF</td><td>136.19686490694835</td><td>62278390000000.0</td><td>-1.0159966287189084</td><td>68476924000000.0</td><td>123363.87 .. 0.0</td><td>0.020817652</td><td>3.988178</td><td>13.431305</td><td>27.994957</td><td>964.8645</td><td>306.09293</td><td>67.3772</td><td>0.9402359</td><td>0.9593386</td><td>0.97704804</td><td>0.0</td><td>0.0</td><td>0.0</td><td>0.005857358</td><td>0.006218368</td><td>0.008389102</td><td>0.9952324</td><td>0.99533457</td><td>0.9950397</td><td>3</td><td>3</td><td>3</td><td>1553.1255</td><td>554.8055</td><td>97.88126</td><td>985.15594</td><td>339.8395</td><td>55.408375</td><td>16.360668</td><td>6.642782</td><td>18.78457</td><td>171.51744</td><td>3.166358</td><td>0.534376</td><td>0.00076793355</td><td>9.9263e-06</td><td>0.99647826</td><td>0.9978357</td><td>0.999538</td><td>0.99982554</td><td>0</td><td>0</td><td>0</td><td>3.1051724</td><td>10.457537</td><td>21.796713</td><td>3.1051724</td><td>10.457537</td><td>21.796713</td><td>2015.5</td><td>0</td><td>0</td><td>0</td><td>0.0</td><td>0.0</td><td>0.0</td><td>0.0</td><td>0.0</td><td>0.0</td><td>0.0</td><td>0.0</td><td>0.0</td><td>0.0</td><td>0.0</td><td>0.0</td><td>0.0</td><td>0.0</td><td>3842714317837855232</td><td>G2</td><td>19.826307</td><td>162.49513</td><td>20.498426</td><td>7.8202014</td><td>18.855696</td><td>23.61048</td><td>1.4363024</td><td>0.0</td><td>False</td><td>0.9723409</td><td>31.0</td><td>-0.018428598</td><td>3.2208335</td><td>1.2166519</td><td>1.1458484</td><td>-0.6309455</td><td>1.1352358</td><td>S</td><td>35185735875168583</td><td>2305843009213693952</td><td>0</td><td>81920</td><td>0.9067837874882217</td><td>7</td><td>1050</td><td>1</td><td>40957</td></tr>\n",
       "<tr><td>8000</td><td>279285</td><td>1454m090</td><td>63</td><td>PSF</td><td>145.49299519788545</td><td>34861778000000.0</td><td>-9.039907034732702</td><td>33404477000000.0</td><td>29428.02 .. 0.0</td><td>0.037333127</td><td>6.9679356</td><td>11.237936</td><td>13.142337</td><td>228.54276</td><td>109.67093</td><td>25.963608</td><td>0.8953741</td><td>0.92825973</td><td>0.9592147</td><td>0.0</td><td>0.0</td><td>0.0</td><td>0.08152268</td><td>0.017669706</td><td>0.02335308</td><td>0.9957819</td><td>0.9975558</td><td>1.0018053</td><td>1</td><td>1</td><td>1</td><td>356.48978</td><td>275.06335</td><td>34.80309</td><td>285.7734</td><td>154.76784</td><td>16.337555</td><td>4.709051</td><td>-0.0026580784</td><td>-2.5554893</td><td>-193.62512</td><td>3.1532583</td><td>0.58353174</td><td>0.0013189028</td><td>1.6437109e-05</td><td>0.9936931</td><td>0.996122</td><td>0.9991717</td><td>0.99968714</td><td>0</td><td>0</td><td>0</td><td>5.412286</td><td>8.728973</td><td>10.2082</td><td>5.412286</td><td>8.728973</td><td>10.2082</td><td>2015.5</td><td>0</td><td>0</td><td>0</td><td>0.0</td><td>0.0</td><td>0.0</td><td>0.0</td><td>0.0</td><td>0.0</td><td>0.0</td><td>0.0</td><td>0.0</td><td>0.0</td><td>0.0</td><td>0.0</td><td>0.0</td><td>0.0</td><td>5740681531538570624</td><td>G2</td><td>19.9951</td><td>146.6605</td><td>20.362648</td><td>8.832456</td><td>19.452303</td><td>16.876795</td><td>1.2249529</td><td>1.4306192</td><td>False</td><td>1.1753178</td><td>31.0</td><td>0.334103</td><td>1.2805831</td><td>4.4907613</td><td>0.7083227</td><td>-10.71274</td><td>0.6781101</td><td>S</td><td>35185543495024703</td><td>2305843009213693952</td><td>0</td><td>81920</td><td>0.07751337399126856</td><td>7</td><td>1050</td><td>1</td><td>40789</td></tr>\n",
       "<tr><td>8000</td><td>279283</td><td>1449m090</td><td>6</td><td>PSF</td><td>144.8695671181906</td><td>33579560000000.0</td><td>-9.043683947396191</td><td>17562888000000.0</td><td>30604.703 .. 0.0</td><td>0.044970058</td><td>3.1146464</td><td>10.663871</td><td>25.146423</td><td>294.0395</td><td>119.80841</td><td>22.346092</td><td>0.8753596</td><td>0.91423094</td><td>0.9510788</td><td>0.0022348878</td><td>-0.00011965025</td><td>0.00046645486</td><td>0.008340209</td><td>0.0034920936</td><td>0.030867735</td><td>0.9936266</td><td>0.94586515</td><td>0.9986897</td><td>1</td><td>1</td><td>1</td><td>360.88483</td><td>278.55606</td><td>33.84756</td><td>289.32297</td><td>156.34589</td><td>16.314915</td><td>13.173055</td><td>6.011704</td><td>54.565266</td><td>489.7248</td><td>3.008108</td><td>0.5687708</td><td>0.0008005162</td><td>1.0120797e-05</td><td>0.99240786</td><td>0.9953306</td><td>0.9990023</td><td>0.9996232</td><td>0</td><td>0</td><td>0</td><td>2.4231317</td><td>8.296274</td><td>19.563406</td><td>2.4231317</td><td>8.296274</td><td>19.563406</td><td>2015.5</td><td>0</td><td>0</td><td>0</td><td>0.0</td><td>0.0</td><td>0.0</td><td>0.0</td><td>0.0</td><td>0.0</td><td>0.0</td><td>0.0</td><td>0.0</td><td>0.0</td><td>0.0</td><td>0.0</td><td>0.0</td><td>0.0</td><td>5740856903643397376</td><td>G2</td><td>20.013615</td><td>123.48755</td><td>20.944662</td><td>7.8072987</td><td>19.137627</td><td>11.951098</td><td>1.2656124</td><td>1.3202806</td><td>False</td><td>1.5586247</td><td>31.0</td><td>1.836639</td><td>1.8951111</td><td>-5.647123</td><td>0.667855</td><td>-5.289541</td><td>0.45496553</td><td>S</td><td>35185543486636038</td><td>2305843009213693952</td><td>0</td><td>81920</td><td>0.13721126692565644</td><td>7</td><td>1050</td><td>1</td><td>40791</td></tr>\n",
       "<tr><td>8000</td><td>279283</td><td>1449m090</td><td>31</td><td>PSF</td><td>144.8747516770182</td><td>1019548660000000.0</td><td>-9.028873805855557</td><td>635198600000000.0</td><td>747328.3 .. 0.0</td><td>0.044054568</td><td>70.06155</td><td>109.13082</td><td>122.12791</td><td>67.92911</td><td>21.078468</td><td>10.922518</td><td>0.8777351</td><td>0.9159014</td><td>0.95205045</td><td>1.1145502e-06</td><td>7.7567296e-07</td><td>2.3969842e-06</td><td>0.0020385948</td><td>0.004890115</td><td>0.015125936</td><td>0.9997083</td><td>0.9996697</td><td>0.999938</td><td>1</td><td>1</td><td>1</td><td>360.88483</td><td>278.55606</td><td>33.84756</td><td>289.32297</td><td>156.34589</td><td>16.314915</td><td>33.60695</td><td>18.425592</td><td>4.183924</td><td>-380.16122</td><td>3.1007934</td><td>0.57144344</td><td>0.0008082745</td><td>1.0120965e-05</td><td>0.9925619</td><td>0.99542546</td><td>0.9990226</td><td>0.9996308</td><td>0</td><td>0</td><td>0</td><td>54.366882</td><td>84.68416</td><td>94.76973</td><td>54.366882</td><td>84.68416</td><td>94.76973</td><td>2015.5</td><td>0</td><td>0</td><td>0</td><td>0.0</td><td>0.0</td><td>0.0</td><td>0.0</td><td>0.0</td><td>0.0</td><td>0.0</td><td>0.0</td><td>0.0</td><td>0.0</td><td>0.0</td><td>0.0</td><td>0.0</td><td>0.0</td><td>5740857693917393920</td><td>G2</td><td>17.525564</td><td>687.78143</td><td>17.89195</td><td>94.29941</td><td>17.02872</td><td>85.422066</td><td>1.196407</td><td>0.0</td><td>False</td><td>0.27605954</td><td>31.0</td><td>0.14024258</td><td>62.354115</td><td>-1.9073229</td><td>22.664133</td><td>2.2750247</td><td>15.464059</td><td>S</td><td>35185543486636063</td><td>2305843009213693952</td><td>0</td><td>33</td><td>0.3400658541895716</td><td>7</td><td>1100</td><td>1</td><td>40791</td></tr>\n",
       "<tr><td>8000</td><td>279282</td><td>1447m090</td><td>294</td><td>PSF</td><td>144.85142416471035</td><td>631989540000000.0</td><td>-9.025019768126441</td><td>384187950000000.0</td><td>504434.94 .. 0.0</td><td>0.045397233</td><td>14.672485</td><td>55.776566</td><td>213.06259</td><td>181.1943</td><td>38.002914</td><td>7.6492305</td><td>0.8742534</td><td>0.91345257</td><td>0.9506258</td><td>1.1975124e-05</td><td>1.6880188e-06</td><td>4.8002566e-06</td><td>0.0062162154</td><td>0.00739787</td><td>0.022936705</td><td>0.9999028</td><td>1.000029</td><td>0.99957854</td><td>1</td><td>1</td><td>1</td><td>366.48718</td><td>285.01367</td><td>33.82256</td><td>293.5782</td><td>158.6204</td><td>16.380924</td><td>145.39282</td><td>82.05596</td><td>-12.657057</td><td>522.0866</td><td>3.2181911</td><td>0.58888954</td><td>0.00080901646</td><td>9.853722e-06</td><td>0.99233603</td><td>0.99528635</td><td>0.9989928</td><td>0.9996196</td><td>0</td><td>0</td><td>0</td><td>11.274285</td><td>42.858517</td><td>163.71654</td><td>11.274285</td><td>42.858517</td><td>163.71654</td><td>2015.5</td><td>0</td><td>0</td><td>0</td><td>0.0</td><td>0.0</td><td>0.0</td><td>0.0</td><td>0.0</td><td>0.0</td><td>0.0</td><td>0.0</td><td>0.0</td><td>0.0</td><td>0.0</td><td>0.0</td><td>0.0</td><td>0.0</td><td>5740857728277136128</td><td>G2</td><td>17.983908</td><td>428.35254</td><td>19.229528</td><td>19.945372</td><td>16.905079</td><td>65.596985</td><td>1.3834634</td><td>0.0</td><td>False</td><td>0.35315996</td><td>31.0</td><td>1.5428683</td><td>40.806812</td><td>14.471433</td><td>13.260938</td><td>-15.501104</td><td>9.392312</td><td>S</td><td>35185543482442022</td><td>2305843009213693952</td><td>0</td><td>33</td><td>0.030631857859708567</td><td>7</td><td>1100</td><td>1</td><td>40791</td></tr>\n",
       "<tr><td>8000</td><td>279282</td><td>1447m090</td><td>295</td><td>PSF</td><td>144.85543134041876</td><td>313796150000000.0</td><td>-9.023287574801707</td><td>152386450000000.0</td><td>690523.0 .. 0.0</td><td>0.04504955</td><td>56.161022</td><td>103.472725</td><td>139.24849</td><td>79.958725</td><td>22.628395</td><td>10.11251</td><td>0.87515366</td><td>0.91408604</td><td>0.9509945</td><td>3.3589076e-06</td><td>9.002227e-07</td><td>1.6721481e-06</td><td>0.0020447301</td><td>0.004128325</td><td>0.01424672</td><td>0.99992365</td><td>0.999995</td><td>1.0000117</td><td>1</td><td>1</td><td>1</td><td>366.48718</td><td>285.01367</td><td>33.82256</td><td>293.5782</td><td>158.6204</td><td>16.380924</td><td>51.438725</td><td>27.84666</td><td>58.0395</td><td>270.13776</td><td>3.1593015</td><td>0.5915392</td><td>0.0008045578</td><td>1.0135133e-05</td><td>0.9923945</td><td>0.99532235</td><td>0.99900055</td><td>0.99962246</td><td>0</td><td>0</td><td>0</td><td>42.453896</td><td>78.21831</td><td>105.262344</td><td>42.453896</td><td>78.21831</td><td>105.262344</td><td>2015.5</td><td>0</td><td>0</td><td>0</td><td>0.0</td><td>0.0</td><td>0.0</td><td>0.0</td><td>0.0</td><td>0.0</td><td>0.0</td><td>0.0</td><td>0.0</td><td>0.0</td><td>0.0</td><td>0.0</td><td>0.0</td><td>0.0</td><td>5740857728277138176</td><td>G2</td><td>17.589746</td><td>579.27765</td><td>18.0871</td><td>57.30176</td><td>16.970669</td><td>56.45146</td><td>1.2171808</td><td>0.0</td><td>False</td><td>0.5802468</td><td>31.0</td><td>0.66542906</td><td>48.415024</td><td>3.1324</td><td>9.851857</td><td>-36.27947</td><td>4.5431247</td><td>S</td><td>35185543482442023</td><td>2305843009213693952</td><td>0</td><td>33</td><td>0.8817850058588774</td><td>7</td><td>1100</td><td>1</td><td>40791</td></tr>\n",
       "<tr><td>8000</td><td>279282</td><td>1447m090</td><td>45</td><td>PSF</td><td>144.8236002967829</td><td>187606540000000.0</td><td>-9.04351894526749</td><td>119468590000000.0</td><td>199754.98 .. 0.0</td><td>0.04805472</td><td>7.5815487</td><td>26.338982</td><td>108.08577</td><td>237.81026</td><td>69.76342</td><td>11.787261</td><td>0.86740285</td><td>0.9086248</td><td>0.9478122</td><td>0.0</td><td>0.0</td><td>0.0</td><td>0.0058840145</td><td>0.0028028178</td><td>0.019213403</td><td>0.9959492</td><td>0.9682122</td><td>0.99922454</td><td>1</td><td>1</td><td>1</td><td>366.48718</td><td>285.01367</td><td>33.82256</td><td>293.5782</td><td>158.6204</td><td>16.380924</td><td>67.52131</td><td>40.21212</td><td>8.997185</td><td>-74.77244</td><td>2.9960887</td><td>0.5463578</td><td>0.0008006899</td><td>1.0074073e-05</td><td>0.99188924</td><td>0.9950111</td><td>0.9989339</td><td>0.9995973</td><td>0</td><td>0</td><td>0</td><td>5.8138347</td><td>20.197784</td><td>82.88449</td><td>5.8138356</td><td>20.197794</td><td>82.8845</td><td>2015.5</td><td>0</td><td>0</td><td>0</td><td>0.0</td><td>0.0</td><td>0.0</td><td>0.0</td><td>0.0</td><td>0.0</td><td>0.0</td><td>0.0</td><td>0.0</td><td>0.0</td><td>0.0</td><td>0.0</td><td>0.0</td><td>0.0</td><td>5740857796996595328</td><td>G2</td><td>18.730686</td><td>323.68112</td><td>19.960054</td><td>13.192076</td><td>17.652267</td><td>38.38575</td><td>1.3865398</td><td>0.77728313</td><td>False</td><td>0.6394546</td><td>31.0</td><td>1.1422982</td><td>12.94019</td><td>-24.727081</td><td>3.5895298</td><td>0.70708907</td><td>2.902237</td><td>S</td><td>35185543482441773</td><td>2305843009213693952</td><td>0</td><td>33</td><td>0.9040868630147113</td><td>7</td><td>1100</td><td>1</td><td>40791</td></tr>\n",
       "<tr><td>8000</td><td>279282</td><td>1447m090</td><td>199</td><td>PSF</td><td>144.81291048541198</td><td>75812550000000.0</td><td>-9.030891752822155</td><td>44369856000000.0</td><td>66261.15 .. 0.0</td><td>0.04788659</td><td>12.849105</td><td>17.17675</td><td>18.367159</td><td>191.23344</td><td>89.0406</td><td>24.958342</td><td>0.8678347</td><td>0.9089295</td><td>0.94798994</td><td>0.0</td><td>0.0</td><td>0.0</td><td>0.0042725513</td><td>0.0040206746</td><td>0.012805681</td><td>0.9986019</td><td>0.9986485</td><td>0.9988932</td><td>1</td><td>1</td><td>1</td><td>366.48718</td><td>285.01367</td><td>33.82256</td><td>293.5782</td><td>158.6204</td><td>16.380924</td><td>2.6374547</td><td>2.0182936</td><td>12.332933</td><td>-305.30084</td><td>2.9822495</td><td>0.5670047</td><td>0.00080844574</td><td>1.0120463e-05</td><td>0.9919175</td><td>0.9950285</td><td>0.9989376</td><td>0.99959874</td><td>0</td><td>0</td><td>0</td><td>10.005975</td><td>13.3760395</td><td>14.303045</td><td>10.005975</td><td>13.3760395</td><td>14.303045</td><td>2015.5</td><td>0</td><td>0</td><td>0</td><td>0.0</td><td>0.0</td><td>0.0</td><td>0.0</td><td>0.0</td><td>0.0</td><td>0.0</td><td>0.0</td><td>0.0</td><td>0.0</td><td>0.0</td><td>0.0</td><td>0.0</td><td>0.0</td><td>5740857865716084096</td><td>G2</td><td>19.48124</td><td>208.22002</td><td>19.660181</td><td>37.21021</td><td>18.991219</td><td>39.27051</td><td>1.2907809</td><td>0.0</td><td>False</td><td>0.9793332</td><td>31.0</td><td>0.27097058</td><td>4.3250566</td><td>-0.16723035</td><td>1.0452632</td><td>-3.4603379</td><td>0.95422</td><td>S</td><td>35185543482441927</td><td>2305843009213693952</td><td>0</td><td>81920</td><td>0.16264253245845706</td><td>7</td><td>1050</td><td>1</td><td>40791</td></tr>\n",
       "<tr><td>8000</td><td>279282</td><td>1447m090</td><td>526</td><td>PSF</td><td>144.85804026023786</td><td>399155270000000.0</td><td>-9.009084474270196</td><td>268471510000000.0</td><td>314114.25 .. 0.0</td><td>0.04430363</td><td>28.202503</td><td>56.331577</td><td>80.62253</td><td>127.694</td><td>37.910965</td><td>14.19346</td><td>0.8770882</td><td>0.9154467</td><td>0.95178604</td><td>1.9521805e-05</td><td>1.0847106e-05</td><td>7.47196e-05</td><td>0.0030491613</td><td>0.0058713346</td><td>0.016264366</td><td>0.99982876</td><td>0.9998715</td><td>0.9997742</td><td>1</td><td>1</td><td>1</td><td>366.48718</td><td>285.01367</td><td>33.82256</td><td>293.5782</td><td>158.6204</td><td>16.380924</td><td>32.607166</td><td>17.018642</td><td>5.145562</td><td>-620.1642</td><td>3.246848</td><td>0.6065762</td><td>0.0008056956</td><td>9.9923955e-06</td><td>0.99252</td><td>0.99539965</td><td>0.99901706</td><td>0.9996287</td><td>0</td><td>0</td><td>0</td><td>21.89641</td><td>43.73581</td><td>62.59529</td><td>21.89641</td><td>43.73581</td><td>62.59529</td><td>2015.5</td><td>0</td><td>0</td><td>0</td><td>0.0</td><td>0.0</td><td>0.0</td><td>0.0</td><td>0.0</td><td>0.0</td><td>0.0</td><td>0.0</td><td>0.0</td><td>0.0</td><td>0.0</td><td>0.0</td><td>0.0</td><td>0.0</td><td>5740857968795320448</td><td>G2</td><td>18.254995</td><td>391.32788</td><td>18.814306</td><td>74.30405</td><td>17.574455</td><td>45.311108</td><td>1.2353414</td><td>0.0</td><td>False</td><td>0.42210954</td><td>31.0</td><td>0.1841971</td><td>26.336164</td><td>-4.929008</td><td>7.69803</td><td>-1.8787243</td><td>6.630529</td><td>S</td><td>35185543482442254</td><td>2305843009213693952</td><td>0</td><td>33</td><td>0.6695692747287785</td><td>7</td><td>1100</td><td>1</td><td>40791</td></tr>\n",
       "<tr><td>...</td><td>...</td><td>...</td><td>...</td><td>...</td><td>...</td><td>...</td><td>...</td><td>...</td><td>...</td><td>...</td><td>...</td><td>...</td><td>...</td><td>...</td><td>...</td><td>...</td><td>...</td><td>...</td><td>...</td><td>...</td><td>...</td><td>...</td><td>...</td><td>...</td><td>...</td><td>...</td><td>...</td><td>...</td><td>...</td><td>...</td><td>...</td><td>...</td><td>...</td><td>...</td><td>...</td><td>...</td><td>...</td><td>...</td><td>...</td><td>...</td><td>...</td><td>...</td><td>...</td><td>...</td><td>...</td><td>...</td><td>...</td><td>...</td><td>...</td><td>...</td><td>...</td><td>...</td><td>...</td><td>...</td><td>...</td><td>...</td><td>...</td><td>...</td><td>...</td><td>...</td><td>...</td><td>...</td><td>...</td><td>...</td><td>...</td><td>...</td><td>...</td><td>...</td><td>...</td><td>...</td><td>...</td><td>...</td><td>...</td><td>...</td><td>...</td><td>...</td><td>...</td><td>...</td><td>...</td><td>...</td><td>...</td><td>...</td><td>...</td><td>...</td><td>...</td><td>...</td><td>...</td><td>...</td><td>...</td><td>...</td><td>...</td><td>...</td><td>...</td><td>...</td><td>...</td><td>...</td><td>...</td><td>...</td><td>...</td><td>...</td><td>...</td><td>...</td><td>...</td><td>...</td><td>...</td></tr>\n",
       "<tr><td>8000</td><td>317937</td><td>1323m022</td><td>4440</td><td>REX</td><td>132.46864715571635</td><td>3537374700.0</td><td>-2.1631033694941384</td><td>3705414100.0</td><td>146.41475 .. 0.0</td><td>0.017372489</td><td>0.3257211</td><td>0.32917795</td><td>0.7538271</td><td>814.7268</td><td>300.32623</td><td>64.18083</td><td>0.94987386</td><td>0.96595174</td><td>0.98080975</td><td>0.0</td><td>0.0</td><td>0.0</td><td>0.023825357</td><td>0.018649632</td><td>0.016182393</td><td>0.9827936</td><td>0.9857353</td><td>0.9883882</td><td>2</td><td>2</td><td>2</td><td>952.2266</td><td>362.7608</td><td>85.81311</td><td>623.6864</td><td>203.6797</td><td>36.41015</td><td>2.2918863</td><td>1.1939628</td><td>10.399342</td><td>520.02966</td><td>2.750674</td><td>0.5199538</td><td>0.0006941382</td><td>8.827607e-06</td><td>0.99706024</td><td>0.99819356</td><td>0.9996145</td><td>0.9998544</td><td>0</td><td>0</td><td>0</td><td>0.23277119</td><td>0.23524155</td><td>0.53871006</td><td>0.23277119</td><td>0.23524155</td><td>0.53871006</td><td>0.0</td><td>0</td><td>0</td><td>0</td><td>0.0</td><td>0.0</td><td>0.0</td><td>0.0</td><td>0.0</td><td>0.0</td><td>0.0</td><td>0.0</td><td>0.19977832</td><td>0.0</td><td>0.0</td><td>181.94484</td><td>0.0</td><td>0.0</td><td>0</td><td></td><td>0.0</td><td>0.0</td><td>0.0</td><td>0.0</td><td>0.0</td><td>0.0</td><td>0.0</td><td>0.0</td><td>False</td><td>0.0</td><td>0.0</td><td>0.0</td><td>0.0</td><td>0.0</td><td>0.0</td><td>0.0</td><td>0.0</td><td>S</td><td>35185705613267288</td><td>2748779072002</td><td>0</td><td>0</td><td>0.9398693358925213</td><td>3</td><td>3000</td><td>1</td><td>40954</td></tr>\n",
       "<tr><td>8000</td><td>317937</td><td>1323m022</td><td>4528</td><td>REX</td><td>132.49100229372274</td><td>9319193000.0</td><td>-2.158044955993305</td><td>9547798000.0</td><td>533.99567 .. 0.0</td><td>0.017335428</td><td>0.46031302</td><td>0.72111154</td><td>1.5245653</td><td>971.03394</td><td>345.43552</td><td>73.845345</td><td>0.94997805</td><td>0.96602315</td><td>0.9808503</td><td>0.0008650177</td><td>0.0014919102</td><td>0.0009336745</td><td>0.019080743</td><td>0.016438942</td><td>0.012766346</td><td>0.9918125</td><td>0.993703</td><td>0.9948146</td><td>3</td><td>3</td><td>3</td><td>1395.2457</td><td>549.44196</td><td>155.33784</td><td>933.9986</td><td>325.20383</td><td>66.04773</td><td>3.176616</td><td>4.7642355</td><td>46.499863</td><td>-1194.2489</td><td>2.651267</td><td>0.5144667</td><td>0.00069158315</td><td>8.854181e-06</td><td>0.9970665</td><td>0.99819744</td><td>0.99961525</td><td>0.99985474</td><td>0</td><td>0</td><td>0</td><td>0.27087083</td><td>0.42433754</td><td>0.89712936</td><td>0.27087083</td><td>0.42433754</td><td>0.89712936</td><td>0.0</td><td>0</td><td>0</td><td>0</td><td>0.0</td><td>0.0</td><td>0.0</td><td>0.0</td><td>0.0</td><td>0.0</td><td>0.0</td><td>0.0</td><td>0.38812527</td><td>0.0</td><td>0.0</td><td>785.007</td><td>0.0</td><td>0.0</td><td>0</td><td></td><td>0.0</td><td>0.0</td><td>0.0</td><td>0.0</td><td>0.0</td><td>0.0</td><td>0.0</td><td>0.0</td><td>False</td><td>0.0</td><td>0.0</td><td>0.0</td><td>0.0</td><td>0.0</td><td>0.0</td><td>0.0</td><td>0.0</td><td>S</td><td>35185705613267376</td><td>4123168608002</td><td>0</td><td>0</td><td>0.889230802666531</td><td>3</td><td>3000</td><td>1</td><td>40954</td></tr>\n",
       "<tr><td>8000</td><td>317937</td><td>1323m022</td><td>4536</td><td>EXP</td><td>132.47873809354152</td><td>5106674700.0</td><td>-2.158701677380128</td><td>6264578600.0</td><td>336.1819 .. 318.2729</td><td>0.017380895</td><td>0.3996224</td><td>0.72557664</td><td>1.8292038</td><td>752.0244</td><td>256.87668</td><td>49.628067</td><td>0.9498502</td><td>0.9659355</td><td>0.9808005</td><td>0.0</td><td>0.0</td><td>0.0</td><td>0.022624824</td><td>0.019288577</td><td>0.012660547</td><td>0.9814734</td><td>0.9848715</td><td>0.9896268</td><td>3</td><td>3</td><td>3</td><td>1395.2457</td><td>549.44196</td><td>155.33784</td><td>933.9986</td><td>325.20383</td><td>66.04773</td><td>4.909308</td><td>5.7768283</td><td>-114.04341</td><td>-639.6292</td><td>2.6490679</td><td>0.5159151</td><td>0.0006905444</td><td>8.970457e-06</td><td>0.9970588</td><td>0.99819267</td><td>0.9996143</td><td>0.9998543</td><td>0</td><td>0</td><td>0</td><td>0.18419603</td><td>0.33443654</td><td>0.8431261</td><td>0.18419603</td><td>0.33443654</td><td>0.8431261</td><td>0.0</td><td>0</td><td>0</td><td>0</td><td>0.0</td><td>0.0</td><td>0.0</td><td>0.0</td><td>0.0</td><td>0.0</td><td>0.0</td><td>0.0</td><td>0.7637986</td><td>-0.110274926</td><td>-0.29525307</td><td>287.94003</td><td>103.53765</td><td>161.35553</td><td>0</td><td></td><td>0.0</td><td>0.0</td><td>0.0</td><td>0.0</td><td>0.0</td><td>0.0</td><td>0.0</td><td>0.0</td><td>False</td><td>0.0</td><td>0.0</td><td>0.0</td><td>0.0</td><td>0.0</td><td>0.0</td><td>0.0</td><td>0.0</td><td>S</td><td>35185705613267384</td><td>274877907202</td><td>0</td><td>0</td><td>0.9250187704230866</td><td>3</td><td>3000</td><td>1</td><td>40954</td></tr>\n",
       "<tr><td>8000</td><td>317937</td><td>1323m022</td><td>4621</td><td>DEV</td><td>132.48078785774786</td><td>506879740000.0</td><td>-2.1528817531226303</td><td>377643300000.0</td><td>18987.44 .. 21662.26</td><td>0.017452398</td><td>1.2039846</td><td>6.747318</td><td>18.86254</td><td>576.73376</td><td>171.25598</td><td>36.701767</td><td>0.94964916</td><td>0.96579784</td><td>0.9807223</td><td>0.219195</td><td>0.09882448</td><td>0.04154975</td><td>0.019672092</td><td>0.016719349</td><td>0.01691792</td><td>0.9999901</td><td>0.9999899</td><td>0.9999994</td><td>3</td><td>3</td><td>3</td><td>1395.2457</td><td>549.44196</td><td>155.33784</td><td>933.9986</td><td>325.20383</td><td>66.04773</td><td>41.0929</td><td>24.39205</td><td>64.622604</td><td>-2534.2437</td><td>2.494839</td><td>0.49671918</td><td>0.00066417624</td><td>8.83748e-06</td><td>0.9970467</td><td>0.9981853</td><td>0.9996127</td><td>0.99985373</td><td>0</td><td>0</td><td>0</td><td>0.5177355</td><td>2.9014704</td><td>8.111238</td><td>0.5178282</td><td>2.9018087</td><td>8.112004</td><td>0.0</td><td>0</td><td>0</td><td>0</td><td>1.0</td><td>1.0</td><td>0.791646</td><td>0.21973006</td><td>0.17452615</td><td>7521.416</td><td>4955.982</td><td>4317.614</td><td>0.0</td><td>0.0</td><td>0.0</td><td>0.0</td><td>0.0</td><td>0.0</td><td>0</td><td></td><td>0.0</td><td>0.0</td><td>0.0</td><td>0.0</td><td>0.0</td><td>0.0</td><td>0.0</td><td>0.0</td><td>False</td><td>0.0</td><td>0.0</td><td>0.0</td><td>0.0</td><td>0.0</td><td>0.0</td><td>0.0</td><td>0.0</td><td>S</td><td>35185705613267469</td><td>1152921504623624209</td><td>262148</td><td>0</td><td>0.9215868334267505</td><td>5</td><td>3200</td><td>4</td><td>40954</td></tr>\n",
       "<tr><td>8000</td><td>317937</td><td>1323m022</td><td>4622</td><td>PSF</td><td>132.47901511321874</td><td>64128010000.0</td><td>-2.1550555494562054</td><td>63045616000.0</td><td>1294.375 .. 0.0</td><td>0.017430034</td><td>0.14172226</td><td>0.56218547</td><td>2.777831</td><td>1361.9061</td><td>523.9995</td><td>142.7921</td><td>0.94971204</td><td>0.9658409</td><td>0.9807468</td><td>0.00050707895</td><td>0.0004571325</td><td>0.00022774517</td><td>0.030874362</td><td>0.025816418</td><td>0.028895507</td><td>0.9931781</td><td>0.99401337</td><td>0.99602497</td><td>3</td><td>3</td><td>3</td><td>1395.2457</td><td>549.44196</td><td>155.33784</td><td>933.9986</td><td>325.20383</td><td>66.04773</td><td>2.7132857</td><td>3.876106</td><td>50.227818</td><td>990.2976</td><td>2.7781317</td><td>0.5346789</td><td>0.00071806327</td><td>8.595161e-06</td><td>0.99705046</td><td>0.9981876</td><td>0.99961317</td><td>0.9998539</td><td>0</td><td>0</td><td>0</td><td>0.110348</td><td>0.43772966</td><td>2.162879</td><td>0.110348426</td><td>0.43773204</td><td>2.1628857</td><td>0.0</td><td>0</td><td>0</td><td>0</td><td>0.0</td><td>0.0</td><td>0.0</td><td>0.0</td><td>0.0</td><td>0.0</td><td>0.0</td><td>0.0</td><td>0.0</td><td>0.0</td><td>0.0</td><td>0.0</td><td>0.0</td><td>0.0</td><td>0</td><td></td><td>0.0</td><td>0.0</td><td>0.0</td><td>0.0</td><td>0.0</td><td>0.0</td><td>0.0</td><td>0.0</td><td>False</td><td>0.0</td><td>0.0</td><td>0.0</td><td>0.0</td><td>0.0</td><td>0.0</td><td>0.0</td><td>0.0</td><td>S</td><td>35185705613267470</td><td>144115188075986948</td><td>0</td><td>0</td><td>0.7567786712226161</td><td>1</td><td>3400</td><td>4</td><td>40954</td></tr>\n",
       "<tr><td>8000</td><td>317937</td><td>1323m022</td><td>4637</td><td>REX</td><td>132.47231970173783</td><td>883571650.0</td><td>-2.1544816962036593</td><td>886658000.0</td><td>79.49408 .. 0.0</td><td>0.017465916</td><td>0.5327815</td><td>0.7610621</td><td>2.808882</td><td>182.59167</td><td>51.201622</td><td>13.775293</td><td>0.9496112</td><td>0.9657718</td><td>0.9807075</td><td>0.0</td><td>0.0</td><td>0.0</td><td>0.14857565</td><td>0.14558353</td><td>0.14387468</td><td>0.8641627</td><td>0.8819952</td><td>0.889956</td><td>2</td><td>2</td><td>3</td><td>952.2266</td><td>362.7608</td><td>155.33784</td><td>623.6864</td><td>203.6797</td><td>66.04773</td><td>2.153041</td><td>1.307939</td><td>42.848587</td><td>138.18027</td><td>2.2770765</td><td>0.44607</td><td>0.000620399</td><td>8.2202305e-06</td><td>0.99704444</td><td>0.99818385</td><td>0.9996124</td><td>0.9998536</td><td>0</td><td>0</td><td>0</td><td>0.10054451</td><td>0.14362478</td><td>0.5300816</td><td>0.10054451</td><td>0.14362478</td><td>0.5300816</td><td>0.0</td><td>0</td><td>0</td><td>0</td><td>0.0</td><td>0.0</td><td>0.0</td><td>0.0</td><td>0.0</td><td>0.0</td><td>0.0</td><td>0.0</td><td>1.3953019</td><td>0.0</td><td>0.0</td><td>91.067894</td><td>0.0</td><td>0.0</td><td>0</td><td></td><td>0.0</td><td>0.0</td><td>0.0</td><td>0.0</td><td>0.0</td><td>0.0</td><td>0.0</td><td>0.0</td><td>False</td><td>0.0</td><td>0.0</td><td>0.0</td><td>0.0</td><td>0.0</td><td>0.0</td><td>0.0</td><td>0.0</td><td>S</td><td>35185705613267485</td><td>274877907202</td><td>0</td><td>0</td><td>0.8273370735973848</td><td>3</td><td>3000</td><td>1</td><td>40954</td></tr>\n",
       "<tr><td>8000</td><td>317937</td><td>1323m022</td><td>4782</td><td>REX</td><td>132.4915255528148</td><td>2062187800.0</td><td>-2.1480266393521865</td><td>2134309400.0</td><td>155.68173 .. 0.0</td><td>0.017474696</td><td>0.33434355</td><td>0.40044072</td><td>0.45612627</td><td>898.3367</td><td>318.0087</td><td>64.342316</td><td>0.9495865</td><td>0.96575487</td><td>0.98069793</td><td>0.0</td><td>0.0</td><td>0.0</td><td>0.025938049</td><td>0.021778954</td><td>0.0147049455</td><td>0.98609364</td><td>0.9880681</td><td>0.9906657</td><td>3</td><td>3</td><td>3</td><td>1395.2457</td><td>549.44196</td><td>155.33784</td><td>933.9986</td><td>325.20383</td><td>66.04773</td><td>0.70844907</td><td>-0.45470342</td><td>-40.31452</td><td>-334.9862</td><td>2.7023225</td><td>0.52419907</td><td>0.0006990543</td><td>8.891973e-06</td><td>0.99704295</td><td>0.99818295</td><td>0.9996122</td><td>0.99985355</td><td>0</td><td>0</td><td>0</td><td>0.18119767</td><td>0.21701907</td><td>0.24719788</td><td>0.18119767</td><td>0.21701907</td><td>0.24719788</td><td>0.0</td><td>0</td><td>0</td><td>0</td><td>0.0</td><td>0.0</td><td>0.0</td><td>0.0</td><td>0.0</td><td>0.0</td><td>0.0</td><td>0.0</td><td>0.45427006</td><td>0.0</td><td>0.0</td><td>172.3805</td><td>0.0</td><td>0.0</td><td>0</td><td></td><td>0.0</td><td>0.0</td><td>0.0</td><td>0.0</td><td>0.0</td><td>0.0</td><td>0.0</td><td>0.0</td><td>False</td><td>0.0</td><td>0.0</td><td>0.0</td><td>0.0</td><td>0.0</td><td>0.0</td><td>0.0</td><td>0.0</td><td>S</td><td>35185705613267630</td><td>274877907202</td><td>0</td><td>0</td><td>0.10725105666127432</td><td>3</td><td>3000</td><td>1</td><td>40954</td></tr>\n",
       "<tr><td>8000</td><td>317937</td><td>1323m022</td><td>4895</td><td>REX</td><td>132.4969134981647</td><td>1676144600.0</td><td>-2.1426782274710097</td><td>1638090600.0</td><td>143.76485 .. 0.0</td><td>0.017524544</td><td>0.40259853</td><td>0.61565775</td><td>1.5668638</td><td>512.23486</td><td>164.37111</td><td>28.004913</td><td>0.9494464</td><td>0.9656589</td><td>0.9806434</td><td>0.0</td><td>0.0</td><td>0.0</td><td>0.051443186</td><td>0.04236396</td><td>0.03298893</td><td>0.9691609</td><td>0.97483873</td><td>0.9796763</td><td>3</td><td>3</td><td>3</td><td>1395.2457</td><td>549.44196</td><td>155.33784</td><td>933.9986</td><td>325.20383</td><td>66.04773</td><td>2.0540617</td><td>2.839879</td><td>-10.799191</td><td>1087.5249</td><td>2.4904735</td><td>0.48623556</td><td>0.0006020394</td><td>8.774176e-06</td><td>0.9970345</td><td>0.99817777</td><td>0.9996111</td><td>0.99985313</td><td>0</td><td>0</td><td>0</td><td>0.12733708</td><td>0.19472516</td><td>0.4955802</td><td>0.12733708</td><td>0.19472516</td><td>0.4955802</td><td>0.0</td><td>0</td><td>0</td><td>0</td><td>0.0</td><td>0.0</td><td>0.0</td><td>0.0</td><td>0.0</td><td>0.0</td><td>0.0</td><td>0.0</td><td>0.89553916</td><td>0.0</td><td>0.0</td><td>165.42651</td><td>0.0</td><td>0.0</td><td>0</td><td></td><td>0.0</td><td>0.0</td><td>0.0</td><td>0.0</td><td>0.0</td><td>0.0</td><td>0.0</td><td>0.0</td><td>False</td><td>0.0</td><td>0.0</td><td>0.0</td><td>0.0</td><td>0.0</td><td>0.0</td><td>0.0</td><td>0.0</td><td>S</td><td>35185705613267743</td><td>274877907202</td><td>0</td><td>0</td><td>0.3406395251093095</td><td>3</td><td>3000</td><td>1</td><td>40954</td></tr>\n",
       "<tr><td>8000</td><td>317937</td><td>1323m022</td><td>4921</td><td>REX</td><td>132.49336226271808</td><td>9859508000.0</td><td>-2.1402023543111834</td><td>10216578000.0</td><td>585.6365 .. 0.0</td><td>0.017570646</td><td>0.60061204</td><td>0.6710091</td><td>0.91366965</td><td>1028.0853</td><td>383.03714</td><td>86.12756</td><td>0.9493168</td><td>0.96557015</td><td>0.98059297</td><td>0.33398196</td><td>0.25006524</td><td>0.06405782</td><td>0.0136003075</td><td>0.010937723</td><td>0.0120773185</td><td>0.9980886</td><td>0.99823445</td><td>0.9983074</td><td>3</td><td>3</td><td>3</td><td>1395.2457</td><td>549.44196</td><td>155.33784</td><td>933.9986</td><td>325.20383</td><td>66.04773</td><td>1.342697</td><td>4.168709</td><td>-148.75314</td><td>2041.1224</td><td>2.710231</td><td>0.5214256</td><td>0.0007076668</td><td>9.007458e-06</td><td>0.99702674</td><td>0.998173</td><td>0.99961007</td><td>0.9998527</td><td>0</td><td>0</td><td>0</td><td>0.38216498</td><td>0.4269581</td><td>0.58136123</td><td>0.39538637</td><td>0.44218424</td><td>0.5930669</td><td>0.0</td><td>0</td><td>0</td><td>0</td><td>0.0</td><td>0.0</td><td>0.0</td><td>0.0</td><td>0.0</td><td>0.0</td><td>0.0</td><td>0.0</td><td>0.32060897</td><td>0.0</td><td>0.0</td><td>674.4253</td><td>0.0</td><td>0.0</td><td>0</td><td></td><td>0.0</td><td>0.0</td><td>0.0</td><td>0.0</td><td>0.0</td><td>0.0</td><td>0.0</td><td>0.0</td><td>False</td><td>0.0</td><td>0.0</td><td>0.0</td><td>0.0</td><td>0.0</td><td>0.0</td><td>0.0</td><td>0.0</td><td>S</td><td>35185705613267769</td><td>4123168608002</td><td>0</td><td>0</td><td>0.7139361033145062</td><td>3</td><td>3000</td><td>1</td><td>40954</td></tr>\n",
       "<tr><td>8000</td><td>317937</td><td>1323m022</td><td>4922</td><td>PSF</td><td>132.49375084337808</td><td>20709124000.0</td><td>-2.140385810524833</td><td>21741605000.0</td><td>918.3391 .. 0.0</td><td>0.01756684</td><td>0.66586155</td><td>0.76682574</td><td>0.58952665</td><td>1273.9502</td><td>512.52277</td><td>150.52725</td><td>0.9493275</td><td>0.9655775</td><td>0.98059714</td><td>0.21238004</td><td>0.13922061</td><td>0.08754076</td><td>0.020016685</td><td>0.014139376</td><td>0.02156625</td><td>0.99536264</td><td>0.99580085</td><td>0.99625343</td><td>3</td><td>3</td><td>3</td><td>1395.2457</td><td>549.44196</td><td>155.33784</td><td>933.9986</td><td>325.20383</td><td>66.04773</td><td>0.5513021</td><td>-2.6333756</td><td>153.68024</td><td>-1751.1388</td><td>2.7568624</td><td>0.527826</td><td>0.00071615924</td><td>9.072077e-06</td><td>0.9970274</td><td>0.99817336</td><td>0.9996101</td><td>0.9998528</td><td>0</td><td>0</td><td>0</td><td>0.51781076</td><td>0.59632605</td><td>0.4584485</td><td>0.54146653</td><td>0.6227545</td><td>0.49443442</td><td>0.0</td><td>0</td><td>0</td><td>0</td><td>0.0</td><td>0.0</td><td>0.0</td><td>0.0</td><td>0.0</td><td>0.0</td><td>0.0</td><td>0.0</td><td>0.0</td><td>0.0</td><td>0.0</td><td>0.0</td><td>0.0</td><td>0.0</td><td>0</td><td></td><td>0.0</td><td>0.0</td><td>0.0</td><td>0.0</td><td>0.0</td><td>0.0</td><td>0.0</td><td>0.0</td><td>False</td><td>0.0</td><td>0.0</td><td>0.0</td><td>0.0</td><td>0.0</td><td>0.0</td><td>0.0</td><td>0.0</td><td>S</td><td>35185705613267770</td><td>824633721602</td><td>0</td><td>0</td><td>0.10383239663905897</td><td>3</td><td>3000</td><td>1</td><td>40954</td></tr>\n",
       "</table>"
      ],
      "text/plain": [
       "<Table length=1178683>\n",
       "RELEASE BRICKID BRICKNAME BRICK_OBJID ... PRIORITY_INIT NUMOBS_INIT HPXPIXEL\n",
       " int16   int32    bytes8     int32    ...     int64        int64     int64  \n",
       "------- ------- --------- ----------- ... ------------- ----------- --------\n",
       "   8000  323702  1336m012        5007 ...          1050           1    40958\n",
       "   8000  325152  1361m010        2375 ...          1050           1    40957\n",
       "   8000  279285  1454m090          63 ...          1050           1    40789\n",
       "   8000  279283  1449m090           6 ...          1050           1    40791\n",
       "   8000  279283  1449m090          31 ...          1100           1    40791\n",
       "   8000  279282  1447m090         294 ...          1100           1    40791\n",
       "   8000  279282  1447m090         295 ...          1100           1    40791\n",
       "   8000  279282  1447m090          45 ...          1100           1    40791\n",
       "   8000  279282  1447m090         199 ...          1050           1    40791\n",
       "   8000  279282  1447m090         526 ...          1100           1    40791\n",
       "    ...     ...       ...         ... ...           ...         ...      ...\n",
       "   8000  317937  1323m022        4440 ...          3000           1    40954\n",
       "   8000  317937  1323m022        4528 ...          3000           1    40954\n",
       "   8000  317937  1323m022        4536 ...          3000           1    40954\n",
       "   8000  317937  1323m022        4621 ...          3200           4    40954\n",
       "   8000  317937  1323m022        4622 ...          3400           4    40954\n",
       "   8000  317937  1323m022        4637 ...          3000           1    40954\n",
       "   8000  317937  1323m022        4782 ...          3000           1    40954\n",
       "   8000  317937  1323m022        4895 ...          3000           1    40954\n",
       "   8000  317937  1323m022        4921 ...          3000           1    40954\n",
       "   8000  317937  1323m022        4922 ...          3000           1    40954"
      ]
     },
     "execution_count": 5,
     "metadata": {},
     "output_type": "execute_result"
    }
   ],
   "source": [
    "targets"
   ]
  },
  {
   "cell_type": "markdown",
   "metadata": {},
   "source": [
    "Call to create a ledger from the targets:"
   ]
  },
  {
   "cell_type": "code",
   "execution_count": null,
   "metadata": {},
   "outputs": [],
   "source": [
    "# ! make_ledger('/project/projectdirs/desi/target/catalogs/dr8/0.39.0/targets/sv/resolve/dark/', '/global/cscratch1/sd/adamyers/egledger/mtl/sv1/dark/', obscon=\"DARK\", numproc=1)"
   ]
  },
  {
   "cell_type": "markdown",
   "metadata": {},
   "source": [
    "Retrieve a pre-created version, or run above, which ones are available?"
   ]
  },
  {
   "cell_type": "code",
   "execution_count": 23,
   "metadata": {},
   "outputs": [],
   "source": [
    "ledgers = glob.glob('/global/cscratch1/sd/adamyers/egledger/mtl/sv1/dark/*.ecsv')"
   ]
  },
  {
   "cell_type": "code",
   "execution_count": 25,
   "metadata": {},
   "outputs": [
    {
     "data": {
      "text/plain": [
       "['/global/cscratch1/sd/adamyers/egledger/mtl/sv1/dark/sv1mtl-dark-hp-4282.ecsv',\n",
       " '/global/cscratch1/sd/adamyers/egledger/mtl/sv1/dark/sv1mtl-dark-hp-4923.ecsv',\n",
       " '/global/cscratch1/sd/adamyers/egledger/mtl/sv1/dark/sv1mtl-dark-hp-8442.ecsv',\n",
       " '/global/cscratch1/sd/adamyers/egledger/mtl/sv1/dark/sv1mtl-dark-hp-8156.ecsv',\n",
       " '/global/cscratch1/sd/adamyers/egledger/mtl/sv1/dark/sv1mtl-dark-hp-2237.ecsv',\n",
       " '/global/cscratch1/sd/adamyers/egledger/mtl/sv1/dark/sv1mtl-dark-hp-1974.ecsv',\n",
       " '/global/cscratch1/sd/adamyers/egledger/mtl/sv1/dark/sv1mtl-dark-hp-5036.ecsv',\n",
       " '/global/cscratch1/sd/adamyers/egledger/mtl/sv1/dark/sv1mtl-dark-hp-2683.ecsv',\n",
       " '/global/cscratch1/sd/adamyers/egledger/mtl/sv1/dark/sv1mtl-dark-hp-6481.ecsv',\n",
       " '/global/cscratch1/sd/adamyers/egledger/mtl/sv1/dark/sv1mtl-dark-hp-4765.ecsv']"
      ]
     },
     "execution_count": 25,
     "metadata": {},
     "output_type": "execute_result"
    }
   ],
   "source": [
    "ledgers[:10]"
   ]
  },
  {
   "cell_type": "code",
   "execution_count": 41,
   "metadata": {},
   "outputs": [],
   "source": [
    "# Only healpixels with targets are processed.\n",
    "hpxls = np.array([x.split('-')[-1].replace('.ecsv', '') for x in ledgers]).astype(np.int)\n",
    "hpxls = np.unique(hpxls)"
   ]
  },
  {
   "cell_type": "code",
   "execution_count": 42,
   "metadata": {},
   "outputs": [
    {
     "data": {
      "text/plain": [
       "array([    0,     1,     2, ..., 12285, 12286, 12287])"
      ]
     },
     "execution_count": 42,
     "metadata": {},
     "output_type": "execute_result"
    }
   ],
   "source": [
    "hpxls"
   ]
  },
  {
   "cell_type": "code",
   "execution_count": 68,
   "metadata": {},
   "outputs": [],
   "source": [
    "# HEALPixel-split ledger files generated from the standard target files.\n",
    "# A new data model that includes a state for each target, a timestamp for when a target's state was updated,\n",
    "# and the desitarget code version that was used to update the target's state.\n",
    "ledger = read_mtl_ledger('/global/cscratch1/sd/adamyers/egledger/mtl/sv1/dark/sv1mtl-dark-hp-8400.ecsv')"
   ]
  },
  {
   "cell_type": "code",
   "execution_count": 69,
   "metadata": {},
   "outputs": [
    {
     "data": {
      "text/html": [
       "<i>Table length=33457</i>\n",
       "<table id=\"table46913837409712\" class=\"table-striped table-bordered table-condensed\">\n",
       "<thead><tr><th>RA</th><th>DEC</th><th>REF_EPOCH</th><th>PARALLAX</th><th>PMRA</th><th>PMDEC</th><th>TARGETID</th><th>SV1_DESI_TARGET</th><th>SV1_BGS_TARGET</th><th>SV1_MWS_TARGET</th><th>SUBPRIORITY</th><th>OBSCONDITIONS</th><th>PRIORITY_INIT</th><th>NUMOBS_INIT</th><th>SV1_SCND_TARGET</th><th>NUMOBS_MORE</th><th>NUMOBS</th><th>Z</th><th>ZWARN</th><th>TARGET_STATE</th><th>TIMESTAMP</th><th>VERSION</th><th>PRIORITY</th></tr></thead>\n",
       "<thead><tr><th>float64</th><th>float64</th><th>float32</th><th>float32</th><th>float32</th><th>float32</th><th>int64</th><th>int64</th><th>int64</th><th>int64</th><th>float64</th><th>int32</th><th>int64</th><th>int64</th><th>int64</th><th>int64</th><th>int64</th><th>float64</th><th>int64</th><th>bytes15</th><th>bytes19</th><th>bytes14</th><th>int64</th></tr></thead>\n",
       "<tr><td>54.001323804796705</td><td>-60.42569957270399</td><td>0.0</td><td>0.0</td><td>0.0</td><td>0.0</td><td>35184552427132013</td><td>1152921504606846976</td><td>65537</td><td>0</td><td>0.8618050915964254</td><td>7</td><td>2000</td><td>1</td><td>0</td><td>1</td><td>0</td><td>-1.0</td><td>-1</td><td>BGS|UNOBS</td><td>2020-08-03T22:15:36</td><td>0.40.0.dev4055</td><td>2000</td></tr>\n",
       "<tr><td>53.98978693990547</td><td>-60.42437965201657</td><td>0.0</td><td>0.0</td><td>0.0</td><td>0.0</td><td>35184552427132036</td><td>1152921504606846976</td><td>65537</td><td>0</td><td>0.4107394842806541</td><td>7</td><td>2000</td><td>1</td><td>0</td><td>1</td><td>0</td><td>-1.0</td><td>-1</td><td>BGS|UNOBS</td><td>2020-08-03T22:15:36</td><td>0.40.0.dev4055</td><td>2000</td></tr>\n",
       "<tr><td>54.00065664480867</td><td>-60.413051892093264</td><td>2015.5</td><td>0.10409584</td><td>2.4167414</td><td>4.079133</td><td>35184552427132260</td><td>2305843009213693952</td><td>0</td><td>33</td><td>0.1470339168881155</td><td>7</td><td>1100</td><td>1</td><td>0</td><td>1</td><td>0</td><td>-1.0</td><td>-1</td><td>MWS|UNOBS</td><td>2020-08-03T22:15:36</td><td>0.40.0.dev4055</td><td>1100</td></tr>\n",
       "<tr><td>54.00388319697416</td><td>-60.40578902819227</td><td>0.0</td><td>0.0</td><td>0.0</td><td>0.0</td><td>35184552427132412</td><td>274877907202</td><td>0</td><td>0</td><td>0.6496099879231599</td><td>3</td><td>3000</td><td>1</td><td>0</td><td>1</td><td>0</td><td>-1.0</td><td>-1</td><td>ELG|UNOBS</td><td>2020-08-03T22:15:36</td><td>0.40.0.dev4055</td><td>3000</td></tr>\n",
       "<tr><td>54.02399665690195</td><td>-60.40574510577453</td><td>0.0</td><td>0.0</td><td>0.0</td><td>0.0</td><td>35184552427132416</td><td>1374389536002</td><td>0</td><td>0</td><td>0.42442337289694165</td><td>3</td><td>3000</td><td>1</td><td>0</td><td>1</td><td>0</td><td>-1.0</td><td>-1</td><td>ELG|UNOBS</td><td>2020-08-03T22:15:36</td><td>0.40.0.dev4055</td><td>3000</td></tr>\n",
       "<tr><td>54.0096905775631</td><td>-60.40490529851805</td><td>0.0</td><td>0.0</td><td>0.0</td><td>0.0</td><td>35184552427132422</td><td>1152921504632012825</td><td>65537</td><td>0</td><td>0.8709289184180781</td><td>7</td><td>3200</td><td>4</td><td>0</td><td>4</td><td>0</td><td>-1.0</td><td>-1</td><td>LRG|UNOBS</td><td>2020-08-03T22:15:36</td><td>0.40.0.dev4055</td><td>3200</td></tr>\n",
       "<tr><td>53.98612145219522</td><td>-60.40042332596103</td><td>0.0</td><td>0.0</td><td>0.0</td><td>0.0</td><td>35184552427132549</td><td>1374389536002</td><td>0</td><td>0</td><td>0.41114839187625174</td><td>3</td><td>3000</td><td>1</td><td>0</td><td>1</td><td>0</td><td>-1.0</td><td>-1</td><td>ELG|UNOBS</td><td>2020-08-03T22:15:36</td><td>0.40.0.dev4055</td><td>3000</td></tr>\n",
       "<tr><td>54.03456513256729</td><td>-60.39866568329702</td><td>0.0</td><td>0.0</td><td>0.0</td><td>0.0</td><td>35184552427132574</td><td>4123168608002</td><td>0</td><td>0</td><td>0.296180351317749</td><td>3</td><td>3000</td><td>1</td><td>0</td><td>1</td><td>0</td><td>-1.0</td><td>-1</td><td>ELG|UNOBS</td><td>2020-08-03T22:15:36</td><td>0.40.0.dev4055</td><td>3000</td></tr>\n",
       "<tr><td>54.04106232591186</td><td>-60.39820885464255</td><td>0.0</td><td>0.0</td><td>0.0</td><td>0.0</td><td>35184552427132582</td><td>1374389536002</td><td>0</td><td>0</td><td>0.07196373960610458</td><td>3</td><td>3000</td><td>1</td><td>0</td><td>1</td><td>0</td><td>-1.0</td><td>-1</td><td>ELG|UNOBS</td><td>2020-08-03T22:15:36</td><td>0.40.0.dev4055</td><td>3000</td></tr>\n",
       "<tr><td>53.94972457303881</td><td>-60.39871565989709</td><td>0.0</td><td>0.0</td><td>0.0</td><td>0.0</td><td>35184552427132600</td><td>3023656979202</td><td>0</td><td>0</td><td>0.03829076833345135</td><td>3</td><td>3000</td><td>1</td><td>0</td><td>1</td><td>0</td><td>-1.0</td><td>-1</td><td>ELG|UNOBS</td><td>2020-08-03T22:15:36</td><td>0.40.0.dev4055</td><td>3000</td></tr>\n",
       "<tr><td>...</td><td>...</td><td>...</td><td>...</td><td>...</td><td>...</td><td>...</td><td>...</td><td>...</td><td>...</td><td>...</td><td>...</td><td>...</td><td>...</td><td>...</td><td>...</td><td>...</td><td>...</td><td>...</td><td>...</td><td>...</td><td>...</td><td>...</td></tr>\n",
       "<tr><td>53.239385487001556</td><td>-57.46004639475924</td><td>0.0</td><td>0.0</td><td>0.0</td><td>0.0</td><td>35184589836126201</td><td>824700830531</td><td>0</td><td>0</td><td>0.4916266748328454</td><td>3</td><td>3200</td><td>8</td><td>0</td><td>8</td><td>0</td><td>-1.0</td><td>-1</td><td>LRG|UNOBS</td><td>2020-08-03T22:15:36</td><td>0.40.0.dev4055</td><td>3200</td></tr>\n",
       "<tr><td>53.2381880610812</td><td>-57.46089657690123</td><td>0.0</td><td>0.0</td><td>0.0</td><td>0.0</td><td>35184589836126203</td><td>1374389536002</td><td>0</td><td>0</td><td>0.09011530738589912</td><td>3</td><td>3000</td><td>1</td><td>0</td><td>1</td><td>0</td><td>-1.0</td><td>-1</td><td>ELG|UNOBS</td><td>2020-08-03T22:15:36</td><td>0.40.0.dev4055</td><td>3000</td></tr>\n",
       "<tr><td>53.255121294063855</td><td>-57.448343676891696</td><td>2015.5</td><td>0.9658223</td><td>12.586176</td><td>3.4512959</td><td>35184589836126368</td><td>2305843009213693952</td><td>0</td><td>33</td><td>0.8522949352386587</td><td>7</td><td>1100</td><td>1</td><td>0</td><td>1</td><td>0</td><td>-1.0</td><td>-1</td><td>MWS|UNOBS</td><td>2020-08-03T22:15:36</td><td>0.40.0.dev4055</td><td>1100</td></tr>\n",
       "<tr><td>53.241935031743175</td><td>-57.44719228751675</td><td>0.0</td><td>0.0</td><td>0.0</td><td>0.0</td><td>35184589836126384</td><td>824633721602</td><td>0</td><td>0</td><td>0.9451745592196716</td><td>3</td><td>3000</td><td>1</td><td>0</td><td>1</td><td>0</td><td>-1.0</td><td>-1</td><td>ELG|UNOBS</td><td>2020-08-03T22:15:36</td><td>0.40.0.dev4055</td><td>3000</td></tr>\n",
       "<tr><td>53.256068059790856</td><td>-57.44627105068773</td><td>0.0</td><td>0.0</td><td>0.0</td><td>0.0</td><td>35184589836126404</td><td>274877907202</td><td>0</td><td>0</td><td>0.3544081559297383</td><td>3</td><td>3000</td><td>1</td><td>0</td><td>1</td><td>0</td><td>-1.0</td><td>-1</td><td>ELG|UNOBS</td><td>2020-08-03T22:15:36</td><td>0.40.0.dev4055</td><td>3000</td></tr>\n",
       "<tr><td>53.22481970787932</td><td>-57.44482766879436</td><td>0.0</td><td>0.0</td><td>0.0</td><td>0.0</td><td>35184589836126421</td><td>824633721602</td><td>0</td><td>0</td><td>0.47503702795981206</td><td>3</td><td>3000</td><td>1</td><td>0</td><td>1</td><td>0</td><td>-1.0</td><td>-1</td><td>ELG|UNOBS</td><td>2020-08-03T22:15:36</td><td>0.40.0.dev4055</td><td>3000</td></tr>\n",
       "<tr><td>53.2196836492193</td><td>-57.44343901374039</td><td>0.0</td><td>0.0</td><td>0.0</td><td>0.0</td><td>35184589836126424</td><td>2748779072002</td><td>0</td><td>0</td><td>0.3232984753221332</td><td>3</td><td>3000</td><td>1</td><td>0</td><td>1</td><td>0</td><td>-1.0</td><td>-1</td><td>ELG|UNOBS</td><td>2020-08-03T22:15:36</td><td>0.40.0.dev4055</td><td>3000</td></tr>\n",
       "<tr><td>53.23663483568959</td><td>-57.4418668856492</td><td>0.0</td><td>0.0</td><td>0.0</td><td>0.0</td><td>35184589836126437</td><td>1152921504606846976</td><td>65537</td><td>0</td><td>0.13245461064957198</td><td>7</td><td>2000</td><td>1</td><td>0</td><td>1</td><td>0</td><td>-1.0</td><td>-1</td><td>BGS|UNOBS</td><td>2020-08-03T22:15:36</td><td>0.40.0.dev4055</td><td>2000</td></tr>\n",
       "<tr><td>53.239949245851115</td><td>-57.443590486737726</td><td>0.0</td><td>0.0</td><td>0.0</td><td>0.0</td><td>35184589836126438</td><td>824633721602</td><td>0</td><td>0</td><td>0.6680916695915924</td><td>3</td><td>3000</td><td>1</td><td>0</td><td>1</td><td>0</td><td>-1.0</td><td>-1</td><td>ELG|UNOBS</td><td>2020-08-03T22:15:36</td><td>0.40.0.dev4055</td><td>3000</td></tr>\n",
       "<tr><td>53.228672712566656</td><td>-57.44146976151331</td><td>2015.5</td><td>1.6597661</td><td>5.6015306</td><td>19.066349</td><td>35184589836126484</td><td>2305843009213693952</td><td>0</td><td>81920</td><td>0.9860800741133191</td><td>7</td><td>1050</td><td>1</td><td>0</td><td>1</td><td>0</td><td>-1.0</td><td>-1</td><td>MWS|UNOBS</td><td>2020-08-03T22:15:36</td><td>0.40.0.dev4055</td><td>1050</td></tr>\n",
       "</table>"
      ],
      "text/plain": [
       "<Table length=33457>\n",
       "        RA                 DEC         REF_EPOCH ...    VERSION     PRIORITY\n",
       "     float64             float64        float32  ...    bytes14      int64  \n",
       "------------------ ------------------- --------- ... -------------- --------\n",
       "54.001323804796705  -60.42569957270399       0.0 ... 0.40.0.dev4055     2000\n",
       " 53.98978693990547  -60.42437965201657       0.0 ... 0.40.0.dev4055     2000\n",
       " 54.00065664480867 -60.413051892093264    2015.5 ... 0.40.0.dev4055     1100\n",
       " 54.00388319697416  -60.40578902819227       0.0 ... 0.40.0.dev4055     3000\n",
       " 54.02399665690195  -60.40574510577453       0.0 ... 0.40.0.dev4055     3000\n",
       "  54.0096905775631  -60.40490529851805       0.0 ... 0.40.0.dev4055     3200\n",
       " 53.98612145219522  -60.40042332596103       0.0 ... 0.40.0.dev4055     3000\n",
       " 54.03456513256729  -60.39866568329702       0.0 ... 0.40.0.dev4055     3000\n",
       " 54.04106232591186  -60.39820885464255       0.0 ... 0.40.0.dev4055     3000\n",
       " 53.94972457303881  -60.39871565989709       0.0 ... 0.40.0.dev4055     3000\n",
       "               ...                 ...       ... ...            ...      ...\n",
       "53.239385487001556  -57.46004639475924       0.0 ... 0.40.0.dev4055     3200\n",
       "  53.2381880610812  -57.46089657690123       0.0 ... 0.40.0.dev4055     3000\n",
       "53.255121294063855 -57.448343676891696    2015.5 ... 0.40.0.dev4055     1100\n",
       "53.241935031743175  -57.44719228751675       0.0 ... 0.40.0.dev4055     3000\n",
       "53.256068059790856  -57.44627105068773       0.0 ... 0.40.0.dev4055     3000\n",
       " 53.22481970787932  -57.44482766879436       0.0 ... 0.40.0.dev4055     3000\n",
       "  53.2196836492193  -57.44343901374039       0.0 ... 0.40.0.dev4055     3000\n",
       " 53.23663483568959   -57.4418668856492       0.0 ... 0.40.0.dev4055     2000\n",
       "53.239949245851115 -57.443590486737726       0.0 ... 0.40.0.dev4055     3000\n",
       "53.228672712566656  -57.44146976151331    2015.5 ... 0.40.0.dev4055     1050"
      ]
     },
     "execution_count": 69,
     "metadata": {},
     "output_type": "execute_result"
    }
   ],
   "source": [
    "ledger = Table(ledger)\n",
    "ledger"
   ]
  },
  {
   "cell_type": "code",
   "execution_count": 70,
   "metadata": {},
   "outputs": [],
   "source": [
    "uids, cnts = np.unique(ledger['TARGETID'], return_counts=True)"
   ]
  },
  {
   "cell_type": "code",
   "execution_count": 71,
   "metadata": {},
   "outputs": [
    {
     "data": {
      "text/plain": [
       "array([1])"
      ]
     },
     "execution_count": 71,
     "metadata": {},
     "output_type": "execute_result"
    }
   ],
   "source": [
    "# Initialised ledger.\n",
    "np.unique(cnts)"
   ]
  },
  {
   "cell_type": "code",
   "execution_count": 72,
   "metadata": {},
   "outputs": [
    {
     "data": {
      "text/html": [
       "&lt;Column name=&apos;TIMESTAMP&apos; dtype=&apos;bytes19&apos; length=33457&gt;\n",
       "<table>\n",
       "<tr><td>2020-08-03T22:15:36</td></tr>\n",
       "<tr><td>2020-08-03T22:15:36</td></tr>\n",
       "<tr><td>2020-08-03T22:15:36</td></tr>\n",
       "<tr><td>2020-08-03T22:15:36</td></tr>\n",
       "<tr><td>2020-08-03T22:15:36</td></tr>\n",
       "<tr><td>2020-08-03T22:15:36</td></tr>\n",
       "<tr><td>2020-08-03T22:15:36</td></tr>\n",
       "<tr><td>2020-08-03T22:15:36</td></tr>\n",
       "<tr><td>2020-08-03T22:15:36</td></tr>\n",
       "<tr><td>2020-08-03T22:15:36</td></tr>\n",
       "<tr><td>2020-08-03T22:15:36</td></tr>\n",
       "<tr><td>2020-08-03T22:15:36</td></tr>\n",
       "<tr><td>...</td></tr>\n",
       "<tr><td>2020-08-03T22:15:36</td></tr>\n",
       "<tr><td>2020-08-03T22:15:36</td></tr>\n",
       "<tr><td>2020-08-03T22:15:36</td></tr>\n",
       "<tr><td>2020-08-03T22:15:36</td></tr>\n",
       "<tr><td>2020-08-03T22:15:36</td></tr>\n",
       "<tr><td>2020-08-03T22:15:36</td></tr>\n",
       "<tr><td>2020-08-03T22:15:36</td></tr>\n",
       "<tr><td>2020-08-03T22:15:36</td></tr>\n",
       "<tr><td>2020-08-03T22:15:36</td></tr>\n",
       "<tr><td>2020-08-03T22:15:36</td></tr>\n",
       "<tr><td>2020-08-03T22:15:36</td></tr>\n",
       "<tr><td>2020-08-03T22:15:36</td></tr>\n",
       "</table>"
      ],
      "text/plain": [
       "<Column name='TIMESTAMP' dtype='bytes19' length=33457>\n",
       "2020-08-03T22:15:36\n",
       "2020-08-03T22:15:36\n",
       "2020-08-03T22:15:36\n",
       "2020-08-03T22:15:36\n",
       "2020-08-03T22:15:36\n",
       "2020-08-03T22:15:36\n",
       "2020-08-03T22:15:36\n",
       "2020-08-03T22:15:36\n",
       "2020-08-03T22:15:36\n",
       "2020-08-03T22:15:36\n",
       "2020-08-03T22:15:36\n",
       "2020-08-03T22:15:36\n",
       "                ...\n",
       "2020-08-03T22:15:36\n",
       "2020-08-03T22:15:36\n",
       "2020-08-03T22:15:36\n",
       "2020-08-03T22:15:36\n",
       "2020-08-03T22:15:36\n",
       "2020-08-03T22:15:36\n",
       "2020-08-03T22:15:36\n",
       "2020-08-03T22:15:36\n",
       "2020-08-03T22:15:36\n",
       "2020-08-03T22:15:36\n",
       "2020-08-03T22:15:36\n",
       "2020-08-03T22:15:36"
      ]
     },
     "execution_count": 72,
     "metadata": {},
     "output_type": "execute_result"
    }
   ],
   "source": [
    "# Does this match up with fiberassign input arguments?  Did this rundate change?  Now YYYY-MM-DD.\n",
    "ledger['TIMESTAMP']"
   ]
  },
  {
   "cell_type": "code",
   "execution_count": 73,
   "metadata": {},
   "outputs": [
    {
     "data": {
      "text/html": [
       "&lt;Column name=&apos;VERSION&apos; dtype=&apos;bytes14&apos; length=33457&gt;\n",
       "<table>\n",
       "<tr><td>0.40.0.dev4055</td></tr>\n",
       "<tr><td>0.40.0.dev4055</td></tr>\n",
       "<tr><td>0.40.0.dev4055</td></tr>\n",
       "<tr><td>0.40.0.dev4055</td></tr>\n",
       "<tr><td>0.40.0.dev4055</td></tr>\n",
       "<tr><td>0.40.0.dev4055</td></tr>\n",
       "<tr><td>0.40.0.dev4055</td></tr>\n",
       "<tr><td>0.40.0.dev4055</td></tr>\n",
       "<tr><td>0.40.0.dev4055</td></tr>\n",
       "<tr><td>0.40.0.dev4055</td></tr>\n",
       "<tr><td>0.40.0.dev4055</td></tr>\n",
       "<tr><td>0.40.0.dev4055</td></tr>\n",
       "<tr><td>...</td></tr>\n",
       "<tr><td>0.40.0.dev4055</td></tr>\n",
       "<tr><td>0.40.0.dev4055</td></tr>\n",
       "<tr><td>0.40.0.dev4055</td></tr>\n",
       "<tr><td>0.40.0.dev4055</td></tr>\n",
       "<tr><td>0.40.0.dev4055</td></tr>\n",
       "<tr><td>0.40.0.dev4055</td></tr>\n",
       "<tr><td>0.40.0.dev4055</td></tr>\n",
       "<tr><td>0.40.0.dev4055</td></tr>\n",
       "<tr><td>0.40.0.dev4055</td></tr>\n",
       "<tr><td>0.40.0.dev4055</td></tr>\n",
       "<tr><td>0.40.0.dev4055</td></tr>\n",
       "<tr><td>0.40.0.dev4055</td></tr>\n",
       "</table>"
      ],
      "text/plain": [
       "<Column name='VERSION' dtype='bytes14' length=33457>\n",
       "0.40.0.dev4055\n",
       "0.40.0.dev4055\n",
       "0.40.0.dev4055\n",
       "0.40.0.dev4055\n",
       "0.40.0.dev4055\n",
       "0.40.0.dev4055\n",
       "0.40.0.dev4055\n",
       "0.40.0.dev4055\n",
       "0.40.0.dev4055\n",
       "0.40.0.dev4055\n",
       "0.40.0.dev4055\n",
       "0.40.0.dev4055\n",
       "           ...\n",
       "0.40.0.dev4055\n",
       "0.40.0.dev4055\n",
       "0.40.0.dev4055\n",
       "0.40.0.dev4055\n",
       "0.40.0.dev4055\n",
       "0.40.0.dev4055\n",
       "0.40.0.dev4055\n",
       "0.40.0.dev4055\n",
       "0.40.0.dev4055\n",
       "0.40.0.dev4055\n",
       "0.40.0.dev4055\n",
       "0.40.0.dev4055"
      ]
     },
     "execution_count": 73,
     "metadata": {},
     "output_type": "execute_result"
    }
   ],
   "source": [
    "ledger['VERSION']"
   ]
  },
  {
   "cell_type": "markdown",
   "metadata": {},
   "source": [
    "Create a (now default slimmed) mtl from the ledger files:"
   ]
  },
  {
   "cell_type": "code",
   "execution_count": 74,
   "metadata": {},
   "outputs": [
    {
     "name": "stdout",
     "output_type": "stream",
     "text": [
      "INFO:mtl.py:230:make_mtl: 11 of 33457 targets have priority zero, setting N_obs=0.\n",
      "INFO:mtl.py:293:make_mtl: Done...t=0.1s\n"
     ]
    }
   ],
   "source": [
    "# Columns are now automatically trimmed to a minimum necessary set in desitarget.mtl.make_mtl()\n",
    "mtl = make_mtl(ledger, obscon='DARK')"
   ]
  },
  {
   "cell_type": "code",
   "execution_count": 75,
   "metadata": {},
   "outputs": [
    {
     "data": {
      "text/html": [
       "<i>Table length=33457</i>\n",
       "<table id=\"table46913295687248\" class=\"table-striped table-bordered table-condensed\">\n",
       "<thead><tr><th>RA</th><th>DEC</th><th>REF_EPOCH</th><th>PARALLAX</th><th>PMRA</th><th>PMDEC</th><th>TARGETID</th><th>SV1_DESI_TARGET</th><th>SV1_BGS_TARGET</th><th>SV1_MWS_TARGET</th><th>SUBPRIORITY</th><th>OBSCONDITIONS</th><th>PRIORITY_INIT</th><th>NUMOBS_INIT</th><th>SV1_SCND_TARGET</th><th>NUMOBS_MORE</th><th>NUMOBS</th><th>Z</th><th>ZWARN</th><th>TARGET_STATE</th><th>TIMESTAMP</th><th>VERSION</th><th>PRIORITY</th></tr></thead>\n",
       "<thead><tr><th>float64</th><th>float64</th><th>float32</th><th>float32</th><th>float32</th><th>float32</th><th>int64</th><th>int64</th><th>int64</th><th>int64</th><th>float64</th><th>int32</th><th>int64</th><th>int64</th><th>int64</th><th>int64</th><th>int64</th><th>float64</th><th>int64</th><th>bytes15</th><th>bytes19</th><th>bytes14</th><th>int64</th></tr></thead>\n",
       "<tr><td>54.001323804796705</td><td>-60.42569957270399</td><td>0.0</td><td>0.0</td><td>0.0</td><td>0.0</td><td>35184552427132013</td><td>1152921504606846976</td><td>65537</td><td>0</td><td>0.8618050915964254</td><td>7</td><td>2000</td><td>1</td><td>0</td><td>1</td><td>0</td><td>-1.0</td><td>-1</td><td>BGS|UNOBS</td><td>2020-10-28T18:00:38</td><td>0.43.0.dev4234</td><td>2000</td></tr>\n",
       "<tr><td>53.98978693990547</td><td>-60.42437965201657</td><td>0.0</td><td>0.0</td><td>0.0</td><td>0.0</td><td>35184552427132036</td><td>1152921504606846976</td><td>65537</td><td>0</td><td>0.4107394842806541</td><td>7</td><td>2000</td><td>1</td><td>0</td><td>1</td><td>0</td><td>-1.0</td><td>-1</td><td>BGS|UNOBS</td><td>2020-10-28T18:00:38</td><td>0.43.0.dev4234</td><td>2000</td></tr>\n",
       "<tr><td>54.00065664480867</td><td>-60.413051892093264</td><td>2015.5</td><td>0.10409584</td><td>2.4167414</td><td>4.079133</td><td>35184552427132260</td><td>2305843009213693952</td><td>0</td><td>33</td><td>0.1470339168881155</td><td>7</td><td>1100</td><td>1</td><td>0</td><td>1</td><td>0</td><td>-1.0</td><td>-1</td><td>MWS|UNOBS</td><td>2020-10-28T18:00:38</td><td>0.43.0.dev4234</td><td>1100</td></tr>\n",
       "<tr><td>54.00388319697416</td><td>-60.40578902819227</td><td>0.0</td><td>0.0</td><td>0.0</td><td>0.0</td><td>35184552427132412</td><td>274877907202</td><td>0</td><td>0</td><td>0.6496099879231599</td><td>3</td><td>3000</td><td>1</td><td>0</td><td>1</td><td>0</td><td>-1.0</td><td>-1</td><td>ELG|UNOBS</td><td>2020-10-28T18:00:38</td><td>0.43.0.dev4234</td><td>3000</td></tr>\n",
       "<tr><td>54.02399665690195</td><td>-60.40574510577453</td><td>0.0</td><td>0.0</td><td>0.0</td><td>0.0</td><td>35184552427132416</td><td>1374389536002</td><td>0</td><td>0</td><td>0.42442337289694165</td><td>3</td><td>3000</td><td>1</td><td>0</td><td>1</td><td>0</td><td>-1.0</td><td>-1</td><td>ELG|UNOBS</td><td>2020-10-28T18:00:38</td><td>0.43.0.dev4234</td><td>3000</td></tr>\n",
       "<tr><td>54.0096905775631</td><td>-60.40490529851805</td><td>0.0</td><td>0.0</td><td>0.0</td><td>0.0</td><td>35184552427132422</td><td>1152921504632012825</td><td>65537</td><td>0</td><td>0.8709289184180781</td><td>7</td><td>3200</td><td>4</td><td>0</td><td>4</td><td>0</td><td>-1.0</td><td>-1</td><td>LRG|UNOBS</td><td>2020-10-28T18:00:38</td><td>0.43.0.dev4234</td><td>3200</td></tr>\n",
       "<tr><td>53.98612145219522</td><td>-60.40042332596103</td><td>0.0</td><td>0.0</td><td>0.0</td><td>0.0</td><td>35184552427132549</td><td>1374389536002</td><td>0</td><td>0</td><td>0.41114839187625174</td><td>3</td><td>3000</td><td>1</td><td>0</td><td>1</td><td>0</td><td>-1.0</td><td>-1</td><td>ELG|UNOBS</td><td>2020-10-28T18:00:38</td><td>0.43.0.dev4234</td><td>3000</td></tr>\n",
       "<tr><td>54.03456513256729</td><td>-60.39866568329702</td><td>0.0</td><td>0.0</td><td>0.0</td><td>0.0</td><td>35184552427132574</td><td>4123168608002</td><td>0</td><td>0</td><td>0.296180351317749</td><td>3</td><td>3000</td><td>1</td><td>0</td><td>1</td><td>0</td><td>-1.0</td><td>-1</td><td>ELG|UNOBS</td><td>2020-10-28T18:00:38</td><td>0.43.0.dev4234</td><td>3000</td></tr>\n",
       "<tr><td>54.04106232591186</td><td>-60.39820885464255</td><td>0.0</td><td>0.0</td><td>0.0</td><td>0.0</td><td>35184552427132582</td><td>1374389536002</td><td>0</td><td>0</td><td>0.07196373960610458</td><td>3</td><td>3000</td><td>1</td><td>0</td><td>1</td><td>0</td><td>-1.0</td><td>-1</td><td>ELG|UNOBS</td><td>2020-10-28T18:00:38</td><td>0.43.0.dev4234</td><td>3000</td></tr>\n",
       "<tr><td>53.94972457303881</td><td>-60.39871565989709</td><td>0.0</td><td>0.0</td><td>0.0</td><td>0.0</td><td>35184552427132600</td><td>3023656979202</td><td>0</td><td>0</td><td>0.03829076833345135</td><td>3</td><td>3000</td><td>1</td><td>0</td><td>1</td><td>0</td><td>-1.0</td><td>-1</td><td>ELG|UNOBS</td><td>2020-10-28T18:00:38</td><td>0.43.0.dev4234</td><td>3000</td></tr>\n",
       "<tr><td>...</td><td>...</td><td>...</td><td>...</td><td>...</td><td>...</td><td>...</td><td>...</td><td>...</td><td>...</td><td>...</td><td>...</td><td>...</td><td>...</td><td>...</td><td>...</td><td>...</td><td>...</td><td>...</td><td>...</td><td>...</td><td>...</td><td>...</td></tr>\n",
       "<tr><td>53.239385487001556</td><td>-57.46004639475924</td><td>0.0</td><td>0.0</td><td>0.0</td><td>0.0</td><td>35184589836126201</td><td>824700830531</td><td>0</td><td>0</td><td>0.4916266748328454</td><td>3</td><td>3200</td><td>8</td><td>0</td><td>8</td><td>0</td><td>-1.0</td><td>-1</td><td>LRG|UNOBS</td><td>2020-10-28T18:00:38</td><td>0.43.0.dev4234</td><td>3200</td></tr>\n",
       "<tr><td>53.2381880610812</td><td>-57.46089657690123</td><td>0.0</td><td>0.0</td><td>0.0</td><td>0.0</td><td>35184589836126203</td><td>1374389536002</td><td>0</td><td>0</td><td>0.09011530738589912</td><td>3</td><td>3000</td><td>1</td><td>0</td><td>1</td><td>0</td><td>-1.0</td><td>-1</td><td>ELG|UNOBS</td><td>2020-10-28T18:00:38</td><td>0.43.0.dev4234</td><td>3000</td></tr>\n",
       "<tr><td>53.255121294063855</td><td>-57.448343676891696</td><td>2015.5</td><td>0.9658223</td><td>12.586176</td><td>3.4512959</td><td>35184589836126368</td><td>2305843009213693952</td><td>0</td><td>33</td><td>0.8522949352386587</td><td>7</td><td>1100</td><td>1</td><td>0</td><td>1</td><td>0</td><td>-1.0</td><td>-1</td><td>MWS|UNOBS</td><td>2020-10-28T18:00:38</td><td>0.43.0.dev4234</td><td>1100</td></tr>\n",
       "<tr><td>53.241935031743175</td><td>-57.44719228751675</td><td>0.0</td><td>0.0</td><td>0.0</td><td>0.0</td><td>35184589836126384</td><td>824633721602</td><td>0</td><td>0</td><td>0.9451745592196716</td><td>3</td><td>3000</td><td>1</td><td>0</td><td>1</td><td>0</td><td>-1.0</td><td>-1</td><td>ELG|UNOBS</td><td>2020-10-28T18:00:38</td><td>0.43.0.dev4234</td><td>3000</td></tr>\n",
       "<tr><td>53.256068059790856</td><td>-57.44627105068773</td><td>0.0</td><td>0.0</td><td>0.0</td><td>0.0</td><td>35184589836126404</td><td>274877907202</td><td>0</td><td>0</td><td>0.3544081559297383</td><td>3</td><td>3000</td><td>1</td><td>0</td><td>1</td><td>0</td><td>-1.0</td><td>-1</td><td>ELG|UNOBS</td><td>2020-10-28T18:00:38</td><td>0.43.0.dev4234</td><td>3000</td></tr>\n",
       "<tr><td>53.22481970787932</td><td>-57.44482766879436</td><td>0.0</td><td>0.0</td><td>0.0</td><td>0.0</td><td>35184589836126421</td><td>824633721602</td><td>0</td><td>0</td><td>0.47503702795981206</td><td>3</td><td>3000</td><td>1</td><td>0</td><td>1</td><td>0</td><td>-1.0</td><td>-1</td><td>ELG|UNOBS</td><td>2020-10-28T18:00:38</td><td>0.43.0.dev4234</td><td>3000</td></tr>\n",
       "<tr><td>53.2196836492193</td><td>-57.44343901374039</td><td>0.0</td><td>0.0</td><td>0.0</td><td>0.0</td><td>35184589836126424</td><td>2748779072002</td><td>0</td><td>0</td><td>0.3232984753221332</td><td>3</td><td>3000</td><td>1</td><td>0</td><td>1</td><td>0</td><td>-1.0</td><td>-1</td><td>ELG|UNOBS</td><td>2020-10-28T18:00:38</td><td>0.43.0.dev4234</td><td>3000</td></tr>\n",
       "<tr><td>53.23663483568959</td><td>-57.4418668856492</td><td>0.0</td><td>0.0</td><td>0.0</td><td>0.0</td><td>35184589836126437</td><td>1152921504606846976</td><td>65537</td><td>0</td><td>0.13245461064957198</td><td>7</td><td>2000</td><td>1</td><td>0</td><td>1</td><td>0</td><td>-1.0</td><td>-1</td><td>BGS|UNOBS</td><td>2020-10-28T18:00:38</td><td>0.43.0.dev4234</td><td>2000</td></tr>\n",
       "<tr><td>53.239949245851115</td><td>-57.443590486737726</td><td>0.0</td><td>0.0</td><td>0.0</td><td>0.0</td><td>35184589836126438</td><td>824633721602</td><td>0</td><td>0</td><td>0.6680916695915924</td><td>3</td><td>3000</td><td>1</td><td>0</td><td>1</td><td>0</td><td>-1.0</td><td>-1</td><td>ELG|UNOBS</td><td>2020-10-28T18:00:38</td><td>0.43.0.dev4234</td><td>3000</td></tr>\n",
       "<tr><td>53.228672712566656</td><td>-57.44146976151331</td><td>2015.5</td><td>1.6597661</td><td>5.6015306</td><td>19.066349</td><td>35184589836126484</td><td>2305843009213693952</td><td>0</td><td>81920</td><td>0.9860800741133191</td><td>7</td><td>1050</td><td>1</td><td>0</td><td>1</td><td>0</td><td>-1.0</td><td>-1</td><td>MWS|UNOBS</td><td>2020-10-28T18:00:38</td><td>0.43.0.dev4234</td><td>1050</td></tr>\n",
       "</table>"
      ],
      "text/plain": [
       "<Table length=33457>\n",
       "        RA                 DEC         REF_EPOCH ...    VERSION     PRIORITY\n",
       "     float64             float64        float32  ...    bytes14      int64  \n",
       "------------------ ------------------- --------- ... -------------- --------\n",
       "54.001323804796705  -60.42569957270399       0.0 ... 0.43.0.dev4234     2000\n",
       " 53.98978693990547  -60.42437965201657       0.0 ... 0.43.0.dev4234     2000\n",
       " 54.00065664480867 -60.413051892093264    2015.5 ... 0.43.0.dev4234     1100\n",
       " 54.00388319697416  -60.40578902819227       0.0 ... 0.43.0.dev4234     3000\n",
       " 54.02399665690195  -60.40574510577453       0.0 ... 0.43.0.dev4234     3000\n",
       "  54.0096905775631  -60.40490529851805       0.0 ... 0.43.0.dev4234     3200\n",
       " 53.98612145219522  -60.40042332596103       0.0 ... 0.43.0.dev4234     3000\n",
       " 54.03456513256729  -60.39866568329702       0.0 ... 0.43.0.dev4234     3000\n",
       " 54.04106232591186  -60.39820885464255       0.0 ... 0.43.0.dev4234     3000\n",
       " 53.94972457303881  -60.39871565989709       0.0 ... 0.43.0.dev4234     3000\n",
       "               ...                 ...       ... ...            ...      ...\n",
       "53.239385487001556  -57.46004639475924       0.0 ... 0.43.0.dev4234     3200\n",
       "  53.2381880610812  -57.46089657690123       0.0 ... 0.43.0.dev4234     3000\n",
       "53.255121294063855 -57.448343676891696    2015.5 ... 0.43.0.dev4234     1100\n",
       "53.241935031743175  -57.44719228751675       0.0 ... 0.43.0.dev4234     3000\n",
       "53.256068059790856  -57.44627105068773       0.0 ... 0.43.0.dev4234     3000\n",
       " 53.22481970787932  -57.44482766879436       0.0 ... 0.43.0.dev4234     3000\n",
       "  53.2196836492193  -57.44343901374039       0.0 ... 0.43.0.dev4234     3000\n",
       " 53.23663483568959   -57.4418668856492       0.0 ... 0.43.0.dev4234     2000\n",
       "53.239949245851115 -57.443590486737726       0.0 ... 0.43.0.dev4234     3000\n",
       "53.228672712566656  -57.44146976151331    2015.5 ... 0.43.0.dev4234     1050"
      ]
     },
     "execution_count": 75,
     "metadata": {},
     "output_type": "execute_result"
    }
   ],
   "source": [
    "# TIMESTAMP -> LAST_TIMESTAMP?\n",
    "mtl"
   ]
  },
  {
   "cell_type": "markdown",
   "metadata": {},
   "source": [
    "Each TARGETID only appears once in the mtl, with the latest state:"
   ]
  },
  {
   "cell_type": "code",
   "execution_count": 76,
   "metadata": {},
   "outputs": [],
   "source": [
    "uids, cnts = np.unique(mtl['TARGETID'], return_counts=True)"
   ]
  },
  {
   "cell_type": "code",
   "execution_count": 77,
   "metadata": {},
   "outputs": [
    {
     "data": {
      "text/plain": [
       "1"
      ]
     },
     "execution_count": 77,
     "metadata": {},
     "output_type": "execute_result"
    }
   ],
   "source": [
    "cnts.max()"
   ]
  },
  {
   "cell_type": "code",
   "execution_count": 78,
   "metadata": {},
   "outputs": [],
   "source": [
    "imtl = inflate_ledger(mtl, '/project/projectdirs/desi/target/catalogs/dr8/0.39.0/targets/sv/resolve//dark/', columns=None, header=False, strictcols=False)"
   ]
  },
  {
   "cell_type": "code",
   "execution_count": 79,
   "metadata": {},
   "outputs": [
    {
     "data": {
      "text/plain": [
       "(115, 23)"
      ]
     },
     "execution_count": 79,
     "metadata": {},
     "output_type": "execute_result"
    }
   ],
   "source": [
    "len(imtl.dtype.names), len(mtl.dtype.names)"
   ]
  },
  {
   "cell_type": "markdown",
   "metadata": {},
   "source": [
    "New columns in inflated ledger:"
   ]
  },
  {
   "cell_type": "code",
   "execution_count": 80,
   "metadata": {},
   "outputs": [
    {
     "data": {
      "text/plain": [
       "['RELEASE',\n",
       " 'BRICKID',\n",
       " 'BRICKNAME',\n",
       " 'BRICK_OBJID',\n",
       " 'MORPHTYPE',\n",
       " 'RA_IVAR',\n",
       " 'DEC_IVAR',\n",
       " 'DCHISQ',\n",
       " 'EBV',\n",
       " 'FLUX_G',\n",
       " 'FLUX_R',\n",
       " 'FLUX_Z',\n",
       " 'FLUX_IVAR_G',\n",
       " 'FLUX_IVAR_R',\n",
       " 'FLUX_IVAR_Z',\n",
       " 'MW_TRANSMISSION_G',\n",
       " 'MW_TRANSMISSION_R',\n",
       " 'MW_TRANSMISSION_Z',\n",
       " 'FRACFLUX_G',\n",
       " 'FRACFLUX_R',\n",
       " 'FRACFLUX_Z',\n",
       " 'FRACMASKED_G',\n",
       " 'FRACMASKED_R',\n",
       " 'FRACMASKED_Z',\n",
       " 'FRACIN_G',\n",
       " 'FRACIN_R',\n",
       " 'FRACIN_Z',\n",
       " 'NOBS_G',\n",
       " 'NOBS_R',\n",
       " 'NOBS_Z',\n",
       " 'PSFDEPTH_G',\n",
       " 'PSFDEPTH_R',\n",
       " 'PSFDEPTH_Z',\n",
       " 'GALDEPTH_G',\n",
       " 'GALDEPTH_R',\n",
       " 'GALDEPTH_Z',\n",
       " 'FLUX_W1',\n",
       " 'FLUX_W2',\n",
       " 'FLUX_W3',\n",
       " 'FLUX_W4',\n",
       " 'FLUX_IVAR_W1',\n",
       " 'FLUX_IVAR_W2',\n",
       " 'FLUX_IVAR_W3',\n",
       " 'FLUX_IVAR_W4',\n",
       " 'MW_TRANSMISSION_W1',\n",
       " 'MW_TRANSMISSION_W2',\n",
       " 'MW_TRANSMISSION_W3',\n",
       " 'MW_TRANSMISSION_W4',\n",
       " 'ALLMASK_G',\n",
       " 'ALLMASK_R',\n",
       " 'ALLMASK_Z',\n",
       " 'FIBERFLUX_G',\n",
       " 'FIBERFLUX_R',\n",
       " 'FIBERFLUX_Z',\n",
       " 'FIBERTOTFLUX_G',\n",
       " 'FIBERTOTFLUX_R',\n",
       " 'FIBERTOTFLUX_Z',\n",
       " 'WISEMASK_W1',\n",
       " 'WISEMASK_W2',\n",
       " 'MASKBITS',\n",
       " 'FRACDEV',\n",
       " 'FRACDEV_IVAR',\n",
       " 'SHAPEDEV_R',\n",
       " 'SHAPEDEV_E1',\n",
       " 'SHAPEDEV_E2',\n",
       " 'SHAPEDEV_R_IVAR',\n",
       " 'SHAPEDEV_E1_IVAR',\n",
       " 'SHAPEDEV_E2_IVAR',\n",
       " 'SHAPEEXP_R',\n",
       " 'SHAPEEXP_E1',\n",
       " 'SHAPEEXP_E2',\n",
       " 'SHAPEEXP_R_IVAR',\n",
       " 'SHAPEEXP_E1_IVAR',\n",
       " 'SHAPEEXP_E2_IVAR',\n",
       " 'REF_ID',\n",
       " 'REF_CAT',\n",
       " 'GAIA_PHOT_G_MEAN_MAG',\n",
       " 'GAIA_PHOT_G_MEAN_FLUX_OVER_ERROR',\n",
       " 'GAIA_PHOT_BP_MEAN_MAG',\n",
       " 'GAIA_PHOT_BP_MEAN_FLUX_OVER_ERROR',\n",
       " 'GAIA_PHOT_RP_MEAN_MAG',\n",
       " 'GAIA_PHOT_RP_MEAN_FLUX_OVER_ERROR',\n",
       " 'GAIA_PHOT_BP_RP_EXCESS_FACTOR',\n",
       " 'GAIA_ASTROMETRIC_EXCESS_NOISE',\n",
       " 'GAIA_DUPLICATED_SOURCE',\n",
       " 'GAIA_ASTROMETRIC_SIGMA5D_MAX',\n",
       " 'GAIA_ASTROMETRIC_PARAMS_SOLVED',\n",
       " 'PARALLAX_IVAR',\n",
       " 'PMRA_IVAR',\n",
       " 'PMDEC_IVAR',\n",
       " 'PHOTSYS',\n",
       " 'HPXPIXEL']"
      ]
     },
     "execution_count": 80,
     "metadata": {},
     "output_type": "execute_result"
    }
   ],
   "source": [
    "[x for x in list(imtl.dtype.names) if x not in list(mtl.dtype.names)]"
   ]
  },
  {
   "cell_type": "code",
   "execution_count": 81,
   "metadata": {},
   "outputs": [],
   "source": [
    "ledger_updates = glob.glob('/global/cscratch1/sd/adamyers/egupdates/mtl/sv1/dark/*.ecsv')"
   ]
  },
  {
   "cell_type": "code",
   "execution_count": 82,
   "metadata": {},
   "outputs": [
    {
     "data": {
      "text/plain": [
       "['/global/cscratch1/sd/adamyers/egupdates/mtl/sv1/dark/sv1mtl-dark-hp-8442.ecsv',\n",
       " '/global/cscratch1/sd/adamyers/egupdates/mtl/sv1/dark/sv1mtl-dark-hp-8411.ecsv',\n",
       " '/global/cscratch1/sd/adamyers/egupdates/mtl/sv1/dark/sv1mtl-dark-hp-8588.ecsv',\n",
       " '/global/cscratch1/sd/adamyers/egupdates/mtl/sv1/dark/sv1mtl-dark-hp-8705.ecsv',\n",
       " '/global/cscratch1/sd/adamyers/egupdates/mtl/sv1/dark/sv1mtl-dark-hp-8713.ecsv',\n",
       " '/global/cscratch1/sd/adamyers/egupdates/mtl/sv1/dark/sv1mtl-dark-hp-8669.ecsv',\n",
       " '/global/cscratch1/sd/adamyers/egupdates/mtl/sv1/dark/sv1mtl-dark-hp-8733.ecsv',\n",
       " '/global/cscratch1/sd/adamyers/egupdates/mtl/sv1/dark/sv1mtl-dark-hp-8440.ecsv',\n",
       " '/global/cscratch1/sd/adamyers/egupdates/mtl/sv1/dark/sv1mtl-dark-hp-8441.ecsv',\n",
       " '/global/cscratch1/sd/adamyers/egupdates/mtl/sv1/dark/sv1mtl-dark-hp-8503.ecsv']"
      ]
     },
     "execution_count": 82,
     "metadata": {},
     "output_type": "execute_result"
    }
   ],
   "source": [
    "ledger_updates[:10]"
   ]
  },
  {
   "cell_type": "code",
   "execution_count": 105,
   "metadata": {},
   "outputs": [],
   "source": [
    "update = read_mtl_ledger('/global/cscratch1/sd/adamyers/egupdates/mtl/sv1/dark/sv1mtl-dark-hp-8400.ecsv')"
   ]
  },
  {
   "cell_type": "code",
   "execution_count": 106,
   "metadata": {},
   "outputs": [],
   "source": [
    "update = Table(update)"
   ]
  },
  {
   "cell_type": "code",
   "execution_count": 107,
   "metadata": {},
   "outputs": [
    {
     "data": {
      "text/html": [
       "<i>Table length=33457</i>\n",
       "<table id=\"table46913837411824\" class=\"table-striped table-bordered table-condensed\">\n",
       "<thead><tr><th>RA</th><th>DEC</th><th>REF_EPOCH</th><th>PARALLAX</th><th>PMRA</th><th>PMDEC</th><th>TARGETID</th><th>SV1_DESI_TARGET</th><th>SV1_BGS_TARGET</th><th>SV1_MWS_TARGET</th><th>SUBPRIORITY</th><th>OBSCONDITIONS</th><th>PRIORITY_INIT</th><th>NUMOBS_INIT</th><th>SV1_SCND_TARGET</th><th>NUMOBS_MORE</th><th>NUMOBS</th><th>Z</th><th>ZWARN</th><th>TARGET_STATE</th><th>TIMESTAMP</th><th>VERSION</th><th>PRIORITY</th></tr></thead>\n",
       "<thead><tr><th>float64</th><th>float64</th><th>float32</th><th>float32</th><th>float32</th><th>float32</th><th>int64</th><th>int64</th><th>int64</th><th>int64</th><th>float64</th><th>int32</th><th>int64</th><th>int64</th><th>int64</th><th>int64</th><th>int64</th><th>float64</th><th>int64</th><th>bytes15</th><th>bytes19</th><th>bytes14</th><th>int64</th></tr></thead>\n",
       "<tr><td>54.001323804796705</td><td>-60.42569957270399</td><td>0.0</td><td>0.0</td><td>0.0</td><td>0.0</td><td>35184552427132013</td><td>1152921504606846976</td><td>65537</td><td>0</td><td>0.8618050915964254</td><td>7</td><td>2000</td><td>1</td><td>0</td><td>1</td><td>0</td><td>-1.0</td><td>-1</td><td>BGS|UNOBS</td><td>2020-08-03T22:15:36</td><td>0.40.0.dev4055</td><td>2000</td></tr>\n",
       "<tr><td>53.98978693990547</td><td>-60.42437965201657</td><td>0.0</td><td>0.0</td><td>0.0</td><td>0.0</td><td>35184552427132036</td><td>1152921504606846976</td><td>65537</td><td>0</td><td>0.4107394842806541</td><td>7</td><td>2000</td><td>1</td><td>0</td><td>1</td><td>0</td><td>-1.0</td><td>-1</td><td>BGS|UNOBS</td><td>2020-08-03T22:15:36</td><td>0.40.0.dev4055</td><td>2000</td></tr>\n",
       "<tr><td>54.00065664480867</td><td>-60.413051892093264</td><td>2015.5</td><td>0.10409584</td><td>2.4167414</td><td>4.079133</td><td>35184552427132260</td><td>2305843009213693952</td><td>0</td><td>33</td><td>0.1470339168881155</td><td>7</td><td>1100</td><td>1</td><td>0</td><td>1</td><td>0</td><td>-1.0</td><td>-1</td><td>MWS|UNOBS</td><td>2020-08-03T22:15:36</td><td>0.40.0.dev4055</td><td>1100</td></tr>\n",
       "<tr><td>54.00388319697416</td><td>-60.40578902819227</td><td>0.0</td><td>0.0</td><td>0.0</td><td>0.0</td><td>35184552427132412</td><td>274877907202</td><td>0</td><td>0</td><td>0.6496099879231599</td><td>3</td><td>3000</td><td>1</td><td>0</td><td>1</td><td>0</td><td>-1.0</td><td>-1</td><td>ELG|UNOBS</td><td>2020-08-03T22:15:36</td><td>0.40.0.dev4055</td><td>3000</td></tr>\n",
       "<tr><td>54.02399665690195</td><td>-60.40574510577453</td><td>0.0</td><td>0.0</td><td>0.0</td><td>0.0</td><td>35184552427132416</td><td>1374389536002</td><td>0</td><td>0</td><td>0.42442337289694165</td><td>3</td><td>3000</td><td>1</td><td>0</td><td>1</td><td>0</td><td>-1.0</td><td>-1</td><td>ELG|UNOBS</td><td>2020-08-03T22:15:36</td><td>0.40.0.dev4055</td><td>3000</td></tr>\n",
       "<tr><td>54.0096905775631</td><td>-60.40490529851805</td><td>0.0</td><td>0.0</td><td>0.0</td><td>0.0</td><td>35184552427132422</td><td>1152921504632012825</td><td>65537</td><td>0</td><td>0.8709289184180781</td><td>7</td><td>3200</td><td>4</td><td>0</td><td>4</td><td>0</td><td>-1.0</td><td>-1</td><td>LRG|UNOBS</td><td>2020-08-03T22:15:36</td><td>0.40.0.dev4055</td><td>3200</td></tr>\n",
       "<tr><td>53.98612145219522</td><td>-60.40042332596103</td><td>0.0</td><td>0.0</td><td>0.0</td><td>0.0</td><td>35184552427132549</td><td>1374389536002</td><td>0</td><td>0</td><td>0.41114839187625174</td><td>3</td><td>3000</td><td>1</td><td>0</td><td>1</td><td>0</td><td>-1.0</td><td>-1</td><td>ELG|UNOBS</td><td>2020-08-03T22:15:36</td><td>0.40.0.dev4055</td><td>3000</td></tr>\n",
       "<tr><td>54.03456513256729</td><td>-60.39866568329702</td><td>0.0</td><td>0.0</td><td>0.0</td><td>0.0</td><td>35184552427132574</td><td>4123168608002</td><td>0</td><td>0</td><td>0.296180351317749</td><td>3</td><td>3000</td><td>1</td><td>0</td><td>1</td><td>0</td><td>-1.0</td><td>-1</td><td>ELG|UNOBS</td><td>2020-08-03T22:15:36</td><td>0.40.0.dev4055</td><td>3000</td></tr>\n",
       "<tr><td>54.04106232591186</td><td>-60.39820885464255</td><td>0.0</td><td>0.0</td><td>0.0</td><td>0.0</td><td>35184552427132582</td><td>1374389536002</td><td>0</td><td>0</td><td>0.07196373960610458</td><td>3</td><td>3000</td><td>1</td><td>0</td><td>1</td><td>0</td><td>-1.0</td><td>-1</td><td>ELG|UNOBS</td><td>2020-08-03T22:15:36</td><td>0.40.0.dev4055</td><td>3000</td></tr>\n",
       "<tr><td>53.94972457303881</td><td>-60.39871565989709</td><td>0.0</td><td>0.0</td><td>0.0</td><td>0.0</td><td>35184552427132600</td><td>3023656979202</td><td>0</td><td>0</td><td>0.03829076833345135</td><td>3</td><td>3000</td><td>1</td><td>0</td><td>1</td><td>0</td><td>-1.0</td><td>-1</td><td>ELG|UNOBS</td><td>2020-08-03T22:15:36</td><td>0.40.0.dev4055</td><td>3000</td></tr>\n",
       "<tr><td>...</td><td>...</td><td>...</td><td>...</td><td>...</td><td>...</td><td>...</td><td>...</td><td>...</td><td>...</td><td>...</td><td>...</td><td>...</td><td>...</td><td>...</td><td>...</td><td>...</td><td>...</td><td>...</td><td>...</td><td>...</td><td>...</td><td>...</td></tr>\n",
       "<tr><td>53.239385487001556</td><td>-57.46004639475924</td><td>0.0</td><td>0.0</td><td>0.0</td><td>0.0</td><td>35184589836126201</td><td>824700830531</td><td>0</td><td>0</td><td>0.4916266748328454</td><td>3</td><td>3200</td><td>8</td><td>0</td><td>8</td><td>0</td><td>-1.0</td><td>-1</td><td>LRG|UNOBS</td><td>2020-08-03T22:15:36</td><td>0.40.0.dev4055</td><td>3200</td></tr>\n",
       "<tr><td>53.2381880610812</td><td>-57.46089657690123</td><td>0.0</td><td>0.0</td><td>0.0</td><td>0.0</td><td>35184589836126203</td><td>1374389536002</td><td>0</td><td>0</td><td>0.09011530738589912</td><td>3</td><td>3000</td><td>1</td><td>0</td><td>1</td><td>0</td><td>-1.0</td><td>-1</td><td>ELG|UNOBS</td><td>2020-08-03T22:15:36</td><td>0.40.0.dev4055</td><td>3000</td></tr>\n",
       "<tr><td>53.255121294063855</td><td>-57.448343676891696</td><td>2015.5</td><td>0.9658223</td><td>12.586176</td><td>3.4512959</td><td>35184589836126368</td><td>2305843009213693952</td><td>0</td><td>33</td><td>0.8522949352386587</td><td>7</td><td>1100</td><td>1</td><td>0</td><td>1</td><td>0</td><td>-1.0</td><td>-1</td><td>MWS|UNOBS</td><td>2020-08-03T22:15:36</td><td>0.40.0.dev4055</td><td>1100</td></tr>\n",
       "<tr><td>53.241935031743175</td><td>-57.44719228751675</td><td>0.0</td><td>0.0</td><td>0.0</td><td>0.0</td><td>35184589836126384</td><td>824633721602</td><td>0</td><td>0</td><td>0.9451745592196716</td><td>3</td><td>3000</td><td>1</td><td>0</td><td>1</td><td>0</td><td>-1.0</td><td>-1</td><td>ELG|UNOBS</td><td>2020-08-03T22:15:36</td><td>0.40.0.dev4055</td><td>3000</td></tr>\n",
       "<tr><td>53.256068059790856</td><td>-57.44627105068773</td><td>0.0</td><td>0.0</td><td>0.0</td><td>0.0</td><td>35184589836126404</td><td>274877907202</td><td>0</td><td>0</td><td>0.3544081559297383</td><td>3</td><td>3000</td><td>1</td><td>0</td><td>1</td><td>0</td><td>-1.0</td><td>-1</td><td>ELG|UNOBS</td><td>2020-08-03T22:15:36</td><td>0.40.0.dev4055</td><td>3000</td></tr>\n",
       "<tr><td>53.22481970787932</td><td>-57.44482766879436</td><td>0.0</td><td>0.0</td><td>0.0</td><td>0.0</td><td>35184589836126421</td><td>824633721602</td><td>0</td><td>0</td><td>0.47503702795981206</td><td>3</td><td>3000</td><td>1</td><td>0</td><td>1</td><td>0</td><td>-1.0</td><td>-1</td><td>ELG|UNOBS</td><td>2020-08-03T22:15:36</td><td>0.40.0.dev4055</td><td>3000</td></tr>\n",
       "<tr><td>53.2196836492193</td><td>-57.44343901374039</td><td>0.0</td><td>0.0</td><td>0.0</td><td>0.0</td><td>35184589836126424</td><td>2748779072002</td><td>0</td><td>0</td><td>0.3232984753221332</td><td>3</td><td>3000</td><td>1</td><td>0</td><td>1</td><td>0</td><td>-1.0</td><td>-1</td><td>ELG|UNOBS</td><td>2020-08-03T22:15:36</td><td>0.40.0.dev4055</td><td>3000</td></tr>\n",
       "<tr><td>53.23663483568959</td><td>-57.4418668856492</td><td>0.0</td><td>0.0</td><td>0.0</td><td>0.0</td><td>35184589836126437</td><td>1152921504606846976</td><td>65537</td><td>0</td><td>0.13245461064957198</td><td>7</td><td>2000</td><td>1</td><td>0</td><td>1</td><td>0</td><td>-1.0</td><td>-1</td><td>BGS|UNOBS</td><td>2020-08-03T22:15:36</td><td>0.40.0.dev4055</td><td>2000</td></tr>\n",
       "<tr><td>53.239949245851115</td><td>-57.443590486737726</td><td>0.0</td><td>0.0</td><td>0.0</td><td>0.0</td><td>35184589836126438</td><td>824633721602</td><td>0</td><td>0</td><td>0.6680916695915924</td><td>3</td><td>3000</td><td>1</td><td>0</td><td>1</td><td>0</td><td>-1.0</td><td>-1</td><td>ELG|UNOBS</td><td>2020-08-03T22:15:36</td><td>0.40.0.dev4055</td><td>3000</td></tr>\n",
       "<tr><td>53.228672712566656</td><td>-57.44146976151331</td><td>2015.5</td><td>1.6597661</td><td>5.6015306</td><td>19.066349</td><td>35184589836126484</td><td>2305843009213693952</td><td>0</td><td>81920</td><td>0.9860800741133191</td><td>7</td><td>1050</td><td>1</td><td>0</td><td>1</td><td>0</td><td>-1.0</td><td>-1</td><td>MWS|UNOBS</td><td>2020-08-03T22:15:36</td><td>0.40.0.dev4055</td><td>1050</td></tr>\n",
       "</table>"
      ],
      "text/plain": [
       "<Table length=33457>\n",
       "        RA                 DEC         REF_EPOCH ...    VERSION     PRIORITY\n",
       "     float64             float64        float32  ...    bytes14      int64  \n",
       "------------------ ------------------- --------- ... -------------- --------\n",
       "54.001323804796705  -60.42569957270399       0.0 ... 0.40.0.dev4055     2000\n",
       " 53.98978693990547  -60.42437965201657       0.0 ... 0.40.0.dev4055     2000\n",
       " 54.00065664480867 -60.413051892093264    2015.5 ... 0.40.0.dev4055     1100\n",
       " 54.00388319697416  -60.40578902819227       0.0 ... 0.40.0.dev4055     3000\n",
       " 54.02399665690195  -60.40574510577453       0.0 ... 0.40.0.dev4055     3000\n",
       "  54.0096905775631  -60.40490529851805       0.0 ... 0.40.0.dev4055     3200\n",
       " 53.98612145219522  -60.40042332596103       0.0 ... 0.40.0.dev4055     3000\n",
       " 54.03456513256729  -60.39866568329702       0.0 ... 0.40.0.dev4055     3000\n",
       " 54.04106232591186  -60.39820885464255       0.0 ... 0.40.0.dev4055     3000\n",
       " 53.94972457303881  -60.39871565989709       0.0 ... 0.40.0.dev4055     3000\n",
       "               ...                 ...       ... ...            ...      ...\n",
       "53.239385487001556  -57.46004639475924       0.0 ... 0.40.0.dev4055     3200\n",
       "  53.2381880610812  -57.46089657690123       0.0 ... 0.40.0.dev4055     3000\n",
       "53.255121294063855 -57.448343676891696    2015.5 ... 0.40.0.dev4055     1100\n",
       "53.241935031743175  -57.44719228751675       0.0 ... 0.40.0.dev4055     3000\n",
       "53.256068059790856  -57.44627105068773       0.0 ... 0.40.0.dev4055     3000\n",
       " 53.22481970787932  -57.44482766879436       0.0 ... 0.40.0.dev4055     3000\n",
       "  53.2196836492193  -57.44343901374039       0.0 ... 0.40.0.dev4055     3000\n",
       " 53.23663483568959   -57.4418668856492       0.0 ... 0.40.0.dev4055     2000\n",
       "53.239949245851115 -57.443590486737726       0.0 ... 0.40.0.dev4055     3000\n",
       "53.228672712566656  -57.44146976151331    2015.5 ... 0.40.0.dev4055     1050"
      ]
     },
     "execution_count": 107,
     "metadata": {},
     "output_type": "execute_result"
    }
   ],
   "source": [
    "update"
   ]
  },
  {
   "cell_type": "code",
   "execution_count": 108,
   "metadata": {},
   "outputs": [],
   "source": [
    "uids, cnts = np.unique(update['TARGETID'], return_counts=True) "
   ]
  },
  {
   "cell_type": "code",
   "execution_count": 109,
   "metadata": {},
   "outputs": [
    {
     "data": {
      "text/plain": [
       "array([1])"
      ]
     },
     "execution_count": 109,
     "metadata": {},
     "output_type": "execute_result"
    }
   ],
   "source": [
    "np.unique(cnts)"
   ]
  },
  {
   "cell_type": "code",
   "execution_count": 110,
   "metadata": {},
   "outputs": [
    {
     "data": {
      "text/html": [
       "&lt;Column name=&apos;NUMOBS&apos; dtype=&apos;int64&apos; length=1&gt;\n",
       "<table>\n",
       "<tr><td>0</td></tr>\n",
       "</table>"
      ],
      "text/plain": [
       "<Column name='NUMOBS' dtype='int64' length=1>\n",
       "0"
      ]
     },
     "execution_count": 110,
     "metadata": {},
     "output_type": "execute_result"
    }
   ],
   "source": [
    "np.unique(update['NUMOBS'])"
   ]
  },
  {
   "cell_type": "markdown",
   "metadata": {},
   "source": [
    "# Done."
   ]
  }
 ],
 "metadata": {
  "kernelspec": {
   "display_name": "DESI master",
   "language": "python",
   "name": "desi-master"
  },
  "language_info": {
   "codemirror_mode": {
    "name": "ipython",
    "version": 3
   },
   "file_extension": ".py",
   "mimetype": "text/x-python",
   "name": "python",
   "nbconvert_exporter": "python",
   "pygments_lexer": "ipython3",
   "version": "3.8.3"
  }
 },
 "nbformat": 4,
 "nbformat_minor": 4
}
