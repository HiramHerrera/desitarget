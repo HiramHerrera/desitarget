{
 "cells": [
  {
   "cell_type": "markdown",
   "metadata": {},
   "source": [
    "# Random Forest Training for QSO targets selection\n",
    "\n",
    "**Author:** Edmond Chaussidon (CEA Saclay) (edmond.chaussidon@cea.fr)\n",
    "\n",
    "This notebook explains how the random forest files (for the targets selection) are generated. To have a brief overview of the QSO targets selection and an interpretability of this selection, see qso-dr8.ipynb notebook written for DR8s release (however no major changes are expected with DR9 !)\n",
    "\n",
    "All the file are written and saved in NERSC : `/global/cfs/cdirs/desi/target/analysis/RF`\n",
    "\n",
    "**/!\\** **WARNING** This notebook had generated files in NERSC !! **PLEASE** change path and savename to don't overwritte data or be sure to keep alive the current files. **/!\\**\n",
    "\n",
    "The training is divided in three parts :\n",
    "    * 1) data_collection : collect data from dr9\n",
    "    * 2) data_preparation : build atributes for RF\n",
    "    * 3) train_test_RF : training and some tests\n",
    "\n",
    "**Remark :** The first part is time consumming and already saved in : `/global/cfs/cdirs/desi/target/analysis/RF/``\n"
   ]
  },
  {
   "cell_type": "code",
   "execution_count": null,
   "metadata": {},
   "outputs": [],
   "source": [
    "DIR = '/global/cfs/cdirs/desi/target/analysis/RF/'"
   ]
  },
  {
   "cell_type": "code",
   "execution_count": null,
   "metadata": {},
   "outputs": [],
   "source": [
    "from pathlib import Path\n",
    "path_train = f'{Path().absolute()}/../../py/desitarget/train/'"
   ]
  },
  {
   "cell_type": "markdown",
   "metadata": {},
   "source": [
    "-------\n",
    "## 1)  data_collection\n",
    "\n",
    "**REMARK:** Not necessary to run this section for the training if the files are existing in DIR **WARNING** "
   ]
  },
  {
   "cell_type": "code",
   "execution_count": null,
   "metadata": {},
   "outputs": [],
   "source": [
    "from desitarget.train.data_collection.sweep_meta import sweep_meta\n",
    "\n",
    "sweep_meta('dr9s', f'{DIR}dr9s_sweep_meta.fits')\n",
    "sweep_meta('dr9n', f'{DIR}dr9n_sweep_meta.fits')"
   ]
  },
  {
   "cell_type": "markdown",
   "metadata": {},
   "source": [
    "* Add your version of topcat in my_tractor_extract_batch.py :\n",
    "\n",
    "    `STILTSCMD = 'java -jar -Xmx4096M /global/homes/e/edmondc/Software/topcat/topcat-full.jar -stilts'`\n",
    "    \n",
    "* If you want a version of topcat go [here](`http://www.star.bris.ac.uk/~mbt/topcat/`).\n"
   ]
  },
  {
   "cell_type": "code",
   "execution_count": null,
   "metadata": {},
   "outputs": [],
   "source": [
    "from desitarget.train.data_collection.my_tractor_extract_batch import my_tractor_extract_batch\n",
    "\n",
    "#collect QSO sample\n",
    "#my_tractor_extract_batch(16, f'{DIR}/QSO_DR9s.fits', 'dr9s', '0,360,-10,30', 'qso', path_train, DIR)"
   ]
  },
  {
   "cell_type": "code",
   "execution_count": null,
   "metadata": {},
   "outputs": [],
   "source": [
    "#collect stars sample\n",
    "#my_tractor_extract_batch(4, f'{DIR}/STARS_DR9s.fits', 'dr9s', '320,340,-1.25,1.25', 'stars', path_train, DIR)"
   ]
  },
  {
   "cell_type": "code",
   "execution_count": null,
   "metadata": {},
   "outputs": [],
   "source": [
    "#collect test sample \n",
    "#my_tractor_extract_batch(4, f'{DIR}/TEST_DR9s.fits', 'dr9s', '30,45,-5,5', 'test', path_train, DIR)"
   ]
  },
  {
   "cell_type": "markdown",
   "metadata": {},
   "source": [
    "--------\n",
    "## 2) data_preparation "
   ]
  },
  {
   "cell_type": "markdown",
   "metadata": {},
   "source": [
    "**Remark :** We remove test region from training data in *data_preparation/Code/make_training_samples.py* (it is **hard coding**)  for the region 30<RA<45 & -5<DEC<5. \n",
    "\n",
    "**/!\\** **Take CARE** if you don't use this region for the test_sample **/!\\**"
   ]
  },
  {
   "cell_type": "code",
   "execution_count": null,
   "metadata": {},
   "outputs": [],
   "source": [
    "from desitarget.train.data_collection.make_training_samples import make_training_samples\n",
    "\n",
    "make_training_sample(f'{DIR}QSO_DR9s.fits', f'{DIR}STARS_DR9s.fits', f'{DIR}QSO_TrainingSample_DR9s.fits', f'{DIR}STARS_TrainingSample_DR9s.fits')"
   ]
  },
  {
   "cell_type": "code",
   "execution_count": null,
   "metadata": {},
   "outputs": [],
   "source": [
    "from desitarget.train.data_collection.make_training_samples import make_test_samples\n",
    "\n",
    "make_test_samples(f'{DIR}TEST_DR9s.fits', f'{DIR}TestSample_DR9s.fits')"
   ]
  },
  {
   "cell_type": "markdown",
   "metadata": {},
   "source": [
    "------\n",
    "## 3) train_test_RF\n"
   ]
  },
  {
   "cell_type": "code",
   "execution_count": null,
   "metadata": {},
   "outputs": [],
   "source": [
    "#Pipeline Congifuration (to generate RF with different hyperparameters)\n",
    "from desitarget.train.train_test_rf.PipelineConfigScript import PipelineConfigScript\n",
    "\n",
    "fpn_STARS_TrainingSample = f\"{DIR}STARS_TrainingSample_DR9s.fits\"\n",
    "fpn_QSO_TrainingSample = f\"{DIR}QSO_TrainingSample_DR9s.fits\"\n",
    "fpn_TestSample = f\"{DIR}TestSample_DR9s.fits\"\n",
    "fpn_QLF = f\"{path_train}data_preparation/ROSS4_tabR\"\n",
    "fpn_config = f\"{DIR}config.npz\"\n",
    "\n",
    "PipelineConfigScript(fpn_QSO_TrainingSample, fpn_STARS_TrainingSample, fpn_TestSample, fpn_QLF, fpn_config)"
   ]
  },
  {
   "cell_type": "code",
   "execution_count": null,
   "metadata": {},
   "outputs": [],
   "source": [
    "#Random Forest training\n",
    "from desitarget.train.train_test_rf.train_RF import train_RF\n",
    "\n",
    "## il faut creer le dossier RFmodel et RFmodel_desitarget !!\n",
    "\n",
    "#RF all-z training\n",
    "train_RF(f'{DIR}config.npz', 'DR9s_LOW', f'{DIR}RFmodel/DR9s_LOW')"
   ]
  },
  {
   "cell_type": "code",
   "execution_count": null,
   "metadata": {},
   "outputs": [],
   "source": [
    "#RF Highz training\n",
    "train_RF(f'{DIR}config.npz', 'DR9s_HighZ', f'{DIR}RFmodel/DR9s_HighZ')"
   ]
  },
  {
   "cell_type": "code",
   "execution_count": null,
   "metadata": {},
   "outputs": [],
   "source": [
    "#Sklearn to desitarget format\n",
    "from desitarget.train.train_test_rf.Convert_to_DESI_RF import convert_and_save_to_desi \n",
    "\n",
    "RF_filename_input = f\"{DIR}RFmodel/DR9s_LOW/model_DR9s_LOW_z[0.0, 6.0]_MDepth25_MLNodes850_nTrees500.pkl.gz\"\n",
    "RF_filename_output = f\"{DIR}RFmodel_desitarget/rf_model_dr9.npz\"\n",
    "convert_and_save_to_desi(RF_filename_input, RF_filename_output)\n",
    "\n",
    "RF_HighZ_filename_input = f\"{DIR}RFmodel/RFmodel/DR9s_HighZ/model_DR9s_HighZ_z[3.2, 6.0]_MDepth25_MLNodes850_nTrees500.pkl.gz\"\n",
    "RF_HighZ_filename_output = f\"{DIR}RFmodel_desitarget/rf_model_dr9_HighZ.npz\"\n",
    "convert_and_save_to_desi(RF_HighZ_filename_input, RF_HighZ_filename_output)"
   ]
  },
  {
   "cell_type": "markdown",
   "metadata": {},
   "source": [
    "------------\n",
    "## 4) Some tests"
   ]
  },
  {
   "cell_type": "code",
   "execution_count": null,
   "metadata": {},
   "outputs": [],
   "source": [
    "from desitarget.train.train_test_rf.Some_tests import make_some_tests_and_plots\n",
    "\n",
    "inputFile = f'{DIR}TestSample_DR9s.fits'\n",
    "RF_file = f'{DIR}RFmodel/DR9s_LOW/model_DR9s_LOW_z[0.0, 6.0]_MDepth25_MLNodes850_nTrees500.pkl.gz'\n",
    "RF_Highz_file = f'{DIR}RFmodel/DR9s_HighZ/model_DR9s_HighZ_z[3.2, 6.0]_MDepth25_MLNodes850_nTrees500.pkl.gz'\n",
    "\n",
    "make_some_tests_and_plots(inputFile, RF_file, RF_Highz_file)"
   ]
  },
  {
   "cell_type": "code",
   "execution_count": null,
   "metadata": {},
   "outputs": [],
   "source": []
  }
 ],
 "metadata": {
  "kernelspec": {
   "display_name": "desi_py3",
   "language": "python",
   "name": "desi_py3"
  },
  "language_info": {
   "codemirror_mode": {
    "name": "ipython",
    "version": 3
   },
   "file_extension": ".py",
   "mimetype": "text/x-python",
   "name": "python",
   "nbconvert_exporter": "python",
   "pygments_lexer": "ipython3",
   "version": "3.6.10"
  }
 },
 "nbformat": 4,
 "nbformat_minor": 4
}
