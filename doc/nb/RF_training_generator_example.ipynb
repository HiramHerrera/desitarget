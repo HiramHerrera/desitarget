{
 "cells": [
  {
   "cell_type": "markdown",
   "metadata": {},
   "source": [
    "# Random Forest Training for QSO targets selection\n",
    "\n",
    "**Author:** Edmond Chaussidon (CEA Saclay)\n",
    "\n",
    "This notebook explains how the random forest files for the targets selection are generated. \n",
    "\n",
    "All the file are written and saved in NERSC : `/global/cfs/cdirs/desi/target/analysis/RF`\n",
    "\n",
    "**WARNING** This notebook had generated files in NERSC !! **PLEASE** Change path and savename to don't overwritte data or be sure to keep alive the current files.\n",
    "\n",
    "The training is divided in three parts :\n",
    "    * 1) data_collection : collect data from dr9\n",
    "    * 2) data_preparation : build atributes for RF\n",
    "    * 3) train_test_RF : training and some tests\n",
    "    \n",
    "**WARNING** You need a version of topcat : `http://www.star.bris.ac.uk/~mbt/topcat/`"
   ]
  },
  {
   "cell_type": "code",
   "execution_count": 1,
   "metadata": {},
   "outputs": [],
   "source": [
    "import subprocess\n",
    "\n",
    "DIR = '/global/cfs/cdirs/desi/target/analysis/RF/'"
   ]
  },
  {
   "cell_type": "markdown",
   "metadata": {},
   "source": [
    "-------\n",
    "## 1)  data_collection"
   ]
  },
  {
   "cell_type": "code",
   "execution_count": null,
   "metadata": {},
   "outputs": [],
   "source": [
    "from desitarget.train.collect_data.sweep_meta import sweep_meta\n",
    "\n",
    "sweep_meta('dr9s', f'{DIR}dr9s_sweep_meta.fits')\n",
    "sweep_meta('dr9n', f'{DIR}dr9n_sweep_meta.fits')"
   ]
  },
  {
   "cell_type": "markdown",
   "metadata": {},
   "source": [
    "* Modify :\n",
    "    * in *Code/my_tractor_extract_batch.py* :\n",
    "\n",
    "    `STILTSCMD = 'java -jar -Xmx4096M /global/homes/e/edmondc/Software/topcat/topcat-full.jar -stilts'`\n",
    "\n",
    "    * in *Code/my_tractor_extract.py* :\n",
    "\n",
    "    `fpn_QSO_cat = \"/global/homes/e/edmondc/Catalogs/DR16Q_red.fits\"`  \n",
    "    `fpn_var_cat = \"/global/homes/e/edmondc/Catalogs/Str82_variability_wise_bdt_qso_star_DR7_BOSS_-50+60.fits\"`"
   ]
  },
  {
   "cell_type": "code",
   "execution_count": null,
   "metadata": {},
   "outputs": [],
   "source": [
    "#collect QSO sample\n",
    "tmpstr = f'python ./Code/my_tractor_extract_batch.py -n 8 -o {DIR}/QSO_DR9s.fits -r dr9s -rd 0,360,-10,30 -s qso'\n",
    "subprocess.call(tmpstr, shell=True)"
   ]
  },
  {
   "cell_type": "code",
   "execution_count": null,
   "metadata": {},
   "outputs": [],
   "source": [
    "#collect stars sample\n",
    "tmpstr = f'python ./Code/my_tractor_extract_batch.py -n 2 -o {DIR}/STARS_DR8s.fits -r dr8s -rd 320,340,-1.25,1.25 -s stars'\n",
    "subprocess.call(tmpstr, shell=True)"
   ]
  },
  {
   "cell_type": "code",
   "execution_count": null,
   "metadata": {},
   "outputs": [],
   "source": [
    "#collect test sample \n",
    "tmpstr = f'python ./Code/my_tractor_extract_batch.py -n 2 -o {DIR}/TEST_DR8s.fits -r dr8s -rd 30,45,-5,5 -s test'\n",
    "subprocess.call(tmpstr, shell=True)"
   ]
  },
  {
   "cell_type": "markdown",
   "metadata": {},
   "source": [
    "--------\n",
    "## 2) data_preparation "
   ]
  },
  {
   "cell_type": "markdown",
   "metadata": {},
   "source": [
    "**Remark :** We remove test region in *data_preparation/Code/make_training_samples.py* (it is **hard coding**)  for the region 30<RA<45 & -5<DEC<5. Take **CARE** if you don't use this region for the test_sample."
   ]
  },
  {
   "cell_type": "code",
   "execution_count": null,
   "metadata": {},
   "outputs": [],
   "source": [
    "#build attributes and resample stars to avoid overrepresentation for training samples\n",
    "tmpstr = f'python data_preparation/make_training_samples.py -i1 {DIR}/QSO_DR9s.fits -i2 {DIR}/STARS_DR9s.fits -o1 {DIR}/QSO_TrainingSample_DR9s.fits -o2 {DIR}/STARS_TrainingSample_DR9s.fits'\n",
    "subprocess.call(tmpstr, shell=True)\n",
    "\n",
    "tmpstr = f'rm {DIR}/QSO_DR9s.fits {DIR}/STARS_DR9s.fits'\n",
    "subprocess.call(tmpstr, shell=True)"
   ]
  },
  {
   "cell_type": "code",
   "execution_count": null,
   "metadata": {},
   "outputs": [],
   "source": [
    "#build attributes for test sample\n",
    "tmpstr = f'python ./Code/make_test_sample.py -i {DIR}/TEST_DR9s.fits -o {DIR}/TestSample_DR9s.fits'\n",
    "subprocess.call(tmpstr, shell=True)\n",
    "\n",
    "tmpstr = f'rm {DIR}/TEST_DR9s.fits'\n",
    "subprocess.call(tmpstr, shell=True)"
   ]
  },
  {
   "cell_type": "markdown",
   "metadata": {},
   "source": [
    "------\n",
    "## 3) train_test_RF"
   ]
  },
  {
   "cell_type": "markdown",
   "metadata": {},
   "source": [
    "* Modify **filenames** in *train_test_RF/PipelineConfigScript.py*\n",
    "\n",
    "* Modify **filenames** in *train_test_RF/Convert_to_DESI_RF.py*"
   ]
  },
  {
   "cell_type": "code",
   "execution_count": null,
   "metadata": {},
   "outputs": [],
   "source": [
    "#Pipeline Congifuration (to generate different RF)\n",
    "tmpstr = f'python train_test_RF/PipelineConfigScript.py'\n",
    "subprocess.call(tmpstr, shell=True)"
   ]
  },
  {
   "cell_type": "code",
   "execution_count": null,
   "metadata": {},
   "outputs": [],
   "source": [
    "#RF training \n",
    "tmpstr = f'python train_test_RF/train_RF.py --config_fpn ./WorkingDir/config.npz --MODEL DR8s_LOW --mod_dpn ./WorkingDir/DR8s/RFmodel/DR8s_LOW'\n",
    "subprocess.call(tmpstr, shell=True)"
   ]
  },
  {
   "cell_type": "code",
   "execution_count": null,
   "metadata": {},
   "outputs": [],
   "source": [
    "#RF Highz training\n",
    "tmpstr = f'python train_test_RF/train_RF.py --config_fpn ./WorkingDir/config.npz --MODEL DR8s_HighZ --mod_dpn ./WorkingDir/DR8s/RFmodel/DR8s_HighZ'\n",
    "subprocess.call(tmpstr, shell=True)"
   ]
  },
  {
   "cell_type": "code",
   "execution_count": null,
   "metadata": {},
   "outputs": [],
   "source": [
    "#Sklearn to desitarget format\n",
    "tmpstr = f'python train_test_RF/Convert_to_DESI_RF.py'\n",
    "subprocess.call(tmpstr, shell=True)"
   ]
  },
  {
   "cell_type": "markdown",
   "metadata": {},
   "source": [
    "------------\n",
    "## 4) Some tests"
   ]
  },
  {
   "cell_type": "code",
   "execution_count": null,
   "metadata": {},
   "outputs": [],
   "source": [
    "faire run compare_rf ! (en prenant dr8 de desitarget pour example)"
   ]
  }
 ],
 "metadata": {
  "kernelspec": {
   "display_name": "desi_py3",
   "language": "python",
   "name": "desi_py3"
  },
  "language_info": {
   "codemirror_mode": {
    "name": "ipython",
    "version": 3
   },
   "file_extension": ".py",
   "mimetype": "text/x-python",
   "name": "python",
   "nbconvert_exporter": "python",
   "pygments_lexer": "ipython3",
   "version": "3.6.10"
  }
 },
 "nbformat": 4,
 "nbformat_minor": 4
}
