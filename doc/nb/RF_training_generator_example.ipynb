{
 "cells": [
  {
   "cell_type": "markdown",
   "metadata": {},
   "source": [
    "# Random Forest Training for QSO targets selection\n",
    "\n",
    "**Author:** Edmond Chaussidon (CEA Saclay)\n",
    "\n",
    "This notebook explains how the random forest files for the targets selection are generated. \n",
    "\n",
    "All the file are written and saved in NERSC : `/global/cfs/cdirs/desi/target/analysis/RF`\n",
    "\n",
    "**WARNING** This notebook had generated files in NERSC !! **PLEASE** Change path and savename to don't overwritte data or be sure to keep alive the current files.\n",
    "\n",
    "The training is divided in three parts :\n",
    "    * 1) data_collection : collect data from dr9\n",
    "    * 2) data_preparation : build atributes for RF\n",
    "    * 3) train_test_RF : training and some tests\n",
    "    \n",
    "**WARNING** You need a version of topcat : `http://www.star.bris.ac.uk/~mbt/topcat/`"
   ]
  },
  {
   "cell_type": "code",
   "execution_count": null,
   "metadata": {},
   "outputs": [],
   "source": [
    "import subprocess\n",
    "\n",
    "DIR = '/global/cfs/cdirs/desi/target/analysis/RF/'\n",
    "\n",
    "from pathlib import Path\n",
    "\n",
    "path_train = f'{Path().absolute()}/../../py/desitarget/train/'"
   ]
  },
  {
   "cell_type": "markdown",
   "metadata": {},
   "source": [
    "-------\n",
    "## 1)  data_collection\n",
    "\n",
    "**REMARK:** Not necessary to run this section for the training if the files are existing in DIR **WARNING** "
   ]
  },
  {
   "cell_type": "code",
   "execution_count": null,
   "metadata": {},
   "outputs": [],
   "source": [
    "from desitarget.train.data_collection.sweep_meta import sweep_meta\n",
    "\n",
    "sweep_meta('dr9s', f'{DIR}dr9s_sweep_meta.fits')\n",
    "sweep_meta('dr9n', f'{DIR}dr9n_sweep_meta.fits')"
   ]
  },
  {
   "cell_type": "markdown",
   "metadata": {},
   "source": [
    "* Add your version of topcat in my_tractor_extract_batch.py :\n",
    "\n",
    "    `STILTSCMD = 'java -jar -Xmx4096M /global/homes/e/edmondc/Software/topcat/topcat-full.jar -stilts'` \n"
   ]
  },
  {
   "cell_type": "code",
   "execution_count": null,
   "metadata": {},
   "outputs": [],
   "source": [
    "from desitarget.train.data_collection.my_tractor_extract_batch import my_tractor_extract_batch\n",
    "\n",
    "#collect QSO sample\n",
    "my_tractor_extract_batch(16, f'{DIR}/QSO_DR9s.fits', 'dr9s', '0,360,-10,30', 'qso', path_train, DIR)"
   ]
  },
  {
   "cell_type": "code",
   "execution_count": null,
   "metadata": {},
   "outputs": [],
   "source": [
    "#collect stars sample\n",
    "my_tractor_extract_batch(4, f'{DIR}/STARS_DR9s.fits', 'dr9s', '320,340,-1.25,1.25', 'stars', path_train, DIR)"
   ]
  },
  {
   "cell_type": "code",
   "execution_count": null,
   "metadata": {},
   "outputs": [],
   "source": [
    "#collect test sample \n",
    "my_tractor_extract_batch(4, f'{DIR}/TEST_DR9s.fits', 'dr9s', '30,45,-5,5', 'test', path_train, DIR)"
   ]
  },
  {
   "cell_type": "markdown",
   "metadata": {},
   "source": [
    "--------\n",
    "## 2) data_preparation "
   ]
  },
  {
   "cell_type": "markdown",
   "metadata": {},
   "source": [
    "**Remark :** We remove test region in *data_preparation/Code/make_training_samples.py* (it is **hard coding**)  for the region 30<RA<45 & -5<DEC<5. Take **CARE** if you don't use this region for the test_sample."
   ]
  },
  {
   "cell_type": "code",
   "execution_count": null,
   "metadata": {},
   "outputs": [],
   "source": [
    "#build attributes and resample stars to avoid overrepresentation for training samples\n",
    "tmpstr = f'python data_preparation/make_training_samples.py -i1 {DIR}/QSO_DR9s.fits -i2 {DIR}/STARS_DR9s.fits -o1 {DIR}/QSO_TrainingSample_DR9s.fits -o2 {DIR}/STARS_TrainingSample_DR9s.fits'\n",
    "subprocess.call(tmpstr, shell=True)\n",
    "\n",
    "tmpstr = f'rm {DIR}/QSO_DR9s.fits {DIR}/STARS_DR9s.fits'\n",
    "subprocess.call(tmpstr, shell=True)"
   ]
  },
  {
   "cell_type": "code",
   "execution_count": null,
   "metadata": {},
   "outputs": [],
   "source": [
    "#build attributes for test sample\n",
    "tmpstr = f'python ./Code/make_test_sample.py -i {DIR}/TEST_DR9s.fits -o {DIR}/TestSample_DR9s.fits'\n",
    "subprocess.call(tmpstr, shell=True)\n",
    "\n",
    "tmpstr = f'rm {DIR}/TEST_DR9s.fits'\n",
    "subprocess.call(tmpstr, shell=True)"
   ]
  },
  {
   "cell_type": "markdown",
   "metadata": {},
   "source": [
    "------\n",
    "## 3) train_test_RF"
   ]
  },
  {
   "cell_type": "markdown",
   "metadata": {},
   "source": [
    "* Modify **filenames** in *train_test_RF/PipelineConfigScript.py*\n",
    "\n",
    "* Modify **filenames** in *train_test_RF/Convert_to_DESI_RF.py*"
   ]
  },
  {
   "cell_type": "code",
   "execution_count": null,
   "metadata": {},
   "outputs": [],
   "source": [
    "#Pipeline Congifuration (to generate different RF)\n",
    "tmpstr = f'python train_test_RF/PipelineConfigScript.py'\n",
    "subprocess.call(tmpstr, shell=True)"
   ]
  },
  {
   "cell_type": "code",
   "execution_count": null,
   "metadata": {},
   "outputs": [],
   "source": [
    "#RF training \n",
    "tmpstr = f'python train_test_RF/train_RF.py --config_fpn ./WorkingDir/config.npz --MODEL DR8s_LOW --mod_dpn ./WorkingDir/DR8s/RFmodel/DR8s_LOW'\n",
    "subprocess.call(tmpstr, shell=True)"
   ]
  },
  {
   "cell_type": "code",
   "execution_count": null,
   "metadata": {},
   "outputs": [],
   "source": [
    "#RF Highz training\n",
    "tmpstr = f'python train_test_RF/train_RF.py --config_fpn ./WorkingDir/config.npz --MODEL DR8s_HighZ --mod_dpn ./WorkingDir/DR8s/RFmodel/DR8s_HighZ'\n",
    "subprocess.call(tmpstr, shell=True)"
   ]
  },
  {
   "cell_type": "code",
   "execution_count": null,
   "metadata": {},
   "outputs": [],
   "source": [
    "#Sklearn to desitarget format\n",
    "tmpstr = f'python train_test_RF/Convert_to_DESI_RF.py'\n",
    "subprocess.call(tmpstr, shell=True)"
   ]
  },
  {
   "cell_type": "markdown",
   "metadata": {},
   "source": [
    "------------\n",
    "## 4) Some tests"
   ]
  },
  {
   "cell_type": "code",
   "execution_count": null,
   "metadata": {},
   "outputs": [],
   "source": [
    "faire run compare_rf ! (en prenant dr8 de desitarget pour example)"
   ]
  }
 ],
 "metadata": {
  "kernelspec": {
   "display_name": "desi_py3",
   "language": "python",
   "name": "desi_py3"
  },
  "language_info": {
   "codemirror_mode": {
    "name": "ipython",
    "version": 3
   },
   "file_extension": ".py",
   "mimetype": "text/x-python",
   "name": "python",
   "nbconvert_exporter": "python",
   "pygments_lexer": "ipython3",
   "version": "3.8.5"
  }
 },
 "nbformat": 4,
 "nbformat_minor": 4
}
