{
 "cells": [
  {
   "cell_type": "markdown",
   "metadata": {},
   "source": [
    "# Target selection bits and bitmasks#\n",
    "### Author: Adam D. Myers, University of Wyoming ###\n",
    "\n",
    "This Notebook describes how to produce Target Selection files for a Data Release, focusing on Data Release 7 (DR7) of the Legacy Surveys. In addition, the final section contains tips and tricks for working with the code."
   ]
  },
  {
   "cell_type": "markdown",
   "metadata": {},
   "source": [
    "# Setting up your environment #\n",
    "\n",
    "First, ensure that your environment matches a standard DESI environment. For example:\n",
    "\n",
    "```\n",
    "module unload desimodules\n",
    "source /project/projectdirs/desi/software/desi_environment.sh 18.7\n",
    "```\n",
    "\n",
    "`desitarget` relies on `desiutil` and `desimodel`, so you may also need to set up a wider DESI environment, as detailed at:\n",
    "\n",
    "https://desi.lbl.gov/trac/wiki/Pipeline/GettingStarted/Laptop/JuneMeeting\n",
    "\n",
    "It may also be useful to set up some additional environment variables that are used in some versions of the `desitarget` code (you could also place these in your `.bash_profile.ext` file):\n",
    "\n",
    "```\n",
    "export DESIMODEL=$HOME/git/desimodel\n",
    "export DUST_DIR=/project/projectdirs/desi/software/edison/dust/v0_1/maps\n",
    "export GAIA_DIR=/project/projectdirs/desi/target/gaia_dr2\n",
    "```\n",
    "\n",
    "Here, I've set `DESIMODEL` to a *reasonable* location. For a more detailed description of checking out the `desimodel` data files from svn see:\n",
    "\n",
    "https://desi.lbl.gov/trac/wiki/Pipeline/GettingStarted/Laptop/JuneMeeting#Datafilesfordesimodel"
   ]
  },
  {
   "cell_type": "markdown",
   "metadata": {},
   "source": [
    "# Understanding the desitarget bitmasks #\n",
    "\n",
    "The critical values that `select_targets` produces are the `DESI_TARGET`, `BGS_TARGET` and `MWS_TARGET` bit masks, which contain the target bits for the DESI *main* (or \"*dark time*\") survey and the *Bright Galaxy Survey* and *Milky Way Survey* respectively. Let's examine the masks that correspond to these surveys."
   ]
  },
  {
   "cell_type": "code",
   "execution_count": 1,
   "metadata": {},
   "outputs": [
    {
     "name": "stdout",
     "output_type": "stream",
     "text": [
      "desi_mask:\n",
      "  - [LRG,              0, \"LRG\", {'obsconditions': 'DARK', 'priorities': {'UNOBS': 3200, 'DONE': 2, 'OBS': 1, 'DONOTOBSERVE': 0, 'MORE_ZWARN': 3200, 'MORE_ZGOOD': 3200}, 'numobs': 2}]\n",
      "  - [ELG,              1, \"ELG\", {'obsconditions': 'DARK|GRAY', 'priorities': {'UNOBS': 3000, 'DONE': 2, 'OBS': 1, 'DONOTOBSERVE': 0, 'MORE_ZWARN': 3000, 'MORE_ZGOOD': 3000}, 'numobs': 1}]\n",
      "  - [QSO,              2, \"QSO\", {'obsconditions': 'DARK', 'priorities': {'UNOBS': 3400, 'MORE_ZGOOD': 3500, 'DONE': 2, 'OBS': 1, 'DONOTOBSERVE': 0, 'MORE_ZWARN': 3400}, 'numobs': 4}]\n",
      "  - [LRG_1PASS,        3, \"LRG observed in 1st pass\", {'obsconditions': 'DARK', 'priorities': {'UNOBS': 3200, 'DONE': 2, 'OBS': 1, 'DONOTOBSERVE': 0, 'MORE_ZWARN': 3200, 'MORE_ZGOOD': 3200}, 'numobs': 1}]\n",
      "  - [LRG_2PASS,        4, \"LRG observed in 2nd pass\", {'obsconditions': 'DARK', 'priorities': {'UNOBS': 3200, 'DONE': 2, 'OBS': 1, 'DONOTOBSERVE': 0, 'MORE_ZWARN': 3200, 'MORE_ZGOOD': 3200}, 'numobs': 2}]\n",
      "  - [LRG_NORTH,        8, \"LRG from Bok/Mosaic data\", {'obsconditions': 'DARK', 'priorities': {'UNOBS': 3200, 'DONE': 2, 'OBS': 1, 'DONOTOBSERVE': 0, 'MORE_ZWARN': 3200, 'MORE_ZGOOD': 3200}, 'numobs': 2}]\n",
      "  - [ELG_NORTH,        9, \"ELG from Bok/Mosaic data\", {'obsconditions': 'DARK|GRAY', 'priorities': {'UNOBS': 3000, 'DONE': 2, 'OBS': 1, 'DONOTOBSERVE': 0, 'MORE_ZWARN': 3000, 'MORE_ZGOOD': 3000}, 'numobs': 1}]\n",
      "  - [QSO_NORTH,       10, \"QSO from Bok/Mosaic data\", {'obsconditions': 'DARK', 'priorities': {'UNOBS': 3400, 'MORE_ZGOOD': 3500, 'DONE': 2, 'OBS': 1, 'DONOTOBSERVE': 0, 'MORE_ZWARN': 3400}, 'numobs': 4}]\n",
      "  - [LRG_SOUTH,       16, \"LRG from DECam data\", {'obsconditions': 'DARK', 'priorities': {'UNOBS': 3200, 'DONE': 2, 'OBS': 1, 'DONOTOBSERVE': 0, 'MORE_ZWARN': 3200, 'MORE_ZGOOD': 3200}, 'numobs': 2}]\n",
      "  - [ELG_SOUTH,       17, \"ELG from DECam data\", {'obsconditions': 'DARK|GRAY', 'priorities': {'UNOBS': 3000, 'DONE': 2, 'OBS': 1, 'DONOTOBSERVE': 0, 'MORE_ZWARN': 3000, 'MORE_ZGOOD': 3000}, 'numobs': 1}]\n",
      "  - [QSO_SOUTH,       18, \"QSO from DECam data\", {'obsconditions': 'DARK', 'priorities': {'UNOBS': 3400, 'MORE_ZGOOD': 3500, 'DONE': 2, 'OBS': 1, 'DONOTOBSERVE': 0, 'MORE_ZWARN': 3400}, 'numobs': 4}]\n",
      "  - [LRG_1PASS_NORTH, 24, \"LRG observed in 1st pass from Bok/Mosaic\", {'obsconditions': 'DARK', 'priorities': {'UNOBS': 3200, 'DONE': 2, 'OBS': 1, 'DONOTOBSERVE': 0, 'MORE_ZWARN': 3200, 'MORE_ZGOOD': 3200}, 'numobs': 1}]\n",
      "  - [LRG_2PASS_NORTH, 25, \"LRG observed in 2nd pass from Bok/Mosaic\", {'obsconditions': 'DARK', 'priorities': {'UNOBS': 3200, 'DONE': 2, 'OBS': 1, 'DONOTOBSERVE': 0, 'MORE_ZWARN': 3200, 'MORE_ZGOOD': 3200}, 'numobs': 2}]\n",
      "  - [LRG_1PASS_SOUTH, 28, \"LRG observed in 1st pass from DECam\", {'obsconditions': 'DARK', 'priorities': {'UNOBS': 3200, 'DONE': 2, 'OBS': 1, 'DONOTOBSERVE': 0, 'MORE_ZWARN': 3200, 'MORE_ZGOOD': 3200}, 'numobs': 1}]\n",
      "  - [LRG_2PASS_SOUTH, 29, \"LRG observed in 2nd pass from DECam\", {'obsconditions': 'DARK', 'priorities': {'UNOBS': 3200, 'DONE': 2, 'OBS': 1, 'DONOTOBSERVE': 0, 'MORE_ZWARN': 3200, 'MORE_ZGOOD': 3200}, 'numobs': 2}]\n",
      "  - [SKY,             32, \"Blank sky locations\", {'obsconditions': 'DARK|GRAY|BRIGHT|POOR|TWILIGHT12|TWILIGHT18', 'priorities': {}, 'numobs': -1}]\n",
      "  - [STD_FAINT,       33, \"Standard stars for dark/gray conditions\", {'obsconditions': 'DARK|GRAY', 'priorities': {}, 'numobs': -1}]\n",
      "  - [STD_WD,          34, \"White Dwarf stars\", {'obsconditions': 'DARK|GRAY|BRIGHT', 'priorities': {}, 'numobs': -1}]\n",
      "  - [STD_BRIGHT,      35, \"Standard stars for BRIGHT conditions\", {'obsconditions': 'BRIGHT', 'priorities': {}, 'numobs': -1}]\n",
      "  - [BAD_SKY,         36, \"Blank sky locations that are imperfect but still useable\", {'obsconditions': 'DARK|GRAY|BRIGHT|POOR|TWILIGHT12|TWILIGHT18', 'priorities': {'UNOBS': 0, 'OBS': 0, 'DONE': 0, 'MORE_ZWARN': 0, 'MORE_ZGOOD': 0, 'DONOTOBSERVE': 1}, 'numobs': 0}]\n",
      "  - [NO_TARGET,       49, \"No known target at this location\", {'obsconditions': 'DARK|GRAY|BRIGHT|POOR|TWILIGHT12|TWILIGHT18', 'priorities': {}, 'numobs': -1}]\n",
      "  - [BRIGHT_OBJECT,   50, \"Known bright object to avoid\", {'obsconditions': 'APOCALYPSE', 'priorities': {}, 'numobs': -1}]\n",
      "  - [IN_BRIGHT_OBJECT, 51, \"Too near a bright object; DO NOT OBSERVE\", {'obsconditions': 'APOCALYPSE', 'priorities': {}, 'numobs': -1}]\n",
      "  - [NEAR_BRIGHT_OBJECT, 52, \"Near a bright object but ok to observe\", {'obsconditions': 'DARK|GRAY|BRIGHT|POOR|TWILIGHT12|TWILIGHT18', 'priorities': {}, 'numobs': -1}]\n",
      "  - [BGS_ANY,         60, \"Any BGS bit is set\", {'obsconditions': 'BRIGHT', 'priorities': {}, 'numobs': -1}]\n",
      "  - [MWS_ANY,         61, \"Any MWS bit is set\", {'obsconditions': 'BRIGHT', 'priorities': {}, 'numobs': -1}]\n",
      "  - [SECONDARY_ANY,   62, \"Any secondary bit is set\", {'obsconditions': 'DARK|GRAY|BRIGHT|POOR|TWILIGHT12|TWILIGHT18', 'priorities': {}, 'numobs': -1}]\n"
     ]
    }
   ],
   "source": [
    "from desitarget.targets import desi_mask, bgs_mask, mws_mask\n",
    "print(desi_mask)"
   ]
  },
  {
   "cell_type": "markdown",
   "metadata": {},
   "source": [
    "The mask contains the name of the target bit (e.g. `ELG`) the bit value to which that name corresponds (e.g. `1`, meaning 2-to-the-power-1), a description of the target (e.g. `\"ELG\"`) and a dictionary of values that contain information for fiber assignment, such as the observing conditions allowed for the target, the initial priority with which the target class should be observed, and the initial number of observations for the target class. Note that these bits of information can be accessed individually in a number of ways:"
   ]
  },
  {
   "cell_type": "code",
   "execution_count": 2,
   "metadata": {},
   "outputs": [
    {
     "data": {
      "text/plain": [
       "(4, 4)"
      ]
     },
     "execution_count": 2,
     "metadata": {},
     "output_type": "execute_result"
    }
   ],
   "source": [
    "desi_mask[\"QSO\"], desi_mask.QSO # ADM different ways of accessing the bit values."
   ]
  },
  {
   "cell_type": "code",
   "execution_count": 3,
   "metadata": {},
   "outputs": [
    {
     "data": {
      "text/plain": [
       "['LRG',\n",
       " 'ELG',\n",
       " 'QSO',\n",
       " 'LRG_1PASS',\n",
       " 'LRG_2PASS',\n",
       " 'LRG_NORTH',\n",
       " 'ELG_NORTH',\n",
       " 'QSO_NORTH',\n",
       " 'LRG_SOUTH',\n",
       " 'ELG_SOUTH',\n",
       " 'QSO_SOUTH',\n",
       " 'LRG_1PASS_NORTH',\n",
       " 'LRG_2PASS_NORTH',\n",
       " 'LRG_1PASS_SOUTH',\n",
       " 'LRG_2PASS_SOUTH',\n",
       " 'SKY',\n",
       " 'STD_FAINT',\n",
       " 'STD_WD',\n",
       " 'STD_BRIGHT',\n",
       " 'BAD_SKY',\n",
       " 'NO_TARGET',\n",
       " 'BRIGHT_OBJECT',\n",
       " 'IN_BRIGHT_OBJECT',\n",
       " 'NEAR_BRIGHT_OBJECT',\n",
       " 'BGS_ANY',\n",
       " 'MWS_ANY',\n",
       " 'SECONDARY_ANY']"
      ]
     },
     "execution_count": 3,
     "metadata": {},
     "output_type": "execute_result"
    }
   ],
   "source": [
    "desi_mask.names() # ADM the names of each target type."
   ]
  },
  {
   "cell_type": "code",
   "execution_count": 4,
   "metadata": {},
   "outputs": [
    {
     "data": {
      "text/plain": [
       "['LRG', 'ELG', 'QSO']"
      ]
     },
     "execution_count": 4,
     "metadata": {},
     "output_type": "execute_result"
    }
   ],
   "source": [
    "desi_mask.names(7) # ADM the names of target classes that correspond to an integer value of 5.\n",
    "# ADM note that 7 is 2**0 + 2**1 + 2**2."
   ]
  },
  {
   "cell_type": "code",
   "execution_count": 5,
   "metadata": {},
   "outputs": [
    {
     "data": {
      "text/plain": [
       "32"
      ]
     },
     "execution_count": 5,
     "metadata": {},
     "output_type": "execute_result"
    }
   ],
   "source": [
    "desi_mask.bitnum(\"SKY\") # ADM the integer value that corresponds to the \"SKY\" bit."
   ]
  },
  {
   "cell_type": "code",
   "execution_count": 6,
   "metadata": {},
   "outputs": [
    {
     "data": {
      "text/plain": [
       "[('LRG', 0, 1),\n",
       " ('ELG', 1, 2),\n",
       " ('QSO', 2, 4),\n",
       " ('LRG_1PASS', 3, 8),\n",
       " ('LRG_2PASS', 4, 16),\n",
       " ('LRG_NORTH', 8, 256),\n",
       " ('ELG_NORTH', 9, 512),\n",
       " ('QSO_NORTH', 10, 1024),\n",
       " ('LRG_SOUTH', 16, 65536),\n",
       " ('ELG_SOUTH', 17, 131072),\n",
       " ('QSO_SOUTH', 18, 262144),\n",
       " ('LRG_1PASS_NORTH', 24, 16777216),\n",
       " ('LRG_2PASS_NORTH', 25, 33554432),\n",
       " ('LRG_1PASS_SOUTH', 28, 268435456),\n",
       " ('LRG_2PASS_SOUTH', 29, 536870912),\n",
       " ('SKY', 32, 4294967296),\n",
       " ('STD_FAINT', 33, 8589934592),\n",
       " ('STD_WD', 34, 17179869184),\n",
       " ('STD_BRIGHT', 35, 34359738368),\n",
       " ('BAD_SKY', 36, 68719476736),\n",
       " ('NO_TARGET', 49, 562949953421312),\n",
       " ('BRIGHT_OBJECT', 50, 1125899906842624),\n",
       " ('IN_BRIGHT_OBJECT', 51, 2251799813685248),\n",
       " ('NEAR_BRIGHT_OBJECT', 52, 4503599627370496),\n",
       " ('BGS_ANY', 60, 1152921504606846976),\n",
       " ('MWS_ANY', 61, 2305843009213693952),\n",
       " ('SECONDARY_ANY', 62, 4611686018427387904)]"
      ]
     },
     "execution_count": 6,
     "metadata": {},
     "output_type": "execute_result"
    }
   ],
   "source": [
    "names = desi_mask.names()\n",
    "bitnums = [desi_mask.bitnum(name) for name in names]\n",
    "bitvals = [desi_mask[name] for name in names]\n",
    "list(zip(names,bitnums,bitvals)) # ADM the bit and integer value for each defined name."
   ]
  },
  {
   "cell_type": "code",
   "execution_count": 7,
   "metadata": {},
   "outputs": [
    {
     "data": {
      "text/plain": [
       "{'UNOBS': 3200,\n",
       " 'DONE': 2,\n",
       " 'OBS': 1,\n",
       " 'DONOTOBSERVE': 0,\n",
       " 'MORE_ZWARN': 3200,\n",
       " 'MORE_ZGOOD': 3200}"
      ]
     },
     "execution_count": 7,
     "metadata": {},
     "output_type": "execute_result"
    }
   ],
   "source": [
    "desi_mask[\"LRG\"].priorities # ADM a dictionary of initial priorities for the LRG target class."
   ]
  },
  {
   "cell_type": "code",
   "execution_count": 8,
   "metadata": {},
   "outputs": [
    {
     "data": {
      "text/plain": [
       "('DARK', 2, 3200)"
      ]
     },
     "execution_count": 8,
     "metadata": {},
     "output_type": "execute_result"
    }
   ],
   "source": [
    "desi_mask[\"LRG\"].obsconditions, desi_mask[\"LRG\"].numobs, desi_mask[\"LRG\"].priorities[\"MORE_ZGOOD\"]"
   ]
  },
  {
   "cell_type": "markdown",
   "metadata": {},
   "source": [
    "There are corresponding masks for the `BGS` and`MWS`, which can be accessed in the same way, e.g.:"
   ]
  },
  {
   "cell_type": "code",
   "execution_count": 9,
   "metadata": {},
   "outputs": [
    {
     "data": {
      "text/plain": [
       "['BGS_FAINT',\n",
       " 'BGS_BRIGHT',\n",
       " 'BGS_FAINT_NORTH',\n",
       " 'BGS_BRIGHT_NORTH',\n",
       " 'BGS_FAINT_SOUTH',\n",
       " 'BGS_BRIGHT_SOUTH',\n",
       " 'BGS_KNOWN_ANY',\n",
       " 'BGS_KNOWN_COLLIDED',\n",
       " 'BGS_KNOWN_SDSS',\n",
       " 'BGS_KNOWN_BOSS']"
      ]
     },
     "execution_count": 9,
     "metadata": {},
     "output_type": "execute_result"
    }
   ],
   "source": [
    "bgs_mask.names()"
   ]
  },
  {
   "cell_type": "code",
   "execution_count": 10,
   "metadata": {},
   "outputs": [
    {
     "data": {
      "text/plain": [
       "['MWS_MAIN',\n",
       " 'MWS_WD',\n",
       " 'MWS_NEARBY',\n",
       " 'MWS_MAIN_NORTH',\n",
       " 'MWS_MAIN_SOUTH',\n",
       " 'MWS_MAIN_BLUE',\n",
       " 'MWS_MAIN_BLUE_NORTH',\n",
       " 'MWS_MAIN_BLUE_SOUTH',\n",
       " 'MWS_MAIN_RED',\n",
       " 'MWS_MAIN_RED_NORTH',\n",
       " 'MWS_MAIN_RED_SOUTH']"
      ]
     },
     "execution_count": 10,
     "metadata": {},
     "output_type": "execute_result"
    }
   ],
   "source": [
    "mws_mask.names()"
   ]
  },
  {
   "cell_type": "markdown",
   "metadata": {},
   "source": [
    "# Using the bitmasks to understand a file of targets#\n",
    "\n",
    "The target files produced by `select_targets` contain many quantities from the Legacy Surveys data model sweeps files at, e.g.:\n",
    "\n",
    "http://www.legacysurvey.org/dr7/files/#sweep-7-0-sweep-brickmin-brickmax-fits\n",
    "\n",
    "The main columns added by `select_targets` are `DESI_TARGET`, `BGS_TARGET` and `MWS_TARGET`, which contain the output bitmasks from target selection. Let's take a closer look at how these columns can be used in conjunction with the bitmasks.\n",
    "\n",
    "First, enter the Python prompt. Now, let's read in a file of targets. I'll assume you're working at NERSC, but set ``targdir``, below, to wherever you have a `targets-` file."
   ]
  },
  {
   "cell_type": "code",
   "execution_count": 12,
   "metadata": {},
   "outputs": [],
   "source": [
    "import os\n",
    "from glob import glob\n",
    "from astropy.io.fits import getdata\n",
    "import numpy as np\n",
    "# ADM replace this with any directory you know of that holds targets.\n",
    "targdir = \"/project/projectdirs/desi/target/catalogs/examples\"\n",
    "# ADM replace this with the name of any target file.\n",
    "targfile = 'targets.fits'\n",
    "targfile = os.path.join(targdir, targfile)\n",
    "targs = getdata(targfile)"
   ]
  },
  {
   "cell_type": "markdown",
   "metadata": {},
   "source": [
    "Note that if you took the file from my the `examples` directory, then you're using an example file that only contains a subset of columns."
   ]
  },
  {
   "cell_type": "code",
   "execution_count": 13,
   "metadata": {},
   "outputs": [
    {
     "name": "stdout",
     "output_type": "stream",
     "text": [
      "(numpy.record, [('RA', '>f8'), ('DEC', '>f8'), ('FLUX_G', '>f4'), ('FLUX_R', '>f4'), ('FLUX_Z', '>f4'), ('FLUX_W1', '>f4'), ('FLUX_W2', '>f4'), ('MW_TRANSMISSION_G', '>f4'), ('MW_TRANSMISSION_R', '>f4'), ('MW_TRANSMISSION_Z', '>f4'), ('MW_TRANSMISSION_W1', '>f4'), ('MW_TRANSMISSION_W2', '>f4'), ('PARALLAX', '>f4'), ('PMRA', '>f4'), ('PMDEC', '>f4'), ('DESI_TARGET', '>i8'), ('BGS_TARGET', '>i8'), ('MWS_TARGET', '>i8')])\n"
     ]
    }
   ],
   "source": [
    "print(targs.dtype)"
   ]
  },
  {
   "cell_type": "markdown",
   "metadata": {},
   "source": [
    "Let's consider the value of `DESI_TARGET` for the forty-second target:"
   ]
  },
  {
   "cell_type": "code",
   "execution_count": 14,
   "metadata": {},
   "outputs": [
    {
     "name": "stdout",
     "output_type": "stream",
     "text": [
      "394758\n"
     ]
    }
   ],
   "source": [
    "targ = targs[41]\n",
    "print(targ[\"DESI_TARGET\"])"
   ]
  },
  {
   "cell_type": "markdown",
   "metadata": {},
   "source": [
    "What does this number mean? Well, let's see which target classes are defined by this integer:"
   ]
  },
  {
   "cell_type": "code",
   "execution_count": 15,
   "metadata": {},
   "outputs": [
    {
     "data": {
      "text/plain": [
       "['ELG', 'QSO', 'ELG_NORTH', 'QSO_NORTH', 'ELG_SOUTH', 'QSO_SOUTH']"
      ]
     },
     "execution_count": 15,
     "metadata": {},
     "output_type": "execute_result"
    }
   ],
   "source": [
    "from desitarget.targets import desi_mask\n",
    "desi_mask.names(targ[\"DESI_TARGET\"])"
   ]
  },
  {
   "cell_type": "markdown",
   "metadata": {},
   "source": [
    "Now let's see what target classes are include for the first 10 targets:"
   ]
  },
  {
   "cell_type": "code",
   "execution_count": 16,
   "metadata": {},
   "outputs": [
    {
     "name": "stdout",
     "output_type": "stream",
     "text": [
      "1152921504606846976 ['BGS_ANY']\n",
      "131586 ['ELG' 'ELG_NORTH' 'ELG_SOUTH']\n",
      "1152921504606846976 ['BGS_ANY']\n",
      "285278473 ['LRG' 'LRG_1PASS' 'LRG_NORTH' 'LRG_SOUTH' 'LRG_1PASS_NORTH'\n",
      " 'LRG_1PASS_SOUTH']\n",
      "131586 ['ELG' 'ELG_NORTH' 'ELG_SOUTH']\n",
      "1152921504606846976 ['BGS_ANY']\n",
      "131586 ['ELG' 'ELG_NORTH' 'ELG_SOUTH']\n",
      "131074 ['ELG' 'ELG_SOUTH']\n",
      "131586 ['ELG' 'ELG_NORTH' 'ELG_SOUTH']\n",
      "131586 ['ELG' 'ELG_NORTH' 'ELG_SOUTH']\n"
     ]
    }
   ],
   "source": [
    "bitnames = np.array(desi_mask.names())  # ADM note the array conversion to help manipulation.\n",
    "bitvals = [desi_mask[name] for name in bitnames]\n",
    "for targ in targs[:10]:\n",
    "    w = np.where( (targ[\"DESI_TARGET\"] & bitvals) != 0)[0]\n",
    "    print(targ[\"DESI_TARGET\"], bitnames[w])"
   ]
  },
  {
   "cell_type": "markdown",
   "metadata": {},
   "source": [
    "So far, we've looked at the target class for each target. Now, let's just extract target classes that correspond to a certain bit. For example, which of the first 10 targets have the 'BGS_ANY' bit set?"
   ]
  },
  {
   "cell_type": "code",
   "execution_count": 17,
   "metadata": {},
   "outputs": [
    {
     "data": {
      "text/plain": [
       "array([0, 2, 5])"
      ]
     },
     "execution_count": 17,
     "metadata": {},
     "output_type": "execute_result"
    }
   ],
   "source": [
    "np.where((targs[:10][\"DESI_TARGET\"] & desi_mask[\"BGS_ANY\"]) != 0)[0]"
   ]
  },
  {
   "cell_type": "markdown",
   "metadata": {},
   "source": [
    "Which of *all* of the targets are *both* ELG and quasar targets?"
   ]
  },
  {
   "cell_type": "code",
   "execution_count": 18,
   "metadata": {},
   "outputs": [
    {
     "data": {
      "text/plain": [
       "array([ 41, 265, 355, 535, 561, 753, 788, 804, 835, 937])"
      ]
     },
     "execution_count": 18,
     "metadata": {},
     "output_type": "execute_result"
    }
   ],
   "source": [
    "isELG = (targs[\"DESI_TARGET\"] & desi_mask[\"ELG\"]) != 0\n",
    "isQSO = (targs[\"DESI_TARGET\"] & desi_mask[\"QSO\"]) != 0\n",
    "np.where(isELG & isQSO)[0]"
   ]
  },
  {
   "cell_type": "markdown",
   "metadata": {},
   "source": [
    "Alternatively, more compactly\""
   ]
  },
  {
   "cell_type": "code",
   "execution_count": 19,
   "metadata": {},
   "outputs": [
    {
     "data": {
      "text/plain": [
       "array([ 41, 265, 355, 535, 561, 753, 788, 804, 835, 937])"
      ]
     },
     "execution_count": 19,
     "metadata": {},
     "output_type": "execute_result"
    }
   ],
   "source": [
    "bitvalboth = desi_mask[\"ELG\"] + desi_mask[\"QSO\"]\n",
    "np.where(targs[\"DESI_TARGET\"] & bitvalboth == bitvalboth)[0]"
   ]
  },
  {
   "cell_type": "markdown",
   "metadata": {},
   "source": [
    "You should note that the forty-second target studied above pops up in these lists!"
   ]
  },
  {
   "cell_type": "markdown",
   "metadata": {},
   "source": [
    "Note that ``desi_mask`` contains a couple of special bits that simply denote whether a target is a `BGS` or `MWS` target. These are called ``BGS_ANY`` and ``MWS_ANY``. For example:"
   ]
  },
  {
   "cell_type": "code",
   "execution_count": 20,
   "metadata": {},
   "outputs": [
    {
     "name": "stdout",
     "output_type": "stream",
     "text": [
      "[ True False  True False False  True False False False False]\n",
      "[ True False  True False False  True False False False False]\n"
     ]
    }
   ],
   "source": [
    "print((targs[:10][\"DESI_TARGET\"] & desi_mask[\"BGS_ANY\"]) != 0)\n",
    "print(targs[:10][\"BGS_TARGET\"] != 0)"
   ]
  },
  {
   "cell_type": "markdown",
   "metadata": {},
   "source": [
    "Bits representing targets for the `Bright Galaxy Survey` and `Milky Way Survey` can be manipulated in the same way as previous examples in this section. The relevant columns and masks are ``BGS_TARGET`` and ``bgs_mask``, and ``MWS_TARGET`` and ``mws_mask`` respectively. For example:"
   ]
  },
  {
   "cell_type": "code",
   "execution_count": 21,
   "metadata": {},
   "outputs": [
    {
     "name": "stdout",
     "output_type": "stream",
     "text": [
      "131586 ['BGS_BRIGHT' 'BGS_BRIGHT_NORTH' 'BGS_BRIGHT_SOUTH']\n",
      "0 []\n",
      "65793 ['BGS_FAINT' 'BGS_FAINT_NORTH' 'BGS_FAINT_SOUTH']\n",
      "0 []\n",
      "0 []\n",
      "65793 ['BGS_FAINT' 'BGS_FAINT_NORTH' 'BGS_FAINT_SOUTH']\n",
      "0 []\n",
      "0 []\n",
      "0 []\n",
      "0 []\n"
     ]
    }
   ],
   "source": [
    "from desitarget.targets import bgs_mask, mws_mask\n",
    "bitnames = np.array(bgs_mask.names())  # ADM note the array conversion to help manipulation.\n",
    "bitvals = [bgs_mask[name] for name in bitnames]\n",
    "for targ in targs[:10]:\n",
    "    w = np.where( (targ[\"BGS_TARGET\"] & bitvals) != 0)[0]\n",
    "    print(targ[\"BGS_TARGET\"], bitnames[w])"
   ]
  },
  {
   "cell_type": "markdown",
   "metadata": {},
   "source": [
    "# An advanced example#\n",
    "\n",
    "As a challenge, let's try to find all quasar targets that are close to an LRG target using our example file of targets.\n",
    "\n",
    "First, let's retrieve all LRG and QSO targets from our file."
   ]
  },
  {
   "cell_type": "code",
   "execution_count": 22,
   "metadata": {},
   "outputs": [],
   "source": [
    "from desitarget.targets import desi_mask\n",
    "isLRG = (targs[\"DESI_TARGET\"] & desi_mask[\"LRG\"]) != 0\n",
    "isQSO = (targs[\"DESI_TARGET\"] & desi_mask[\"QSO\"]) != 0\n",
    "lrgs, qsos = targs[isLRG], targs[isQSO]"
   ]
  },
  {
   "cell_type": "code",
   "execution_count": 23,
   "metadata": {},
   "outputs": [
    {
     "name": "stdout",
     "output_type": "stream",
     "text": [
      "['ELG', 'QSO', 'ELG_NORTH', 'QSO_NORTH', 'ELG_SOUTH', 'QSO_SOUTH']\n",
      "['QSO', 'QSO_NORTH', 'QSO_SOUTH']\n",
      "['QSO', 'QSO_NORTH', 'QSO_SOUTH']\n",
      "['QSO', 'QSO_NORTH', 'QSO_SOUTH']\n",
      "['QSO', 'QSO_NORTH', 'QSO_SOUTH']\n",
      "['QSO', 'QSO_NORTH', 'QSO_SOUTH']\n",
      "['QSO', 'QSO_NORTH', 'QSO_SOUTH']\n",
      "['QSO', 'QSO_NORTH', 'QSO_SOUTH']\n",
      "['QSO', 'QSO_NORTH', 'QSO_SOUTH']\n",
      "['QSO', 'QSO_NORTH', 'QSO_SOUTH']\n"
     ]
    }
   ],
   "source": [
    "# ADM a sanity check.\n",
    "for qso in qsos[:10]:\n",
    "    print(desi_mask.names(qso[\"DESI_TARGET\"]))"
   ]
  },
  {
   "cell_type": "markdown",
   "metadata": {},
   "source": [
    "We'll need the astropy spatial matching functions:"
   ]
  },
  {
   "cell_type": "code",
   "execution_count": 24,
   "metadata": {},
   "outputs": [],
   "source": [
    "from astropy.coordinates import SkyCoord\n",
    "from astropy import units as u"
   ]
  },
  {
   "cell_type": "markdown",
   "metadata": {},
   "source": [
    "Convert the lrgs and quasars to SkyCoord objects:"
   ]
  },
  {
   "cell_type": "code",
   "execution_count": 25,
   "metadata": {},
   "outputs": [],
   "source": [
    "clrgs = SkyCoord(lrgs[\"RA\"], lrgs[\"DEC\"], unit='degree')\n",
    "cqsos = SkyCoord(qsos[\"RA\"], qsos[\"DEC\"], unit='degree')"
   ]
  },
  {
   "cell_type": "markdown",
   "metadata": {},
   "source": [
    "Perform the match. Let's choose a radius of 1 arcminute:"
   ]
  },
  {
   "cell_type": "code",
   "execution_count": 26,
   "metadata": {},
   "outputs": [],
   "source": [
    "matchrad = 20*u.arcsec\n",
    "idlrgs, idqsos, sep, _ = cqsos.search_around_sky(clrgs, matchrad)"
   ]
  },
  {
   "cell_type": "markdown",
   "metadata": {},
   "source": [
    "Finally, write out the matching lrgs and quasars, and the distance between them:"
   ]
  },
  {
   "cell_type": "code",
   "execution_count": 27,
   "metadata": {},
   "outputs": [
    {
     "name": "stdout",
     "output_type": "stream",
     "text": [
      "LRG coordinates: 338.9023 deg, -0.3676 deg\n",
      "QSO coordinates: 338.9003 deg, -0.3627 deg\n",
      "Angular separation: 18.8160 arcsec\n",
      "LRG coordinates: 338.9433 deg, -0.3250 deg\n",
      "QSO coordinates: 338.9396 deg, -0.3270 deg\n",
      "Angular separation: 15.2783 arcsec\n"
     ]
    }
   ],
   "source": [
    "lrgmatch, qsomatch = lrgs[idlrgs], qsos[idqsos]\n",
    "for i in range(len(lrgmatch)):\n",
    "    print(\"LRG coordinates: {:.4f} deg, {:.4f} deg\".format(lrgmatch[i][\"RA\"], lrgmatch[i][\"DEC\"]))\n",
    "    print(\"QSO coordinates: {:.4f} deg, {:.4f} deg\".format(qsomatch[i][\"RA\"], qsomatch[i][\"DEC\"]))\n",
    "    print(\"Angular separation: {:.4f} arcsec\".format(sep.value[i]*3600))"
   ]
  },
  {
   "cell_type": "markdown",
   "metadata": {},
   "source": [
    "So, there are a couple of LRG targets within 20 arcseconds of a quasar target."
   ]
  }
 ],
 "metadata": {
  "kernelspec": {
   "display_name": "DESI development",
   "language": "python",
   "name": "desi-development"
  },
  "language_info": {
   "codemirror_mode": {
    "name": "ipython",
    "version": 3
   },
   "file_extension": ".py",
   "mimetype": "text/x-python",
   "name": "python",
   "nbconvert_exporter": "python",
   "pygments_lexer": "ipython3",
   "version": "3.6.5"
  }
 },
 "nbformat": 4,
 "nbformat_minor": 2
}
