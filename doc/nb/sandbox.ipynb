{
 "cells": [
  {
   "cell_type": "code",
   "execution_count": 1,
   "metadata": {
    "collapsed": true
   },
   "outputs": [],
   "source": [
    "import os\n",
    "import numpy as np\n",
    "import healpy as hp\n",
    "import matplotlib.pyplot as plt\n",
    "%matplotlib inline"
   ]
  },
  {
   "cell_type": "code",
   "execution_count": 2,
   "metadata": {},
   "outputs": [
    {
     "name": "stdout",
     "output_type": "stream",
     "text": [
      "INFO:io.py:1013:read_basis_templates: Reading /Users/ioannis/work/desi/spectro/templates/basis_templates/v2.5/bgs_templates_v2.1.fits metadata.\n"
     ]
    }
   ],
   "source": [
    "from desitarget.mock.mockmaker import BGSMaker\n",
    "mm = BGSMaker()"
   ]
  },
  {
   "cell_type": "code",
   "execution_count": 6,
   "metadata": {},
   "outputs": [
    {
     "name": "stdout",
     "output_type": "stream",
     "text": [
      "INFO:mockmaker.py:1189:readmock: Reading the whole DESI footprint with nside = 16!\n",
      "INFO:mockmaker.py:1209:readmock: Assigning healpix pixels with nside = 16\n",
      "INFO:mockmaker.py:1222:readmock: Trimmed to 41561531 BGSs in 1269 healpixel(s).\n",
      "INFO:mockmaker.py:1250:readmock: Trimmed to 20885418 BGSs with r < 20.\n",
      "CPU times: user 32.8 s, sys: 6.77 s, total: 39.5 s\n",
      "Wall time: 40.1 s\n"
     ]
    }
   ],
   "source": [
    "%time data = mm.read(magcut=20)"
   ]
  },
  {
   "cell_type": "code",
   "execution_count": 4,
   "metadata": {},
   "outputs": [
    {
     "name": "stdout",
     "output_type": "stream",
     "text": [
      "INFO:mockmaker.py:1189:readmock: Reading the whole DESI footprint with nside = 16!\n",
      "INFO:mockmaker.py:1209:readmock: Assigning healpix pixels with nside = 16\n",
      "INFO:mockmaker.py:1222:readmock: Trimmed to 41561531 BGSs in 1269 healpixel(s).\n",
      "INFO:mockmaker.py:1250:readmock: Trimmed to 20885418 BGSs with r < 20.\n",
      "CPU times: user 20.7 s, sys: 6.15 s, total: 26.8 s\n",
      "Wall time: 27.7 s\n"
     ]
    }
   ],
   "source": [
    "%time data = mm.read(magcut=20, only_coords=True)"
   ]
  },
  {
   "cell_type": "code",
   "execution_count": 7,
   "metadata": {},
   "outputs": [
    {
     "data": {
      "text/plain": [
       "dict_keys(['SDSS_absmag_r01', 'HEALPIX', 'BRICKNAME', 'Z', 'NSIDE', 'TARGET_NAME', 'MAG', 'NORMFILTER', 'MOCKFORMAT', 'MOCKID', 'SDSS_01gr', 'WEIGHT', 'DEC', 'RA'])"
      ]
     },
     "execution_count": 7,
     "metadata": {},
     "output_type": "execute_result"
    }
   ],
   "source": [
    "data.keys()"
   ]
  },
  {
   "cell_type": "code",
   "execution_count": null,
   "metadata": {},
   "outputs": [],
   "source": [
    "mm.qamock_sky(data)"
   ]
  },
  {
   "cell_type": "code",
   "execution_count": null,
   "metadata": {},
   "outputs": [],
   "source": [
    "stop"
   ]
  },
  {
   "cell_type": "code",
   "execution_count": null,
   "metadata": {
    "collapsed": true
   },
   "outputs": [],
   "source": [
    "from desitarget.mock.mockmaker import QSOMaker\n",
    "qq = QSOMaker()"
   ]
  },
  {
   "cell_type": "code",
   "execution_count": null,
   "metadata": {},
   "outputs": [],
   "source": [
    "qdata = qq.read()"
   ]
  },
  {
   "cell_type": "code",
   "execution_count": null,
   "metadata": {},
   "outputs": [],
   "source": [
    "qq.qamock_sky(qdata)"
   ]
  },
  {
   "cell_type": "code",
   "execution_count": null,
   "metadata": {},
   "outputs": [],
   "source": [
    "qdata.keys()"
   ]
  },
  {
   "cell_type": "code",
   "execution_count": null,
   "metadata": {},
   "outputs": [],
   "source": [
    "area = hp.nside2pixarea(qdata['NSIDE'], degrees=True)\n",
    "print(area)"
   ]
  },
  {
   "cell_type": "code",
   "execution_count": null,
   "metadata": {
    "collapsed": true
   },
   "outputs": [],
   "source": [
    "tt = []\n",
    "for hh in set(qdata['HEALPIX']):\n",
    "    these = np.in1d(qdata['HEALPIX'], hh)\n",
    "    tt.append(np.sum(qdata['WEIGHT'][these]) / area)\n",
    "tt = np.array(tt)"
   ]
  },
  {
   "cell_type": "code",
   "execution_count": null,
   "metadata": {},
   "outputs": [],
   "source": [
    "_ = plt.hist(tt, bins=100)"
   ]
  },
  {
   "cell_type": "code",
   "execution_count": null,
   "metadata": {},
   "outputs": [],
   "source": [
    "print(np.mean(tt), np.median(tt), np.std(tt))"
   ]
  },
  {
   "cell_type": "code",
   "execution_count": null,
   "metadata": {},
   "outputs": [],
   "source": [
    "np.std(tt)/np.median(tt)"
   ]
  },
  {
   "cell_type": "code",
   "execution_count": null,
   "metadata": {},
   "outputs": [],
   "source": [
    "npix = np.sum(qdata['WEIGHT'])\n",
    "print(npix, len(np.unique(qdata['HEALPIX'])))\n",
    "#npix = len(np.unique(qdata['HEALPIX']))\n",
    "area = npix * hp.nside2pixarea(qdata['NSIDE'], degrees=True)\n",
    "mock_density = len(qdata['RA']) / area\n",
    "print(mock_density)"
   ]
  },
  {
   "cell_type": "code",
   "execution_count": null,
   "metadata": {},
   "outputs": [],
   "source": [
    "223.859663706/249.438739471"
   ]
  },
  {
   "cell_type": "code",
   "execution_count": null,
   "metadata": {
    "collapsed": true
   },
   "outputs": [],
   "source": []
  }
 ],
 "metadata": {
  "kernelspec": {
   "display_name": "Python 3",
   "language": "python",
   "name": "python3"
  },
  "language_info": {
   "codemirror_mode": {
    "name": "ipython",
    "version": 3
   },
   "file_extension": ".py",
   "mimetype": "text/x-python",
   "name": "python",
   "nbconvert_exporter": "python",
   "pygments_lexer": "ipython3",
   "version": "3.5.3"
  }
 },
 "nbformat": 4,
 "nbformat_minor": 2
}
