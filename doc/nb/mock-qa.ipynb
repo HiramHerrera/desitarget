{
 "cells": [
  {
   "cell_type": "markdown",
   "metadata": {},
   "source": [
    "# Connecting mocks to spectra.\n",
    "\n",
    "This notebook presents QA checks of the code which assigns spectra to the mock catalogs."
   ]
  },
  {
   "cell_type": "markdown",
   "metadata": {},
   "source": [
    "## Initialize"
   ]
  },
  {
   "cell_type": "code",
   "execution_count": 1,
   "metadata": {
    "collapsed": false
   },
   "outputs": [
    {
     "name": "stdout",
     "output_type": "stream",
     "text": [
      "Populating the interactive namespace from numpy and matplotlib\n"
     ]
    }
   ],
   "source": [
    "%pylab inline"
   ]
  },
  {
   "cell_type": "code",
   "execution_count": 2,
   "metadata": {
    "collapsed": true
   },
   "outputs": [],
   "source": [
    "import os\n",
    "import numpy as np\n",
    "import warnings\n",
    "import yaml\n",
    "from glob import glob"
   ]
  },
  {
   "cell_type": "code",
   "execution_count": 3,
   "metadata": {
    "collapsed": false
   },
   "outputs": [],
   "source": [
    "# Note that you need the standard desi/conda dependencies + matplotlib, \n",
    "# basemap, and healpy to run this notebook.\n",
    "import matplotlib.pyplot as plt\n",
    "from matplotlib.patches import Polygon\n",
    "import fitsio\n",
    "from astropy.table import Table, Column, vstack"
   ]
  },
  {
   "cell_type": "code",
   "execution_count": 4,
   "metadata": {
    "collapsed": false
   },
   "outputs": [
    {
     "ename": "ImportError",
     "evalue": "cannot import name 'contam_mask'",
     "output_type": "error",
     "traceback": [
      "\u001b[0;31m---------------------------------------------------------------------------\u001b[0m",
      "\u001b[0;31mImportError\u001b[0m                               Traceback (most recent call last)",
      "\u001b[0;32m<ipython-input-4-f0d3a1bed4e4>\u001b[0m in \u001b[0;36m<module>\u001b[0;34m()\u001b[0m\n\u001b[1;32m      1\u001b[0m \u001b[0;32mfrom\u001b[0m \u001b[0mdesispec\u001b[0m\u001b[0;34m.\u001b[0m\u001b[0mbrick\u001b[0m \u001b[0;32mimport\u001b[0m \u001b[0mbrickname\u001b[0m \u001b[0;32mas\u001b[0m \u001b[0mget_brickname_from_radec\u001b[0m\u001b[0;34m\u001b[0m\u001b[0m\n\u001b[0;32m----> 2\u001b[0;31m \u001b[0;32mfrom\u001b[0m \u001b[0mdesitarget\u001b[0m\u001b[0;34m.\u001b[0m\u001b[0mtargetmask\u001b[0m \u001b[0;32mimport\u001b[0m \u001b[0mdesi_mask\u001b[0m\u001b[0;34m,\u001b[0m \u001b[0mbgs_mask\u001b[0m\u001b[0;34m,\u001b[0m \u001b[0mmws_mask\u001b[0m\u001b[0;34m,\u001b[0m \u001b[0mcontam_mask\u001b[0m\u001b[0;34m\u001b[0m\u001b[0m\n\u001b[0m\u001b[1;32m      3\u001b[0m \u001b[0;32mfrom\u001b[0m \u001b[0mdesiutil\u001b[0m\u001b[0;34m.\u001b[0m\u001b[0mplots\u001b[0m \u001b[0;32mimport\u001b[0m \u001b[0minit_sky\u001b[0m\u001b[0;34m,\u001b[0m \u001b[0mplot_sky_binned\u001b[0m\u001b[0;34m\u001b[0m\u001b[0m\n\u001b[1;32m      4\u001b[0m \u001b[0;32mfrom\u001b[0m \u001b[0mdesiutil\u001b[0m\u001b[0;34m.\u001b[0m\u001b[0mlog\u001b[0m \u001b[0;32mimport\u001b[0m \u001b[0mget_logger\u001b[0m\u001b[0;34m\u001b[0m\u001b[0m\n\u001b[1;32m      5\u001b[0m \u001b[0mlog\u001b[0m \u001b[0;34m=\u001b[0m \u001b[0mget_logger\u001b[0m\u001b[0;34m(\u001b[0m\u001b[0;34m)\u001b[0m\u001b[0;34m\u001b[0m\u001b[0m\n",
      "\u001b[0;31mImportError\u001b[0m: cannot import name 'contam_mask'"
     ]
    }
   ],
   "source": [
    "from desispec.brick import brickname as get_brickname_from_radec\n",
    "from desitarget.targetmask import desi_mask, bgs_mask, mws_mask, contam_mask\n",
    "from desiutil.plots import init_sky, plot_sky_binned\n",
    "from desiutil.log import get_logger\n",
    "log = get_logger()"
   ]
  },
  {
   "cell_type": "markdown",
   "metadata": {},
   "source": [
    "## Section 1: Assess the input mock catalogs."
   ]
  },
  {
   "cell_type": "markdown",
   "metadata": {},
   "source": [
    "### 1a) Read the mocks and determine the space density at the brick level."
   ]
  },
  {
   "cell_type": "code",
   "execution_count": null,
   "metadata": {
    "collapsed": true
   },
   "outputs": [],
   "source": [
    "def _GRFpath(sky=False):\n",
    "    if sky:\n",
    "        return os.path.join(os.getenv('DESI_ROOT'), 'mocks', 'GaussianRandomField', 'v0.0.1', '2048')\n",
    "    else:\n",
    "        return os.path.join(os.getenv('DESI_ROOT'), 'mocks', 'GaussianRandomField', 'v0.0.5')"
   ]
  },
  {
   "cell_type": "code",
   "execution_count": null,
   "metadata": {
    "collapsed": true
   },
   "outputs": [],
   "source": [
    "def _BGSpath():\n",
    "    return os.path.join(os.getenv('DESI_ROOT'), 'mocks', 'bgs', 'MXXL', 'desi_footprint', 'v0.0.3', 'BGS.hdf5')"
   ]
  },
  {
   "cell_type": "code",
   "execution_count": null,
   "metadata": {
    "collapsed": true
   },
   "outputs": [],
   "source": [
    "def _lyapath():\n",
    "    return os.path.join(os.getenv('DESI_ROOT'), 'mocks', 'lya_forest', 'v0.0.2')"
   ]
  },
  {
   "cell_type": "code",
   "execution_count": null,
   "metadata": {
    "collapsed": true
   },
   "outputs": [],
   "source": [
    "def _mwspath(WD=False, nearby=False, faint=False):\n",
    "    rootpath = os.path.join(os.getenv('DESI_ROOT'), 'mocks', 'mws')\n",
    "    if WD:\n",
    "        return os.path.join(rootpath, 'wd', 'v0.0.2', 'mock_wd.fits')\n",
    "    if nearby:\n",
    "        return os.path.join(rootpath, '100pc', 'v0.0.3', 'mock_100pc.fits')\n",
    "    if faint:\n",
    "        return os.path.join(rootpath, 'galaxia', 'alpha', '0.0.2_superfaint', 'bricks')\n",
    "    # Default\n",
    "    return os.path.join(rootpath, 'galaxia', 'alpha', 'v0.0.4', 'bricks')"
   ]
  },
  {
   "cell_type": "code",
   "execution_count": null,
   "metadata": {
    "collapsed": true
   },
   "outputs": [],
   "source": [
    "def read_GRF(fitsfile):\n",
    "    \"\"\"Read the Gaussian Random Field mocks.\"\"\"\n",
    "    import fitsio\n",
    "    from astropy.table import Table, Column\n",
    "    log.info('Reading {}'.format(fitsfile))\n",
    "    dat = Table(fitsio.read(fitsfile, ext=1, upper=True))\n",
    "    if 'random' not in fitsfile:\n",
    "        dat.add_column(Column(name='Z', data=(dat['Z_COSMO'] + dat['DZ_RSD']).astype('f4')))\n",
    "    \n",
    "    wrap = np.where(dat['RA'] == 360.0)[0]\n",
    "    if len(wrap) > 0:\n",
    "        dat['RA'][wrap] = 0.0\n",
    "\n",
    "    brickname = get_brickname_from_radec(dat['RA'], dat['DEC'], bricksize=0.25)\n",
    "    dat.add_column(Column(name='BRICKNAME', data=brickname))\n",
    "    return dat"
   ]
  },
  {
   "cell_type": "code",
   "execution_count": null,
   "metadata": {
    "collapsed": true
   },
   "outputs": [],
   "source": [
    "def _read_lya(lyafile):\n",
    "    \"\"\"Read the metadata from a single Lya file.\"\"\"\n",
    "    log.info('Reading {}'.format(lyafile))\n",
    "    ra, dec, z = [], [], []\n",
    "    ff = fitsio.FITS(lyafile)\n",
    "    ff = ff[1:len(ff)]\n",
    "    for h in ff:\n",
    "        head = h.read_header()\n",
    "        z.append(head['ZQSO'])\n",
    "        ra.append(head['RA'])\n",
    "        dec.append(head['DEC'])\n",
    "\n",
    "    ra = np.array(ra)\n",
    "    dec = np.array(dec)\n",
    "    z = np.array(z).astype('f4')\n",
    "    ra = ra * 180.0 / np.pi\n",
    "    ra = ra % 360.0 #enforce 0 < ra < 360\n",
    "    dec = dec * 180.0 / np.pi\n",
    "\n",
    "    wrap = np.where(ra == 360.0)[0]\n",
    "    if len(wrap) > 0:\n",
    "        ra[wrap] = 0.0\n",
    "    \n",
    "    dat = Table()\n",
    "    dat.add_column(Column(name='RA', data=ra))\n",
    "    dat.add_column(Column(name='DEC', data=dec))\n",
    "    dat.add_column(Column(name='Z', data=z))\n",
    "    \n",
    "    brickname = get_brickname_from_radec(dat['RA'], dat['DEC'], bricksize=0.25)\n",
    "    dat.add_column(Column(name='BRICKNAME', data=brickname))\n",
    "\n",
    "    return dat"
   ]
  },
  {
   "cell_type": "code",
   "execution_count": null,
   "metadata": {
    "collapsed": true
   },
   "outputs": [],
   "source": [
    "def read_lya(nread=None):\n",
    "    \"\"\"Read the Lyman-alpha mocks.\"\"\"\n",
    "    import multiprocessing\n",
    "    nproc = max(1, multiprocessing.cpu_count() // 2)\n",
    "\n",
    "    lyafiles = glob(os.path.join(_lyapath(), 'simpleSpec_*.fits.gz'))\n",
    "    if nread:\n",
    "        lyafiles = lyafiles[:nread]\n",
    "    log.info('Reading metadata for {} Lya files'.format(len(lyafiles)))\n",
    "\n",
    "    p = multiprocessing.Pool(nproc)\n",
    "    dat = p.map(_read_lya, lyafiles)\n",
    "    p.close()\n",
    "    \n",
    "    return vstack(dat)"
   ]
  },
  {
   "cell_type": "code",
   "execution_count": null,
   "metadata": {
    "collapsed": false
   },
   "outputs": [],
   "source": [
    "def read_BGS(hdf5file):\n",
    "    \"\"\"Read the MXXL/BGS mock.\"\"\"\n",
    "    import h5py\n",
    "    log.info('Reading {}'.format(hdf5file))\n",
    "    f = h5py.File(hdf5file)\n",
    "    ra  = f['Data/ra'][...].astype('f8') % 360.0\n",
    "    dec = f['Data/dec'][...].astype('f8')\n",
    "    zobs = f['Data/z_obs'][...].astype('f4')\n",
    "    rmag = f['Data/app_mag'][...].astype('f8')\n",
    "    log.warning('Note: the BGS mock has been trimmed to r_{SDSS}<20.1, which is not quite right.')\n",
    "    these = rmag < 20.1\n",
    "    \n",
    "    dat = Table()\n",
    "    dat.add_column(Column(name='RA', data=ra[these]))\n",
    "    dat.add_column(Column(name='DEC', data=dec[these]))\n",
    "    dat.add_column(Column(name='Z', data=zobs[these]))\n",
    "\n",
    "    brickname = get_brickname_from_radec(dat['RA'], dat['DEC'], bricksize=0.25)\n",
    "    dat.add_column(Column(name='BRICKNAME', data=brickname))\n",
    "\n",
    "    return dat"
   ]
  },
  {
   "cell_type": "code",
   "execution_count": null,
   "metadata": {
    "collapsed": false
   },
   "outputs": [],
   "source": [
    "def mock_density(allcat, objtype, bricksize=0.25):\n",
    "    \"\"\"Determine the target density of the input mocks (used for QA).\"\"\"\n",
    "    from desispec.brick import Bricks\n",
    "    \n",
    "    brickarea = bricksize**2 # deg2\n",
    "\n",
    "    B = Bricks(bricksize=0.25)\n",
    "    brickname = np.concatenate(B._brickname)\n",
    "    ubrickname = np.unique(brickname)\n",
    "    nbrick = len(ubrickname)\n",
    "    \n",
    "    density = Table()\n",
    "    density.add_column(Column(name='BRICKNAME', length=nbrick, dtype='U10'))\n",
    "    density.add_column(Column(name='DENS_BGS', length=nbrick, dtype='f4'))\n",
    "    density.add_column(Column(name='DENS_ELG', length=nbrick, dtype='f4'))\n",
    "    density.add_column(Column(name='DENS_LRG', length=nbrick, dtype='f4'))\n",
    "    density.add_column(Column(name='DENS_QSO', length=nbrick, dtype='f4'))\n",
    "    density.add_column(Column(name='DENS_LYA', length=nbrick, dtype='f4'))\n",
    "    density.add_column(Column(name='DENS_SKY', length=nbrick, dtype='f4'))\n",
    "\n",
    "    density['BRICKNAME'] = ubrickname\n",
    "    \n",
    "    log.info('Gathering brick info for {} mock catalog(s).'.format(len(np.atleast_1d(objtype))))\n",
    "    for obj in np.atleast_1d(objtype.upper()):\n",
    "        ubricks, nobj = np.unique(data[obj]['BRICKNAME'], return_counts=True)\n",
    "        log.info('Estimating density for {} bricks of object type {}.'.format(\n",
    "            len(ubricks), obj))\n",
    "        # Is there any way to make this faster?!?\n",
    "        for thisbrick, dens in zip(ubricks, nobj):\n",
    "            this = np.where(thisbrick == ubrickname)[0]\n",
    "            density['DENS_{}'.format(obj)][this] = dens / brickarea\n",
    "            \n",
    "    return density"
   ]
  },
  {
   "cell_type": "code",
   "execution_count": null,
   "metadata": {
    "collapsed": true
   },
   "outputs": [],
   "source": [
    "# Dictionary to hold all the mocks.\n",
    "data = dict()"
   ]
  },
  {
   "cell_type": "code",
   "execution_count": null,
   "metadata": {
    "collapsed": false
   },
   "outputs": [],
   "source": [
    "data['BGS'] = read_BGS(_BGSpath())"
   ]
  },
  {
   "cell_type": "code",
   "execution_count": null,
   "metadata": {
    "collapsed": false
   },
   "outputs": [],
   "source": [
    "for mock in ('ELG', 'LRG', 'QSO'):\n",
    "    mockfile = os.path.join(_GRFpath(), '{}.fits'.format(mock))\n",
    "    data[mock] = read_GRF(mockfile)"
   ]
  },
  {
   "cell_type": "code",
   "execution_count": null,
   "metadata": {
    "collapsed": false
   },
   "outputs": [],
   "source": [
    "data['LYA'] = read_lya(nread=4)"
   ]
  },
  {
   "cell_type": "code",
   "execution_count": null,
   "metadata": {
    "collapsed": false
   },
   "outputs": [],
   "source": [
    "mockfile = os.path.join(_GRFpath(sky=True), 'random.fits')\n",
    "data['SKY'] = read_GRF(mockfile)"
   ]
  },
  {
   "cell_type": "code",
   "execution_count": null,
   "metadata": {
    "collapsed": false
   },
   "outputs": [],
   "source": [
    "# Too slow!\n",
    "if False:\n",
    "    mockdensity = mock_density(data, ('BGS', 'ELG', 'LRG', 'QSO', 'LYA', 'SKY'))"
   ]
  },
  {
   "cell_type": "markdown",
   "metadata": {},
   "source": [
    "### 1b) Generate basic QA plots."
   ]
  },
  {
   "cell_type": "code",
   "execution_count": null,
   "metadata": {
    "collapsed": true
   },
   "outputs": [],
   "source": [
    "def qamock_sky(cat, objtype, ax=None):\n",
    "    fig, ax = plt.subplots(1, 2, figsize=(12, 4))\n",
    "    with warnings.catch_warnings():\n",
    "        warnings.simplefilter('ignore')\n",
    "        basemap = init_sky(galactic_plane_color='k', ax=ax[0]);\n",
    "        plot_sky_binned(cat['RA'], cat['DEC'], verbose=False, \n",
    "                        clip_lo='!1', cmap='jet', plot_type='healpix', \n",
    "                        label=r'{} (targets/deg$^2$)'.format(objtype), \n",
    "                        basemap=basemap)\n",
    "    if 'Z' in cat.keys():\n",
    "        ax[1].hist(cat['Z'], bins=100, histtype='stepfilled', alpha=0.6, label=objtype)\n",
    "        ax[1].set_xlabel('Redshift')\n",
    "        ax[1].set_xlim(0, 3)\n",
    "        ax[1].yaxis.set_major_formatter(plt.NullFormatter())\n",
    "        ax[1].legend(loc='upper right', frameon=False)\n",
    "    else:\n",
    "        ax[1].axis('off')\n",
    "    fig.subplots_adjust(wspace=0.2)"
   ]
  },
  {
   "cell_type": "code",
   "execution_count": null,
   "metadata": {
    "collapsed": false
   },
   "outputs": [],
   "source": [
    "for obj in ('BGS', 'ELG', 'LRG'):\n",
    "    qamock_sky(data[obj], obj)"
   ]
  },
  {
   "cell_type": "code",
   "execution_count": null,
   "metadata": {
    "collapsed": false
   },
   "outputs": [],
   "source": [
    "for obj in ('QSO', 'LYA'):\n",
    "    qamock_sky(data[obj], obj)"
   ]
  },
  {
   "cell_type": "code",
   "execution_count": null,
   "metadata": {
    "collapsed": false
   },
   "outputs": [],
   "source": [
    "for obj in np.atleast_1d('SKY'):\n",
    "    qamock_sky(data[obj], obj)"
   ]
  },
  {
   "cell_type": "markdown",
   "metadata": {},
   "source": [
    "### 1c) Clean up to free up memory."
   ]
  },
  {
   "cell_type": "code",
   "execution_count": null,
   "metadata": {
    "collapsed": true
   },
   "outputs": [],
   "source": [
    "del data"
   ]
  },
  {
   "cell_type": "markdown",
   "metadata": {},
   "source": [
    "### 2a) Generate the target and truth catalogs."
   ]
  },
  {
   "cell_type": "code",
   "execution_count": null,
   "metadata": {
    "collapsed": true
   },
   "outputs": [],
   "source": [
    "def write_yaml(bounds=(203, 204, 0, 1), outfile='mock_input.yaml', verbose=False):\n",
    "    \"\"\"Write a yaml file on-the-fly for *all* target types.\"\"\"\n",
    "    log.info('Writing {}'.format(outfile))\n",
    "    yf = open(outfile, 'w')\n",
    "    yf.write('dust_dir: {}\\n'.format(os.path.join(os.getenv('DUST_DIR'), 'maps')))\n",
    "    yf.write('decals_brick_info: {}\\n'.format(os.path.join(os.getenv('DESI_ROOT'), 'target', \n",
    "                                                           'catalogs', 'brick-info-dr3.v0.0.1.fits')))\n",
    "    yf.write('subset:\\n')\n",
    "    yf.write('    ra_dec_cut: True\\n')\n",
    "    for blabel, bbound in zip(('min_ra', 'max_ra', 'min_dec', 'max_dec'), bounds):\n",
    "        yf.write('    {}: {:g}\\n'.format(blabel, bbound))\n",
    "    yf.write('sources:\\n')\n",
    "    yf.write('    ELG: {\\n')\n",
    "    yf.write('        target_name: ELG,\\n')\n",
    "    yf.write('        mock_dir_name: {},\\n'.format(_GRFpath()))\n",
    "    yf.write('        format: gaussianfield,\\n')\n",
    "    yf.write('        density: 2400,\\n')\n",
    "    yf.write('        contam: {\\n')\n",
    "    yf.write('            STAR: 240,\\n')\n",
    "    yf.write('        }\\n')\n",
    "    yf.write('    }\\n')\n",
    "    yf.write('    MWS_MAIN: {\\n')\n",
    "    yf.write('        target_name: MWS_MAIN,\\n')\n",
    "    yf.write('        mock_dir_name: {},\\n'.format(_mwspath()))\n",
    "    yf.write('        format: galaxia,\\n')\n",
    "    yf.write('    }\\n')\n",
    "    yf.write('    FAINTSTAR: {\\n')\n",
    "    yf.write('        target_name: FAINTSTAR,\\n')\n",
    "    yf.write('        mock_dir_name: {},\\n'.format(_mwspath(faint=True)))\n",
    "    yf.write('        format: galaxia,\\n')\n",
    "    yf.write('        magcut: 24.0\\n')\n",
    "    yf.write('    }\\n')\n",
    "    yf.write('    QSO: {\\n')\n",
    "    yf.write('        target_name: QSO,\\n')\n",
    "    yf.write('        mock_dir_name: {},\\n'.format(_GRFpath()))\n",
    "    yf.write('        format: gaussianfield,\\n')\n",
    "    yf.write('        density: 120,\\n')\n",
    "    yf.write('        contam: {\\n')\n",
    "    yf.write('            GALAXY: 27,\\n')\n",
    "    yf.write('            STAR: 63,\\n')\n",
    "    yf.write('        }\\n')\n",
    "    yf.write('    }\\n')\n",
    "    yf.close()    \n",
    "    if verbose:\n",
    "        print()\n",
    "        with(open(outfile, 'r')) as yf:\n",
    "            print(yf.read())"
   ]
  },
  {
   "cell_type": "code",
   "execution_count": null,
   "metadata": {
    "collapsed": false
   },
   "outputs": [],
   "source": [
    "def build_targets_truth(prefix='qatargets', seed=123, nproc=3, verbose=True, \n",
    "                        bounds=(203, 203.25, 0.125, 0.625), bricksize=0.25,\n",
    "                        output_dir=None):\n",
    "    \"\"\"Simple wrapper on desitarget.mock.targets_truth.\n",
    "    \n",
    "    Prefix can also optionally be an object type (e.g., ELG).\n",
    "    \"\"\"\n",
    "    from desitarget.mock.build import targets_truth\n",
    "    \n",
    "    if output_dir is None:\n",
    "        output_dir = os.path.join(mockpath, '{}'.format(prefix))\n",
    "    try:\n",
    "        os.stat(output_dir)\n",
    "    except:\n",
    "        os.makedirs(output_dir)\n",
    "\n",
    "    config_file = os.path.join(mockpath, '{}_input.yaml'.format(prefix))\n",
    "    write_yaml(bounds=bounds, outfile=config_file, verbose=verbose)\n",
    "    \n",
    "    with open(config_file, 'r') as pfile:\n",
    "        params = yaml.load(pfile)\n",
    "    targets_truth(params, output_dir, realtargets=None, seed=seed, verbose=verbose, \n",
    "                  nproc=nproc, bricksize=bricksize, outbricksize=bricksize)"
   ]
  },
  {
   "cell_type": "code",
   "execution_count": null,
   "metadata": {
    "collapsed": true
   },
   "outputs": [],
   "source": [
    "# Specify root path and the (ra,dec) boundaries.\n",
    "prefix = 'qatargets'\n",
    "mockpath = os.path.join(os.getenv('DESI_ROOT'), 'datachallenge', prefix)\n",
    "radec_bounds = (203, 203.25, 0.125, 0.375)\n",
    "# radec_bounds = (203, 203.75, 0.125, 0.875)\n",
    "bricksize = 0.25"
   ]
  },
  {
   "cell_type": "code",
   "execution_count": null,
   "metadata": {
    "collapsed": false
   },
   "outputs": [],
   "source": [
    "# Build the mock catalogs.\n",
    "build_targets_truth(seed=123, bounds=radec_bounds, prefix=prefix)"
   ]
  },
  {
   "cell_type": "markdown",
   "metadata": {},
   "source": [
    "### 2b) Sanity check the output files."
   ]
  },
  {
   "cell_type": "code",
   "execution_count": null,
   "metadata": {
    "collapsed": true
   },
   "outputs": [],
   "source": [
    "def get_targtruth_files(prefix='qatargets'):\n",
    "    output_dir = os.path.join(mockpath, '{}'.format(prefix))\n",
    "    targfiles = glob(os.path.join(output_dir, '???', 'targets-*.fits'))#[:1]\n",
    "    truthfiles = glob(os.path.join(output_dir, '???', 'truth-*.fits'))#[:1]\n",
    "    return targfiles, truthfiles"
   ]
  },
  {
   "cell_type": "code",
   "execution_count": null,
   "metadata": {
    "collapsed": false
   },
   "outputs": [],
   "source": [
    "def sanity_check_files(prefix='qatargets'):\n",
    "    \"\"\"Simple script to do some basic sanity checks of the files on disk.\"\"\"\n",
    "    targfiles, truthfiles = get_targtruth_files(prefix)\n",
    "    log.info('Sanity checking {} target and {} truth files in directory {}.'.format(\n",
    "        len(targfiles), len(truthfiles), prefix))\n",
    "             \n",
    "    if len(targfiles) != len(truthfiles):\n",
    "        log.warning('Mismatch in the number of target (N={}) and truth (N={}) files!').format(\n",
    "            len(targfiles), len(truthfiles))\n",
    "\n",
    "    for targfile, truthfile in zip(np.atleast_1d(targfiles), np.atleast_1d(truthfiles)):\n",
    "        targ = fitsio.FITS(targfile)\n",
    "        truth = fitsio.FITS(truthfile)\n",
    "        ntarg = targ[1].get_nrows()\n",
    "        ntruth = truth[2].get_nrows()\n",
    "        wave_dims = truth[0].get_dims()\n",
    "        flux_dims = truth[1].get_dims()\n",
    "\n",
    "        if (ntarg != ntruth):\n",
    "            log.warning('{}: {} objects in TRUTH table, {} objects in TARGETS table.'.format(\n",
    "                os.path.basename(targfile), ntruth, ntarg))\n",
    "\n",
    "        if (flux_dims[0] != ntarg):\n",
    "            log.warning('{}: {} objects in TRUTH table, {} spectra.'.format(\n",
    "                os.path.basename(targfile), ntruth, flux_dims[0]))\n",
    "            \n",
    "        if (flux_dims[1] != wave_dims[0]):\n",
    "            log.warning('{}}: {} pixels in wavelength vector, {} pixels in flux spectra.'.format(\n",
    "                os.path.basename(targfile), wave_dims[0], flux_dims[1]))"
   ]
  },
  {
   "cell_type": "code",
   "execution_count": null,
   "metadata": {
    "collapsed": false
   },
   "outputs": [],
   "source": [
    "sanity_check_files(prefix)"
   ]
  },
  {
   "cell_type": "markdown",
   "metadata": {},
   "source": [
    "### Read the data and derive the target densities."
   ]
  },
  {
   "cell_type": "code",
   "execution_count": null,
   "metadata": {
    "collapsed": false
   },
   "outputs": [],
   "source": [
    "def read_targets_truth(prefix):\n",
    "    \"\"\"Simple wrapper script to gather up all the target and truth catalogs.\"\"\"\n",
    "    targfiles, truthfiles = get_targtruth_files(prefix)\n",
    "    targets, truth = [], []\n",
    "    for targfile, truthfile in zip(np.atleast_1d(targfiles), np.atleast_1d(truthfiles)):\n",
    "        targets.append(Table(fitsio.read(targfile, ext=1)))\n",
    "        truth.append(Table(fitsio.read(truthfile, ext=2)))\n",
    "    targets = vstack(targets)\n",
    "    truth = vstack(truth)\n",
    "    log.info('Read {} targets from {} bricks.'.format(len(targets), len(targfiles)))\n",
    "    return targets, truth"
   ]
  },
  {
   "cell_type": "code",
   "execution_count": null,
   "metadata": {
    "collapsed": true
   },
   "outputs": [],
   "source": [
    "def target_density(prefix, targets, truth):\n",
    "    \"\"\"Determine the target density of each object type (including contaminants).\"\"\"\n",
    "    \n",
    "    brickarea = bricksize**2 # deg2\n",
    "    \n",
    "    allbricks = targets['BRICKNAME'].data\n",
    "    ubricks = set(allbricks)\n",
    "    nbrick = len(ubricks)\n",
    "    \n",
    "    density = Table()\n",
    "    density.add_column(Column(name='BRICKNAME', length=nbrick, dtype='U10'))\n",
    "    density.add_column(Column(name='RA', length=nbrick, dtype='f4'))\n",
    "    density.add_column(Column(name='DEC', length=nbrick, dtype='f4'))\n",
    "    # ELGs\n",
    "    density.add_column(Column(name='ELG_TARGETS', length=nbrick, dtype='f4'))\n",
    "    density.add_column(Column(name='ELG_IS_LOZ', length=nbrick, dtype='f4'))\n",
    "    density.add_column(Column(name='ELG_IS_HIZ', length=nbrick, dtype='f4'))\n",
    "    density.add_column(Column(name='ELG_IS_STAR', length=nbrick, dtype='f4'))\n",
    "    # QSOs\n",
    "    density.add_column(Column(name='QSO_TARGETS', length=nbrick, dtype='f4'))\n",
    "    density.add_column(Column(name='QSO_IS_GALAXY', length=nbrick, dtype='f4'))\n",
    "    density.add_column(Column(name='QSO_IS_STAR', length=nbrick, dtype='f4'))\n",
    "\n",
    "    for ii, brick in enumerate(ubricks):\n",
    "        indx = np.where(brick == allbricks)[0]\n",
    "        density['BRICKNAME'][ii] = brick\n",
    "        density['RA'][ii] = float(brick[:4]) / 10.0\n",
    "        density['DEC'][ii] = float(brick[5:9]) / 10.0\n",
    "        # ELGs\n",
    "        mask = (targets['DESI_TARGET'][indx] & desi_mask.mask('ELG')) != 0\n",
    "        density['ELG_TARGETS'][ii] = np.sum(mask) / brickarea\n",
    "        density['ELG_IS_LOZ'][ii] = np.sum(mask & (truth['TRUEZ'][indx] < 0.6)) / brickarea\n",
    "        density['ELG_IS_HIZ'][ii] = np.sum(mask & (truth['TRUEZ'][indx] > 1.6)) / brickarea\n",
    "        density['ELG_IS_STAR'][ii] = np.sum(mask & (truth['TRUESPECTYPE'][indx] == bytes('STAR', 'utf-8'))) / brickarea\n",
    "        # QSOs\n",
    "        mask = (targets['DESI_TARGET'][indx] & desi_mask.mask('QSO')) != 0\n",
    "        density['QSO_TARGETS'][ii] = np.sum(mask) / brickarea\n",
    "        density['QSO_IS_GALAXY'][ii] = np.sum(mask & (truth['TRUESPECTYPE'][indx] == bytes('GALAXY', 'utf-8'))) / brickarea\n",
    "        density['QSO_IS_STAR'][ii] = np.sum(mask & (truth['TRUESPECTYPE'][indx] == bytes('STAR', 'utf-8'))) / brickarea\n",
    "\n",
    "    return density"
   ]
  },
  {
   "cell_type": "code",
   "execution_count": null,
   "metadata": {
    "collapsed": false
   },
   "outputs": [],
   "source": [
    "targets, truth = read_targets_truth(prefix)"
   ]
  },
  {
   "cell_type": "code",
   "execution_count": null,
   "metadata": {
    "collapsed": false
   },
   "outputs": [],
   "source": [
    "density = target_density(prefix, targets, truth)\n",
    "print(density['QSO_TARGETS'])"
   ]
  },
  {
   "cell_type": "markdown",
   "metadata": {},
   "source": [
    "### 2c) Make a variety of QAplots."
   ]
  },
  {
   "cell_type": "code",
   "execution_count": null,
   "metadata": {
    "collapsed": true
   },
   "outputs": [],
   "source": [
    "def _grlim():\n",
    "    return (-0.5, 2.0)"
   ]
  },
  {
   "cell_type": "code",
   "execution_count": null,
   "metadata": {
    "collapsed": true
   },
   "outputs": [],
   "source": [
    "def _rzlim():\n",
    "    return (-0.5, 2.2)"
   ]
  },
  {
   "cell_type": "code",
   "execution_count": null,
   "metadata": {
    "collapsed": true
   },
   "outputs": [],
   "source": [
    "def _rW1lim():\n",
    "    return (-2, 6)"
   ]
  },
  {
   "cell_type": "code",
   "execution_count": null,
   "metadata": {
    "collapsed": true
   },
   "outputs": [],
   "source": [
    "def _grzrange():\n",
    "    return (16, 24)"
   ]
  },
  {
   "cell_type": "code",
   "execution_count": null,
   "metadata": {
    "collapsed": true
   },
   "outputs": [],
   "source": [
    "def _rmagrange():\n",
    "    rmagrange = (16, 24)\n",
    "    drmag = 0.1\n",
    "    nrmagbins = int((rmagrange[1] - rmagrange[0]) / drmag)\n",
    "    return rmagrange, nrmagbins"
   ]
  },
  {
   "cell_type": "code",
   "execution_count": null,
   "metadata": {
    "collapsed": false
   },
   "outputs": [],
   "source": [
    "def flux2colors(cat):\n",
    "    \"\"\"Convert DECam/WISE fluxes to magnitudes and colors.\"\"\"\n",
    "    colors = dict()\n",
    "    with warnings.catch_warnings(): # ignore missing fluxes (e.g., for QSOs)\n",
    "        warnings.simplefilter('ignore')\n",
    "        for ii, band in zip((1, 2, 4), ('g', 'r', 'z')):\n",
    "            colors[band] = 22.5 - 2.5 * np.log10(cat['DECAM_FLUX'][..., ii].data)\n",
    "        for ii, band in zip((0, 1), ('W1', 'W2')):\n",
    "            colors[band] = 22.5 - 2.5 * np.log10(cat['WISE_FLUX'][..., ii].data)\n",
    "        colors['grz'] = 22.5-2.5*np.log10((cat['DECAM_FLUX'][..., 1] + \n",
    "                                           0.8 * cat['DECAM_FLUX'][..., 2] +\n",
    "                                           0.5 * cat['DECAM_FLUX'][..., 4]).data / 2.3)\n",
    "        colors['W'] = 22.5-2.5*np.log10(0.75 * cat['WISE_FLUX'][..., 0] + \n",
    "                                        0.25 * cat['WISE_FLUX'][..., 1]) # for QSOs\n",
    "\n",
    "    colors['gr'] = colors['g'] - colors['r']\n",
    "    colors['rz'] = colors['r'] - colors['z']\n",
    "    colors['rW1'] = colors['r'] - colors['W1']\n",
    "    colors['W1W2'] = colors['W1'] - colors['W2']\n",
    "    \n",
    "    return colors"
   ]
  },
  {
   "cell_type": "code",
   "execution_count": null,
   "metadata": {
    "collapsed": true
   },
   "outputs": [],
   "source": [
    "def elg_colorbox(ax):\n",
    "    \"\"\"Draw the ELG selection box.\"\"\"\n",
    "    rmaglim = 23.4\n",
    "    grlim = ax.get_ylim()\n",
    "    coeff0, coeff1 = (1.15, -0.15), (-1.2, 1.6)\n",
    "    rzmin, rzpivot = 0.3, (coeff1[1] - coeff0[1]) / (coeff0[0] - coeff1[0])\n",
    "    verts = [(rzmin, grlim[0]),\n",
    "             (rzmin, np.polyval(coeff0, rzmin)),\n",
    "             (rzpivot, np.polyval(coeff1, rzpivot)),\n",
    "             ((grlim[0] - 0.1 - coeff1[1]) / coeff1[0], grlim[0] - 0.1)\n",
    "            ]\n",
    "    ax.add_patch(Polygon(verts, fill=False, ls='--', color='k'))\n",
    "    return rmaglim"
   ]
  },
  {
   "cell_type": "code",
   "execution_count": null,
   "metadata": {
    "collapsed": true
   },
   "outputs": [],
   "source": [
    "def qso_colorbox(ax, plottype='grz'):\n",
    "    \"\"\"Draw the QSO selection boxes.\"\"\"\n",
    "    rmaglim = 22.7\n",
    "    xlim = ax.get_xlim()\n",
    "    ylim = ax.get_ylim()\n",
    "    if plottype == 'grz-r':\n",
    "        verts = [(xlim[0]-0.05, 17.0),\n",
    "                 (22.7, 17.0),\n",
    "                 (22.7, ylim[1]+0.05),\n",
    "                 (xlim[0]-0.05, ylim[1]+0.05)\n",
    "                ]\n",
    "    if plottype == 'rW1-rz':\n",
    "        verts = None\n",
    "        ax.axvline(x=-0.3, ls='--', color='k')\n",
    "        ax.axvline(x=1.3, ls='--', color='k')\n",
    "\n",
    "    if plottype == 'gr-rz':\n",
    "        verts = [(-0.3, 1.3),\n",
    "                 (1.1, 1.3),\n",
    "                 (1.1, ylim[0]-0.05),\n",
    "                 (-0.3, ylim[0]-0.05)\n",
    "                ]\n",
    "    if verts:\n",
    "        ax.add_patch(Polygon(verts, fill=False, ls='--', color='k'))"
   ]
  },
  {
   "cell_type": "code",
   "execution_count": null,
   "metadata": {
    "collapsed": true
   },
   "outputs": [],
   "source": [
    "def qaplot_qso_colormag(targets, truth=None, contam=False):\n",
    "    \"\"\"Make a few different color-color plots for QSOs.\"\"\"\n",
    "    \n",
    "    objtype = 'QSO'\n",
    "    \n",
    "    iobj = np.where((targets['DESI_TARGET'] & desi_mask.mask(objtype)) != 0)[0]\n",
    "    if truth:\n",
    "        cat = flux2colors(truth[iobj])\n",
    "    else:\n",
    "        cat = flux2colors(targets[iobj])\n",
    "\n",
    "    fig, ax = plt.subplots(1, 3, figsize=(14, 4))\n",
    "\n",
    "    if contam:\n",
    "        for cc in np.atleast_1d(contam):\n",
    "            these = np.where(truth['TEMPLATETYPE'].data[iobj] == bytes(cc, 'utf-8'))[0]\n",
    "            if len(these) > 0:\n",
    "                ax[0].scatter(cat['rz'][these], cat['gr'][these], \n",
    "                              s=10, alpha=0.7, label=cc)\n",
    "            ax[0].legend(loc='upper right')\n",
    "    else:\n",
    "        ax[0].scatter(cat['rz'], cat['gr'], s=10, alpha=0.7)\n",
    "    ax[0].set_xlabel('$r - z$')\n",
    "    ax[0].set_ylabel('$g - r$')\n",
    "    ax[0].set_xlim(_rzlim())\n",
    "    ax[0].set_ylim(_grlim())\n",
    "    qso_colorbox(ax[0], 'gr-rz')\n",
    "\n",
    "    if contam:\n",
    "        for cc in np.atleast_1d(contam):\n",
    "            these = np.where(truth['TEMPLATETYPE'].data[iobj] == bytes(cc, 'utf-8'))[0]\n",
    "            if len(these) > 0:\n",
    "                ax[1].scatter(cat['r'][these], cat['grz'][these], \n",
    "                              s=10, alpha=0.7, label=cc)\n",
    "    else:\n",
    "        ax[1].scatter(cat['r'], cat['grz'], s=10, alpha=0.7)\n",
    "    ax[1].set_xlabel('$r$')\n",
    "    ax[1].set_ylabel('$grz$')\n",
    "    ax[1].set_xlim(_rmagrange()[0])\n",
    "    ax[1].set_ylim(_grzrange())\n",
    "    qso_colorbox(ax[1], 'grz-r')\n",
    "    \n",
    "    magrange, nbins = _rmagrange()\n",
    "    nn, bins, _ = ax[2].hist(cat['r'], bins=nbins, range=magrange, align='mid')\n",
    "    ax[2].axvline(x=22.7, ls='--', color='red')\n",
    "    ax[2].set_xlabel('r')\n",
    "    ax[2].set_ylabel('Number of Objects')\n",
    "    \n",
    "    if truth:\n",
    "        plt.suptitle('{} - All Targets, True Photometry'.format(objtype.upper()))\n",
    "    else:\n",
    "        plt.suptitle('{} - All Targets, Observed Photometry'.format(objtype.upper()))\n",
    "        \n",
    "    fig.subplots_adjust(wspace=0.3)"
   ]
  },
  {
   "cell_type": "code",
   "execution_count": null,
   "metadata": {
    "collapsed": true
   },
   "outputs": [],
   "source": [
    "def qaplot_elg_colormag(targets, truth=None, contam=False):\n",
    "    \"\"\"Make a few different color-color plots for ELGs.\"\"\"\n",
    "    \n",
    "    objtype = 'ELG'\n",
    "    \n",
    "    iobj = np.where((targets['DESI_TARGET'] & desi_mask.mask(objtype)) != 0)[0]\n",
    "    if truth:\n",
    "        cat = flux2colors(truth[iobj])\n",
    "    else:\n",
    "        cat = flux2colors(targets[iobj])\n",
    "\n",
    "    fig, ax = plt.subplots(1, 2, figsize=(8, 3))\n",
    "\n",
    "    if contam:\n",
    "        for cc in np.atleast_1d(contam):\n",
    "            these = np.where(truth['TEMPLATETYPE'].data[iobj] == bytes(cc, 'utf-8'))[0]\n",
    "            if len(these) > 0:\n",
    "                ax[0].scatter(cat['rz'][these], cat['gr'][these], \n",
    "                              s=10, alpha=0.7, label=cc)\n",
    "            ax[0].legend(loc='upper right')\n",
    "    else:\n",
    "        ax[0].scatter(cat['rz'], cat['gr'], s=10, alpha=0.7)\n",
    "    ax[0].set_xlabel('$r - z$')\n",
    "    ax[0].set_ylabel('$g - r$')\n",
    "    ax[0].set_xlim(_rzlim())\n",
    "    ax[0].set_ylim(_grlim())\n",
    "    elg_colorbox(ax[0])\n",
    "\n",
    "    magrange, nbins = _rmagrange()\n",
    "    nn, bins, _ = ax[1].hist(cat['r'], bins=nbins, range=magrange, align='mid')\n",
    "    ax[1].axvline(x=23.4, ls='--', color='red')\n",
    "    ax[1].set_xlabel('r')\n",
    "    ax[1].set_ylabel('Number of Objects')\n",
    "    \n",
    "    if truth:\n",
    "        plt.suptitle('{} - All Targets, True Photometry'.format(objtype.upper()))\n",
    "    else:\n",
    "        plt.suptitle('{} - All Targets, Observed Photometry'.format(objtype.upper()))\n",
    "        \n",
    "    fig.subplots_adjust(wspace=0.3)"
   ]
  },
  {
   "cell_type": "code",
   "execution_count": null,
   "metadata": {
    "collapsed": false
   },
   "outputs": [],
   "source": [
    "def qaplot_elg_density(density):\n",
    "    \"\"\"Visualize the ELG target densities, including contaminants.\"\"\"\n",
    "    bins = 20\n",
    "    dens_all = 2160\n",
    "    dens_loz = dens_all*0.05\n",
    "    dens_hiz = dens_all*0.05\n",
    "    dens_star = dens_all*0.1\n",
    "    contam_range = (0, dens_star*1.2)\n",
    "    \n",
    "    fig, ax = plt.subplots(1, 3, figsize=(10, 3))\n",
    "    ax[0].hist(density['ELG_TARGETS'], bins=bins, range=(dens_all-600, dens_all+600), \n",
    "               label=['ELG - All'])\n",
    "    ax[0].axvline(x=dens_all, ls='--', color='k')\n",
    "    ax[0].legend(loc='upper right')\n",
    "\n",
    "    ax[1].hist(density['ELG_IS_LOZ'], bins=bins, range=contam_range, \n",
    "               alpha=0.6, label=['ELG at z<0.6'], \n",
    "               ls='--', lw=2)\n",
    "    ax[1].hist(density['ELG_IS_HIZ'], bins=bins, range=contam_range,\n",
    "               alpha=0.3, label=['ELG at z>1.6'], \n",
    "               ls='-', lw=2)\n",
    "    ax[1].axvline(x=dens_loz, ls='--', color='k')\n",
    "    ax[1].legend(loc='upper right')  \n",
    "    \n",
    "    ax[2].hist(density['ELG_IS_STAR'], bins=bins, range=contam_range,\n",
    "               alpha=0.8, label=['STAR'])\n",
    "    ax[2].axvline(x=dens_star, ls='--', color='k')\n",
    "    ax[2].legend(loc='upper right')"
   ]
  },
  {
   "cell_type": "code",
   "execution_count": null,
   "metadata": {
    "collapsed": true
   },
   "outputs": [],
   "source": [
    "def qaplot_qso_density(density):\n",
    "    \"\"\"Visualize the QSO (tracer + Lya) target densities, including contaminants.\"\"\"\n",
    "    bins = 20\n",
    "    dens_all = 120\n",
    "    dens_star = 63\n",
    "    dens_galaxy = 27\n",
    "    contam_range = (0, dens_star*1.2)\n",
    "    \n",
    "    #print(density['QSO_TARGETS'], density['QSO_IS_STAR'], density['QSO_IS_GALAXY'])\n",
    "    \n",
    "    fig, ax = plt.subplots(1, 3, figsize=(10, 3))\n",
    "    ax[0].hist(density['QSO_TARGETS'], bins=bins, range=(dens_all-40, dens_all+40), \n",
    "               label=['QSO - All'])\n",
    "    ax[0].axvline(x=dens_all, ls='--', color='k')\n",
    "    ax[0].legend(loc='upper right')\n",
    "\n",
    "    ax[1].hist(density['QSO_IS_STAR'], bins=bins, range=contam_range, \n",
    "               alpha=0.6, label=['GALAXY'], \n",
    "               ls='--', lw=2)\n",
    "    ax[1].axvline(x=dens_star, ls='--', color='k')\n",
    "    ax[1].legend(loc='upper right')  \n",
    "    \n",
    "    ax[2].hist(density['QSO_IS_GALAXY'], bins=bins, range=contam_range,\n",
    "               alpha=0.8, label=['STAR'])\n",
    "    ax[2].axvline(x=dens_galaxy, ls='--', color='k')\n",
    "    ax[2].legend(loc='upper right')"
   ]
  },
  {
   "cell_type": "code",
   "execution_count": null,
   "metadata": {
    "collapsed": true
   },
   "outputs": [],
   "source": [
    "def qaplot_targets_skymap(cat, objtype):\n",
    "    fig, ax = plt.subplots()\n",
    "    with warnings.catch_warnings():\n",
    "        warnings.simplefilter('ignore')\n",
    "        basemap = init_sky(galactic_plane_color='k', ax=ax);\n",
    "        plot_sky_binned(cat['RA'], cat['DEC'], verbose=False, \n",
    "                        clip_lo='!1', cmap='jet', plot_type='healpix', \n",
    "                        label=r'{} (targets/deg$^2$)'.format(objtype), \n",
    "                        basemap=basemap)"
   ]
  },
  {
   "cell_type": "code",
   "execution_count": null,
   "metadata": {
    "collapsed": true
   },
   "outputs": [],
   "source": [
    "def qaplot_targets_sky(targets, truth, objtype='ELG', contam=None):\n",
    "    iobj = np.where((targets['DESI_TARGET'] & desi_mask.mask(objtype)) != 0)[0]\n",
    "    fig, ax = plt.subplots()\n",
    "    if contam:\n",
    "        for cc in np.atleast_1d(contam):\n",
    "            these = np.where(truth['TEMPLATETYPE'].data[iobj] == bytes(cc, 'utf-8'))[0]\n",
    "            if len(these) > 0:\n",
    "                ax.scatter(targets['RA'][iobj][these], targets['DEC'][iobj][these], \n",
    "                              s=10, alpha=0.7, label=cc)\n",
    "                ax.legend(loc='upper right')\n",
    "    else:\n",
    "        ax.scatter(targets['RA'][iobj], targets['DEC'][iobj], \n",
    "                      s=10, alpha=0.7)\n",
    "        ax.set_title(objtype.upper())"
   ]
  },
  {
   "cell_type": "markdown",
   "metadata": {
    "collapsed": false
   },
   "source": [
    "#### ELGs."
   ]
  },
  {
   "cell_type": "code",
   "execution_count": null,
   "metadata": {
    "collapsed": false
   },
   "outputs": [],
   "source": [
    "objtype = 'ELG'\n",
    "qaplot_targets_sky(targets, truth, objtype, contam=('ELG', 'QSO', 'STAR'))"
   ]
  },
  {
   "cell_type": "code",
   "execution_count": null,
   "metadata": {
    "collapsed": false
   },
   "outputs": [],
   "source": [
    "# Would be nice if the color-color plots were color-coded by r-band magnitude.\n",
    "qaplot_elg_colormag(targets)                                             # All targets, observed (noisy) photometry.\n",
    "qaplot_elg_colormag(targets, truth=truth)                                # All targets, true (noiseless) photometry.\n",
    "qaplot_elg_colormag(targets, truth=truth, contam=['ELG', 'STAR', 'QSO']) # Contaminants.\n",
    "qaplot_elg_density(density)"
   ]
  },
  {
   "cell_type": "markdown",
   "metadata": {},
   "source": [
    "#### QSOs"
   ]
  },
  {
   "cell_type": "code",
   "execution_count": null,
   "metadata": {
    "collapsed": false
   },
   "outputs": [],
   "source": [
    "objtype = 'QSO'\n",
    "qaplot_targets_sky(targets, truth, objtype, contam=('ELG', 'QSO', 'STAR'))"
   ]
  },
  {
   "cell_type": "code",
   "execution_count": null,
   "metadata": {
    "collapsed": false
   },
   "outputs": [],
   "source": [
    "qaplot_qso_colormag(targets)                                             # All targets, observed (noisy) photometry.\n",
    "qaplot_qso_colormag(targets, truth=truth)                                # All targets, true (noiseless) photometry.\n",
    "qaplot_qso_colormag(targets, truth=truth, contam=['ELG', 'STAR', 'QSO']) # Contaminants.\n",
    "qaplot_qso_density(density)"
   ]
  },
  {
   "cell_type": "code",
   "execution_count": null,
   "metadata": {
    "collapsed": true
   },
   "outputs": [],
   "source": []
  },
  {
   "cell_type": "code",
   "execution_count": null,
   "metadata": {
    "collapsed": true
   },
   "outputs": [],
   "source": []
  }
 ],
 "metadata": {
  "kernelspec": {
   "display_name": "Python 3",
   "language": "python",
   "name": "python3"
  },
  "language_info": {
   "codemirror_mode": {
    "name": "ipython",
    "version": 3
   },
   "file_extension": ".py",
   "mimetype": "text/x-python",
   "name": "python",
   "nbconvert_exporter": "python",
   "pygments_lexer": "ipython3",
   "version": "3.5.2"
  }
 },
 "nbformat": 4,
 "nbformat_minor": 2
}
