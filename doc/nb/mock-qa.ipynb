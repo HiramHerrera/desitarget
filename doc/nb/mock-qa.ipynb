{
 "cells": [
  {
   "cell_type": "markdown",
   "metadata": {},
   "source": [
    "# Connecting mocks to spectra.\n",
    "\n",
    "This notebook presents QA checks of the code which assigns spectra to the mock catalogs."
   ]
  },
  {
   "cell_type": "markdown",
   "metadata": {},
   "source": [
    "### Initialize"
   ]
  },
  {
   "cell_type": "code",
   "execution_count": 1,
   "metadata": {
    "collapsed": false
   },
   "outputs": [
    {
     "name": "stdout",
     "output_type": "stream",
     "text": [
      "Populating the interactive namespace from numpy and matplotlib\n"
     ]
    }
   ],
   "source": [
    "%pylab inline"
   ]
  },
  {
   "cell_type": "code",
   "execution_count": 2,
   "metadata": {
    "collapsed": true
   },
   "outputs": [],
   "source": [
    "import os\n",
    "import numpy as np\n",
    "import warnings\n",
    "import yaml\n",
    "from glob import glob"
   ]
  },
  {
   "cell_type": "markdown",
   "metadata": {},
   "source": [
    "## Visualize the surface density of the input mocks."
   ]
  },
  {
   "cell_type": "code",
   "execution_count": 3,
   "metadata": {
    "collapsed": true
   },
   "outputs": [],
   "source": [
    "# Note that you need the standard desi/conda dependencies + matplotlib, \n",
    "# basemap, and healpy to run this notebook.\n",
    "import mpl_toolkits\n",
    "import matplotlib.pyplot as plt"
   ]
  },
  {
   "cell_type": "code",
   "execution_count": 4,
   "metadata": {
    "collapsed": true
   },
   "outputs": [],
   "source": [
    "from desiutil.plots import init_sky, plot_sky_binned"
   ]
  },
  {
   "cell_type": "code",
   "execution_count": 5,
   "metadata": {
    "collapsed": true
   },
   "outputs": [],
   "source": [
    "def _GRFpath():\n",
    "    return os.path.join(os.getenv('DESI_ROOT'), 'mocks', 'GaussianRandomField', 'v0.0.5')"
   ]
  },
  {
   "cell_type": "code",
   "execution_count": 6,
   "metadata": {
    "collapsed": true
   },
   "outputs": [],
   "source": [
    "def read_GRF(fitsfile):\n",
    "    \"\"\"Read the Gaussian Random Field mocks.\"\"\"\n",
    "    import fitsio\n",
    "    from astropy.table import Table, Column\n",
    "    print('Reading {}'.format(fitsfile))\n",
    "    dat = Table(fitsio.read(fitsfile, ext=1, upper=True))\n",
    "    if 'random' not in fitsfile:\n",
    "        dat.add_column(Column(name='Z', data=(dat['Z_COSMO'] + dat['DZ_RSD']).astype('f4')))\n",
    "    return dat"
   ]
  },
  {
   "cell_type": "code",
   "execution_count": 7,
   "metadata": {
    "collapsed": false
   },
   "outputs": [],
   "source": [
    "def read_MXXL(hdf5file):\n",
    "    \"\"\"Read the MXXL/BGS mock.\"\"\"\n",
    "    import h5py\n",
    "    print('Reading {}'.format(hdf5file))\n",
    "    f = h5py.File(hdf5file)\n",
    "    ra  = f['Data/ra'][...].astype('f8') % 360.0\n",
    "    dec = f['Data/dec'][...].astype('f8')\n",
    "    zobs = f['Data/z_obs'][...].astype('f4')\n",
    "    rmag = f['Data/app_mag'][...].astype('f8')\n",
    "    these = rmag < 20\n",
    "    dat = {'RA': ra[these], 'DEC': dec[these], 'Z': zobs[these]}\n",
    "    return dat"
   ]
  },
  {
   "cell_type": "code",
   "execution_count": null,
   "metadata": {
    "collapsed": true
   },
   "outputs": [],
   "source": [
    "def qamock_sky(cat, objtype, ax=None):\n",
    "    fig, ax = plt.subplots(1, 2, figsize=(10, 5))\n",
    "    with warnings.catch_warnings():\n",
    "        warnings.simplefilter('ignore')\n",
    "        basemap = init_sky(galactic_plane_color='k', ax=ax[0]);\n",
    "        plot_sky_binned(cat['RA'], cat['DEC'], verbose=False, \n",
    "                        clip_lo='!1', plot_type='healpix', cmap='jet', \n",
    "                        label=r'{} (targets/deg$^2$)'.format(objtype), \n",
    "                        basemap=basemap)\n",
    "    if 'Z' in cat.keys():\n",
    "        ax[1].hist(cat['Z'])"
   ]
  },
  {
   "cell_type": "code",
   "execution_count": null,
   "metadata": {
    "collapsed": false
   },
   "outputs": [],
   "source": [
    "data = list()\n",
    "print(r'Note: the BGS mock is selected to have $r_{SDSS}<20$, which is not quite right.')\n",
    "mockfile = os.path.join(os.getenv('DESI_ROOT'), 'mocks', 'bgs', 'MXXL', 'desi_footprint', 'v0.0.3', 'BGS.hdf5')\n",
    "data.append(read_MXXL(mockfile))\n",
    "\n",
    "for mock in ('ELG', 'LRG', 'QSO'):\n",
    "    mockfile = os.path.join(_GRFpath(), '{}.fits'.format(mock))\n",
    "    data.append(read_GRF(mockfile))\n",
    "\n",
    "mockfile = os.path.join(os.getenv('DESI_ROOT'), 'mocks', 'GaussianRandomField', 'v0.0.1', '2048', 'random.fits')\n",
    "data.append(read_GRF(mockfile))"
   ]
  },
  {
   "cell_type": "code",
   "execution_count": null,
   "metadata": {
    "collapsed": false
   },
   "outputs": [],
   "source": [
    "# Why doesn't this work?!?\n",
    "for cat, objtype in zip(data, ('BGS', 'ELG', 'LRG', 'QSO', 'SKY')):\n",
    "#for cat, objtype in zip(data, np.atleast_1d('BGS')):\n",
    "    qamock_sky(cat, objtype)"
   ]
  },
  {
   "cell_type": "markdown",
   "metadata": {
    "collapsed": true
   },
   "source": [
    "## Assess the QSO mock targets, spectra, and contaminants."
   ]
  },
  {
   "cell_type": "code",
   "execution_count": null,
   "metadata": {
    "collapsed": true
   },
   "outputs": [],
   "source": [
    "from desitarget.mock.build import targets_truth"
   ]
  },
  {
   "cell_type": "code",
   "execution_count": null,
   "metadata": {
    "collapsed": true
   },
   "outputs": [],
   "source": [
    "two_percent_path = os.path.join(os.getenv('DESI_ROOT'), 'datachallenge', 'two_percent')"
   ]
  },
  {
   "cell_type": "markdown",
   "metadata": {},
   "source": [
    "### Generate a QSO target catalog."
   ]
  },
  {
   "cell_type": "code",
   "execution_count": null,
   "metadata": {
    "collapsed": false
   },
   "outputs": [],
   "source": [
    "def target_yaml(target='QSO', bounds=(203, 204, 0, 1), outfile='mock_input.yaml', verbose=False):\n",
    "    \"\"\"Write a target yaml file on-the-fly for various combinations of input parameters.\"\"\"\n",
    "    print('Writing {}'.format(outfile))\n",
    "    yf = open(outfile, 'w')\n",
    "    yf.write('dust_dir: {}\\n'.format(os.path.join(os.getenv('DUST_DIR'), 'maps')))\n",
    "    yf.write('decals_brick_info: {}\\n'.format(os.path.join(os.getenv('DESI_ROOT'), 'target', \n",
    "                                                           'catalogs', 'brick-info-dr3.v0.0.1.fits')))\n",
    "    yf.write('subset:\\n')\n",
    "    yf.write('    ra_dec_cut: True\\n')\n",
    "    for blabel, bbound in zip(('min_ra', 'max_ra', 'min_dec', 'max_dec'), bounds):\n",
    "        yf.write('    {}: {:g}\\n'.format(blabel, bbound))\n",
    "    yf.write('sources:\\n')\n",
    "    for targ in np.atleast_1d(target):\n",
    "        yf.write('    {}: {{\\n'.format(targ.upper()))\n",
    "        yf.write('        target_name: {},\\n'.format(targ.upper()))\n",
    "        if targ == 'QSO':\n",
    "            yf.write('        mock_dir_name: {},\\n'.format(_GRFpath()))\n",
    "            yf.write('        format: gaussianfield,\\n')\n",
    "            yf.write('        density: 170\\n')\n",
    "        yf.write('    }\\n')\n",
    "    yf.close()    \n",
    "    if verbose:\n",
    "        print()\n",
    "        with(open(outfile, 'r')) as yf:\n",
    "            print(yf.read())"
   ]
  },
  {
   "cell_type": "code",
   "execution_count": null,
   "metadata": {
    "collapsed": false
   },
   "outputs": [],
   "source": [
    "config_file = os.path.join(two_percent_path, 'qso_input.yaml')\n",
    "target_yaml(target='QSO', outfile=config_file, verbose=True)"
   ]
  },
  {
   "cell_type": "code",
   "execution_count": null,
   "metadata": {
    "collapsed": false
   },
   "outputs": [],
   "source": [
    "output_dir = os.path.join(two_percent_path, 'qso_targets')\n",
    "bricksize = 0.25\n",
    "seed = 555\n",
    "nproc = 4\n",
    "with open(config_file, 'r') as pfile:\n",
    "    params = yaml.load(pfile)\n",
    "targets_truth(params, output_dir, realtargets=None, seed=seed, verbose=True, \n",
    "              nproc=nproc, bricksize=bricksize, outbricksize=bricksize)"
   ]
  },
  {
   "cell_type": "markdown",
   "metadata": {},
   "source": [
    "### Read the catalog back in and make some plots."
   ]
  },
  {
   "cell_type": "code",
   "execution_count": null,
   "metadata": {
    "collapsed": true
   },
   "outputs": [],
   "source": []
  },
  {
   "cell_type": "code",
   "execution_count": null,
   "metadata": {
    "collapsed": true
   },
   "outputs": [],
   "source": []
  }
 ],
 "metadata": {
  "kernelspec": {
   "display_name": "Python 3",
   "language": "python",
   "name": "python3"
  },
  "language_info": {
   "codemirror_mode": {
    "name": "ipython",
    "version": 3
   },
   "file_extension": ".py",
   "mimetype": "text/x-python",
   "name": "python",
   "nbconvert_exporter": "python",
   "pygments_lexer": "ipython3",
   "version": "3.5.2"
  }
 },
 "nbformat": 4,
 "nbformat_minor": 2
}
