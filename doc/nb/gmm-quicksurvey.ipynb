{
 "cells": [
  {
   "cell_type": "code",
   "execution_count": 1,
   "metadata": {},
   "outputs": [],
   "source": [
    "import os\n",
    "import numpy as np\n",
    "import matplotlib.pyplot as plt\n",
    "from astropy.table import Table"
   ]
  },
  {
   "cell_type": "code",
   "execution_count": 10,
   "metadata": {},
   "outputs": [],
   "source": [
    "from desitarget.targetmask import desi_mask"
   ]
  },
  {
   "cell_type": "code",
   "execution_count": 14,
   "metadata": {},
   "outputs": [],
   "source": [
    "%matplotlib inline"
   ]
  },
  {
   "cell_type": "code",
   "execution_count": 2,
   "metadata": {},
   "outputs": [],
   "source": [
    "rootdir = os.path.join(os.getenv('DESI_ROOT'), 'datachallenge', \n",
    "                       'reference_runs', '18.2a', 'targets')"
   ]
  },
  {
   "cell_type": "code",
   "execution_count": 3,
   "metadata": {},
   "outputs": [
    {
     "data": {
      "text/html": [
       "&lt;Table length=241273&gt;\n",
       "<table id=\"table47945676695928\" class=\"table-striped table-bordered table-condensed\">\n",
       "<thead><tr><th>BRICKID</th><th>BRICKNAME</th><th>BRICK_OBJID</th><th>RA</th><th>DEC</th><th>FLUX_G</th><th>FLUX_R</th><th>FLUX_Z</th><th>FLUX_W1</th><th>FLUX_W2</th><th>MW_TRANSMISSION_G</th><th>MW_TRANSMISSION_R</th><th>MW_TRANSMISSION_Z</th><th>MW_TRANSMISSION_W1</th><th>MW_TRANSMISSION_W2</th><th>PSFDEPTH_G</th><th>PSFDEPTH_R</th><th>PSFDEPTH_Z</th><th>GALDEPTH_G</th><th>GALDEPTH_R</th><th>GALDEPTH_Z</th><th>PSFDEPTH_W1</th><th>PSFDEPTH_W2</th><th>SHAPEDEV_R</th><th>SHAPEDEV_E1</th><th>SHAPEDEV_E2</th><th>SHAPEEXP_R</th><th>SHAPEEXP_E1</th><th>SHAPEEXP_E2</th><th>SUBPRIORITY</th><th>TARGETID</th><th>DESI_TARGET</th><th>BGS_TARGET</th><th>MWS_TARGET</th><th>HPXPIXEL</th></tr></thead>\n",
       "<thead><tr><th>int32</th><th>str8</th><th>int32</th><th>float64</th><th>float64</th><th>float32</th><th>float32</th><th>float32</th><th>float32</th><th>float32</th><th>float32</th><th>float32</th><th>float32</th><th>float32</th><th>float32</th><th>float32</th><th>float32</th><th>float32</th><th>float32</th><th>float32</th><th>float32</th><th>float32</th><th>float32</th><th>float32</th><th>float32</th><th>float32</th><th>float32</th><th>float32</th><th>float32</th><th>float64</th><th>int64</th><th>int64</th><th>int64</th><th>int64</th><th>int64</th></tr></thead>\n",
       "<tr><td>5261</td><td>1526p282</td><td>0</td><td>152.762924194</td><td>28.3125839233</td><td>4.87419</td><td>12.4022</td><td>21.5929</td><td>16.4725</td><td>10.9474</td><td>0.940107</td><td>0.95925</td><td>0.97681</td><td>0.99647</td><td>0.997831</td><td>52.4807</td><td>7.72681</td><td>1.87068</td><td>57.544</td><td>13.1826</td><td>2.51189</td><td>0.0276732</td><td>0.438591</td><td>-0.000956611</td><td>-0.000314208</td><td>0.000593837</td><td>0.452496</td><td>0.00100628</td><td>-0.00102234</td><td>0.356810355942</td><td>288230398217945088</td><td>1152921504606846976</td><td>65537</td><td>0</td><td>0</td></tr>\n",
       "<tr><td>5261</td><td>1524p280</td><td>1</td><td>152.563858032</td><td>28.1027755737</td><td>21.6167</td><td>37.2972</td><td>55.9602</td><td>51.4054</td><td>38.1055</td><td>0.93063</td><td>0.952726</td><td>0.973057</td><td>0.995893</td><td>0.997476</td><td>52.4807</td><td>7.72681</td><td>1.87068</td><td>57.544</td><td>13.1826</td><td>2.51189</td><td>0.0276732</td><td>0.438591</td><td>3.15721</td><td>0.0556914</td><td>-0.000684553</td><td>0.866786</td><td>-0.106927</td><td>-0.0230106</td><td>0.568604199297</td><td>288230398217945089</td><td>1152921504606846976</td><td>131074</td><td>0</td><td>0</td></tr>\n",
       "<tr><td>5261</td><td>1526p285</td><td>2</td><td>152.636505127</td><td>28.5471324921</td><td>18.8227</td><td>48.336</td><td>84.6381</td><td>76.4054</td><td>51.4296</td><td>0.948148</td><td>0.964769</td><td>0.979976</td><td>0.996956</td><td>0.99813</td><td>52.4807</td><td>7.72681</td><td>1.87068</td><td>57.544</td><td>13.1826</td><td>2.51189</td><td>0.0276732</td><td>0.438591</td><td>53.4724</td><td>0.164367</td><td>-0.0889053</td><td>0.393993</td><td>-0.256706</td><td>-0.0100387</td><td>0.93292545864</td><td>288230398217945090</td><td>1152921504606846976</td><td>131074</td><td>0</td><td>0</td></tr>\n",
       "<tr><td>5261</td><td>1523p282</td><td>3</td><td>152.453033447</td><td>28.3228969574</td><td>17.3274</td><td>69.1105</td><td>146.392</td><td>176.067</td><td>125.94</td><td>0.939746</td><td>0.959002</td><td>0.976667</td><td>0.996449</td><td>0.997817</td><td>52.4807</td><td>7.72681</td><td>1.87068</td><td>57.544</td><td>13.1826</td><td>2.51189</td><td>0.0276732</td><td>0.438591</td><td>0.38233</td><td>-0.17208</td><td>-0.170571</td><td>-0.000191608</td><td>-0.00332903</td><td>-0.00330882</td><td>0.588079222788</td><td>288230398217945091</td><td>1152921504606846976</td><td>131074</td><td>0</td><td>0</td></tr>\n",
       "<tr><td>5261</td><td>1529p282</td><td>4</td><td>152.821365356</td><td>28.337770462</td><td>1.97005</td><td>9.62195</td><td>21.3818</td><td>35.9626</td><td>27.7675</td><td>0.93711</td><td>0.957189</td><td>0.975626</td><td>0.996288</td><td>0.997719</td><td>52.4807</td><td>7.72681</td><td>1.87068</td><td>57.544</td><td>13.1826</td><td>2.51189</td><td>0.0276732</td><td>0.438591</td><td>-7.74865e-05</td><td>0.00207773</td><td>0.000594246</td><td>1.11604</td><td>0.119471</td><td>-0.221381</td><td>0.175434315238</td><td>288230398217945092</td><td>1152921504606846976</td><td>65537</td><td>0</td><td>0</td></tr>\n",
       "<tr><td>5261</td><td>1526p282</td><td>5</td><td>152.510864258</td><td>28.2928829193</td><td>10.7094</td><td>22.8213</td><td>34.591</td><td>32.8464</td><td>26.5192</td><td>0.939185</td><td>0.958616</td><td>0.976446</td><td>0.996414</td><td>0.997796</td><td>52.4807</td><td>7.72681</td><td>1.87068</td><td>57.544</td><td>13.1826</td><td>2.51189</td><td>0.0276732</td><td>0.438591</td><td>1.983</td><td>-0.26877</td><td>0.390211</td><td>-0.000206943</td><td>5.04955e-05</td><td>4.57717e-05</td><td>0.365531304502</td><td>288230398217945093</td><td>1152921504606846976</td><td>131074</td><td>0</td><td>0</td></tr>\n",
       "<tr><td>5261</td><td>1526p282</td><td>6</td><td>152.763931274</td><td>28.168346405</td><td>14.2403</td><td>37.6313</td><td>71.8919</td><td>77.2457</td><td>54.4891</td><td>0.931339</td><td>0.953214</td><td>0.973339</td><td>0.995936</td><td>0.997502</td><td>52.4807</td><td>7.72681</td><td>1.87068</td><td>57.544</td><td>13.1826</td><td>2.51189</td><td>0.0276732</td><td>0.438591</td><td>0.000777539</td><td>0.00166061</td><td>0.000351365</td><td>2.59296</td><td>0.0972936</td><td>-0.312624</td><td>0.951183062125</td><td>288230398217945094</td><td>1152921504606846976</td><td>131074</td><td>0</td><td>0</td></tr>\n",
       "<tr><td>5261</td><td>1526p285</td><td>7</td><td>152.558761597</td><td>28.3912391663</td><td>3.47569</td><td>10.9017</td><td>21.2698</td><td>29.0895</td><td>20.245</td><td>0.942218</td><td>0.9607</td><td>0.977643</td><td>0.996598</td><td>0.99791</td><td>52.4807</td><td>7.72681</td><td>1.87068</td><td>57.544</td><td>13.1826</td><td>2.51189</td><td>0.0276732</td><td>0.438591</td><td>-0.000556191</td><td>0.000258831</td><td>-0.000925425</td><td>1.46512</td><td>0.181207</td><td>0.21468</td><td>0.167046833546</td><td>288230398217945095</td><td>1152921504606846976</td><td>65537</td><td>0</td><td>0</td></tr>\n",
       "<tr><td>5261</td><td>1526p282</td><td>8</td><td>152.775146484</td><td>28.182674408</td><td>14.9511</td><td>65.0984</td><td>145.076</td><td>204.618</td><td>152.096</td><td>0.931753</td><td>0.9535</td><td>0.973503</td><td>0.995961</td><td>0.997518</td><td>52.4807</td><td>7.72681</td><td>1.87068</td><td>57.544</td><td>13.1826</td><td>2.51189</td><td>0.0276732</td><td>0.438591</td><td>0.00235169</td><td>-0.000887671</td><td>-0.000431117</td><td>2.06847</td><td>0.0883114</td><td>0.104788</td><td>0.680662990024</td><td>288230398217945096</td><td>1152921504606846976</td><td>131074</td><td>0</td><td>0</td></tr>\n",
       "<tr><td>5261</td><td>1526p282</td><td>9</td><td>152.746963501</td><td>28.3547096252</td><td>4.58323</td><td>14.5861</td><td>28.6784</td><td>29.3623</td><td>20.764</td><td>0.939578</td><td>0.958887</td><td>0.976601</td><td>0.996438</td><td>0.997811</td><td>52.4807</td><td>7.72681</td><td>1.87068</td><td>57.544</td><td>13.1826</td><td>2.51189</td><td>0.0276732</td><td>0.438591</td><td>-0.000417875</td><td>-0.000383122</td><td>-0.000252418</td><td>2.06399</td><td>0.0790488</td><td>-0.426318</td><td>0.533033196968</td><td>288230398217945097</td><td>1152921504606846976</td><td>65537</td><td>0</td><td>0</td></tr>\n",
       "<tr><td>...</td><td>...</td><td>...</td><td>...</td><td>...</td><td>...</td><td>...</td><td>...</td><td>...</td><td>...</td><td>...</td><td>...</td><td>...</td><td>...</td><td>...</td><td>...</td><td>...</td><td>...</td><td>...</td><td>...</td><td>...</td><td>...</td><td>...</td><td>...</td><td>...</td><td>...</td><td>...</td><td>...</td><td>...</td><td>...</td><td>...</td><td>...</td><td>...</td><td>...</td><td>...</td></tr>\n",
       "<tr><td>5654</td><td>1496p360</td><td>4955</td><td>149.509628296</td><td>36.092300415</td><td>1.50316</td><td>1.98133</td><td>1.78343</td><td>2.81374</td><td>6.30696</td><td>0.970903</td><td>0.980306</td><td>0.988845</td><td>0.998311</td><td>0.998962</td><td>52.4807</td><td>7.72681</td><td>1.87068</td><td>57.544</td><td>13.1826</td><td>2.51189</td><td>0.0276732</td><td>0.438591</td><td>0.0</td><td>0.0</td><td>0.0</td><td>0.0</td><td>0.0</td><td>0.0</td><td>0.145516720101</td><td>288230399866311515</td><td>262148</td><td>0</td><td>0</td><td>0</td></tr>\n",
       "<tr><td>5654</td><td>1496p360</td><td>4956</td><td>149.769424438</td><td>36.0052032471</td><td>2.00712</td><td>2.03885</td><td>2.3</td><td>2.83521</td><td>7.79855</td><td>0.975675</td><td>0.983549</td><td>0.990688</td><td>0.998591</td><td>0.999135</td><td>52.4807</td><td>7.72681</td><td>1.87068</td><td>57.544</td><td>13.1826</td><td>2.51189</td><td>0.0276732</td><td>0.438591</td><td>0.0</td><td>0.0</td><td>0.0</td><td>0.0</td><td>0.0</td><td>0.0</td><td>0.255961362955</td><td>288230399866311516</td><td>262148</td><td>0</td><td>0</td><td>0</td></tr>\n",
       "<tr><td>5654</td><td>1498p362</td><td>4957</td><td>149.90435791</td><td>36.2025489807</td><td>4.27453</td><td>5.81519</td><td>5.64885</td><td>12.0744</td><td>20.1266</td><td>0.974092</td><td>0.982473</td><td>0.990077</td><td>0.998498</td><td>0.999077</td><td>52.4807</td><td>7.72681</td><td>1.87068</td><td>57.544</td><td>13.1826</td><td>2.51189</td><td>0.0276732</td><td>0.438591</td><td>0.0</td><td>0.0</td><td>0.0</td><td>0.0</td><td>0.0</td><td>0.0</td><td>0.426614976504</td><td>288230399866311517</td><td>262148</td><td>0</td><td>0</td><td>0</td></tr>\n",
       "<tr><td>5654</td><td>1498p352</td><td>4958</td><td>149.936669602</td><td>35.3129905538</td><td>40.2658</td><td>26.2813</td><td>14.3877</td><td>3.35041</td><td>0.0129626</td><td>0.967265</td><td>0.97783</td><td>0.987436</td><td>0.998096</td><td>0.99883</td><td>52.4807</td><td>7.72681</td><td>1.87068</td><td>57.544</td><td>13.1826</td><td>2.51189</td><td>0.0276732</td><td>0.438591</td><td>0.0</td><td>0.0</td><td>0.0</td><td>0.0</td><td>0.0</td><td>0.0</td><td>0.0955500448635</td><td>288230399866311518</td><td>2305843026393563136</td><td>0</td><td>2</td><td>0</td></tr>\n",
       "<tr><td>5654</td><td>1498p355</td><td>4959</td><td>149.891148107</td><td>35.4383558548</td><td>13.7491</td><td>9.86981</td><td>5.58992</td><td>1.08408</td><td>0.644739</td><td>0.967534</td><td>0.978013</td><td>0.98754</td><td>0.998112</td><td>0.99884</td><td>52.4807</td><td>7.72681</td><td>1.87068</td><td>57.544</td><td>13.1826</td><td>2.51189</td><td>0.0276732</td><td>0.438591</td><td>0.0</td><td>0.0</td><td>0.0</td><td>0.0</td><td>0.0</td><td>0.0</td><td>0.776155900541</td><td>288230399866311519</td><td>2305843009213693952</td><td>0</td><td>2</td><td>0</td></tr>\n",
       "<tr><td>5654</td><td>1495p352</td><td>4960</td><td>149.690678021</td><td>35.2800593852</td><td>11.8517</td><td>15.2997</td><td>16.0401</td><td>4.28348</td><td>2.33462</td><td>0.977522</td><td>0.984802</td><td>0.9914</td><td>0.998699</td><td>0.999201</td><td>52.4807</td><td>7.72681</td><td>1.87068</td><td>57.544</td><td>13.1826</td><td>2.51189</td><td>0.0276732</td><td>0.438591</td><td>0.0</td><td>0.0</td><td>0.0</td><td>0.0</td><td>0.0</td><td>0.0</td><td>0.0584461461345</td><td>288230399866311520</td><td>2305843009213693952</td><td>0</td><td>2</td><td>0</td></tr>\n",
       "<tr><td>5654</td><td>1498p352</td><td>4961</td><td>150.01164516</td><td>35.2833507782</td><td>11.0419</td><td>9.19351</td><td>6.27382</td><td>35.3883</td><td>63.7257</td><td>0.965315</td><td>0.976501</td><td>0.986679</td><td>0.997981</td><td>0.99876</td><td>52.4807</td><td>7.72681</td><td>1.87068</td><td>57.544</td><td>13.1826</td><td>2.51189</td><td>0.0276732</td><td>0.438591</td><td>0.0</td><td>0.0</td><td>0.0</td><td>0.0</td><td>0.0</td><td>0.0</td><td>0.656257703158</td><td>288230399866311521</td><td>2305843009213693952</td><td>0</td><td>2</td><td>0</td></tr>\n",
       "<tr><td>5654</td><td>1497p357</td><td>4962</td><td>149.669753206</td><td>35.6537747153</td><td>21.4511</td><td>30.2862</td><td>33.8047</td><td>7.88951</td><td>4.98612</td><td>0.975459</td><td>0.983402</td><td>0.990605</td><td>0.998578</td><td>0.999127</td><td>52.4807</td><td>7.72681</td><td>1.87068</td><td>57.544</td><td>13.1826</td><td>2.51189</td><td>0.0276732</td><td>0.438591</td><td>0.0</td><td>0.0</td><td>0.0</td><td>0.0</td><td>0.0</td><td>0.0</td><td>0.88899455022</td><td>288230399866311522</td><td>2305843009213693952</td><td>0</td><td>2</td><td>0</td></tr>\n",
       "<tr><td>5654</td><td>1492p355</td><td>4963</td><td>149.322803183</td><td>35.502657831</td><td>11.8449</td><td>15.258</td><td>15.6971</td><td>1.96408</td><td>1.87781</td><td>0.971555</td><td>0.980749</td><td>0.989097</td><td>0.998349</td><td>0.998986</td><td>52.4807</td><td>7.72681</td><td>1.87068</td><td>57.544</td><td>13.1826</td><td>2.51189</td><td>0.0276732</td><td>0.438591</td><td>0.0</td><td>0.0</td><td>0.0</td><td>0.0</td><td>0.0</td><td>0.0</td><td>0.890484082327</td><td>288230399866311523</td><td>2305843009213693952</td><td>0</td><td>2</td><td>0</td></tr>\n",
       "<tr><td>5654</td><td>1492p355</td><td>4964</td><td>149.323410472</td><td>35.5025627125</td><td>11.7991</td><td>15.1062</td><td>15.5338</td><td>3.17026</td><td>2.14359</td><td>0.971558</td><td>0.980751</td><td>0.989098</td><td>0.998349</td><td>0.998986</td><td>52.4807</td><td>7.72681</td><td>1.87068</td><td>57.544</td><td>13.1826</td><td>2.51189</td><td>0.0276732</td><td>0.438591</td><td>0.0</td><td>0.0</td><td>0.0</td><td>0.0</td><td>0.0</td><td>0.0</td><td>0.612069048753</td><td>288230399866311524</td><td>2305843009213693952</td><td>0</td><td>2</td><td>0</td></tr>\n",
       "</table>"
      ],
      "text/plain": [
       "<Table length=241273>\n",
       "BRICKID BRICKNAME BRICK_OBJID       RA      ... BGS_TARGET MWS_TARGET HPXPIXEL\n",
       " int32     str8      int32       float64    ...   int64      int64     int64  \n",
       "------- --------- ----------- ------------- ... ---------- ---------- --------\n",
       "   5261  1526p282           0 152.762924194 ...      65537          0        0\n",
       "   5261  1524p280           1 152.563858032 ...     131074          0        0\n",
       "   5261  1526p285           2 152.636505127 ...     131074          0        0\n",
       "   5261  1523p282           3 152.453033447 ...     131074          0        0\n",
       "   5261  1529p282           4 152.821365356 ...      65537          0        0\n",
       "   5261  1526p282           5 152.510864258 ...     131074          0        0\n",
       "   5261  1526p282           6 152.763931274 ...     131074          0        0\n",
       "   5261  1526p285           7 152.558761597 ...      65537          0        0\n",
       "   5261  1526p282           8 152.775146484 ...     131074          0        0\n",
       "   5261  1526p282           9 152.746963501 ...      65537          0        0\n",
       "    ...       ...         ...           ... ...        ...        ...      ...\n",
       "   5654  1496p360        4955 149.509628296 ...          0          0        0\n",
       "   5654  1496p360        4956 149.769424438 ...          0          0        0\n",
       "   5654  1498p362        4957  149.90435791 ...          0          0        0\n",
       "   5654  1498p352        4958 149.936669602 ...          0          2        0\n",
       "   5654  1498p355        4959 149.891148107 ...          0          2        0\n",
       "   5654  1495p352        4960 149.690678021 ...          0          2        0\n",
       "   5654  1498p352        4961  150.01164516 ...          0          2        0\n",
       "   5654  1497p357        4962 149.669753206 ...          0          2        0\n",
       "   5654  1492p355        4963 149.322803183 ...          0          2        0\n",
       "   5654  1492p355        4964 149.323410472 ...          0          2        0"
      ]
     },
     "execution_count": 3,
     "metadata": {},
     "output_type": "execute_result"
    }
   ],
   "source": [
    "targets = Table.read(os.path.join(rootdir, 'targets.fits'))\n",
    "targets"
   ]
  },
  {
   "cell_type": "code",
   "execution_count": 5,
   "metadata": {},
   "outputs": [
    {
     "data": {
      "text/html": [
       "&lt;Table length=241273&gt;\n",
       "<table id=\"table47620023026632\" class=\"table-striped table-bordered table-condensed\">\n",
       "<thead><tr><th>TARGETID</th><th>MOCKID</th><th>CONTAM_TARGET</th><th>TRUEZ</th><th>TRUESPECTYPE</th><th>TEMPLATETYPE</th><th>TEMPLATESUBTYPE</th><th>TEMPLATEID</th><th>SEED</th><th>MAG</th><th>VDISP</th><th>FLUX_G</th><th>FLUX_R</th><th>FLUX_Z</th><th>FLUX_W1</th><th>FLUX_W2</th><th>OIIFLUX</th><th>HBETAFLUX</th><th>TEFF</th><th>LOGG</th><th>FEH</th></tr></thead>\n",
       "<thead><tr><th>int64</th><th>int64</th><th>int64</th><th>float32</th><th>str10</th><th>str10</th><th>str10</th><th>int32</th><th>int64</th><th>float32</th><th>float32</th><th>float32</th><th>float32</th><th>float32</th><th>float32</th><th>float32</th><th>float32</th><th>float32</th><th>float32</th><th>float32</th><th>float32</th></tr></thead>\n",
       "<tr><td>288230398217945088</td><td>15594312</td><td>0</td><td>0.134829</td><td>GALAXY</td><td>BGS</td><td></td><td>3627</td><td>1482857632</td><td>19.8104</td><td>61.5363</td><td>5.24496</td><td>13.0271</td><td>22.0723</td><td>17.0456</td><td>11.0778</td><td>-1.0</td><td>0.0</td><td>-1.0</td><td>-1.0</td><td>-1.0</td></tr>\n",
       "<tr><td>288230398217945089</td><td>19713506</td><td>0</td><td>0.131031</td><td>GALAXY</td><td>BGS</td><td></td><td>3100</td><td>1847516324</td><td>18.5536</td><td>61.5363</td><td>23.2365</td><td>39.1643</td><td>57.4299</td><td>52.1437</td><td>38.0304</td><td>-1.0</td><td>1.62485e-15</td><td>-1.0</td><td>-1.0</td><td>-1.0</td></tr>\n",
       "<tr><td>288230398217945090</td><td>17928726</td><td>0</td><td>0.145801</td><td>GALAXY</td><td>BGS</td><td></td><td>1281</td><td>1159188526</td><td>18.3514</td><td>61.5363</td><td>19.8501</td><td>50.1084</td><td>86.5181</td><td>74.6362</td><td>51.4383</td><td>-1.0</td><td>0.0</td><td>-1.0</td><td>-1.0</td><td>-1.0</td></tr>\n",
       "<tr><td>288230398217945091</td><td>19762079</td><td>0</td><td>0.295097</td><td>GALAXY</td><td>BGS</td><td></td><td>5168</td><td>1664239784</td><td>17.9932</td><td>61.5363</td><td>18.4524</td><td>71.9985</td><td>149.989</td><td>178.462</td><td>126.497</td><td>-1.0</td><td>0.0</td><td>-1.0</td><td>-1.0</td><td>-1.0</td></tr>\n",
       "<tr><td>288230398217945092</td><td>13979089</td><td>0</td><td>0.404595</td><td>GALAXY</td><td>BGS</td><td></td><td>6077</td><td>236582212</td><td>20.1547</td><td>61.5363</td><td>2.09978</td><td>9.95809</td><td>21.8389</td><td>36.396</td><td>28.0412</td><td>-1.0</td><td>0.0</td><td>-1.0</td><td>-1.0</td><td>-1.0</td></tr>\n",
       "<tr><td>288230398217945093</td><td>16459200</td><td>0</td><td>0.264106</td><td>GALAXY</td><td>BGS</td><td></td><td>1126</td><td>1991162537</td><td>19.1176</td><td>61.5363</td><td>11.3866</td><td>23.7894</td><td>35.4239</td><td>33.6405</td><td>26.4355</td><td>-1.0</td><td>6.34972e-16</td><td>-1.0</td><td>-1.0</td><td>-1.0</td></tr>\n",
       "<tr><td>288230398217945094</td><td>18522434</td><td>0</td><td>0.124415</td><td>GALAXY</td><td>BGS</td><td></td><td>5431</td><td>266394818</td><td>18.6124</td><td>61.5363</td><td>15.305</td><td>39.5149</td><td>73.9385</td><td>79.3565</td><td>54.7434</td><td>-1.0</td><td>1.20094e-16</td><td>-1.0</td><td>-1.0</td><td>-1.0</td></tr>\n",
       "<tr><td>288230398217945095</td><td>17843316</td><td>0</td><td>0.32049</td><td>GALAXY</td><td>BGS</td><td></td><td>891</td><td>465634076</td><td>19.9593</td><td>61.5363</td><td>3.73762</td><td>11.398</td><td>21.8683</td><td>27.3294</td><td>20.5494</td><td>-1.0</td><td>8.81773e-17</td><td>-1.0</td><td>-1.0</td><td>-1.0</td></tr>\n",
       "<tr><td>288230398217945096</td><td>16440187</td><td>0</td><td>0.294273</td><td>GALAXY</td><td>BGS</td><td></td><td>3795</td><td>1715747948</td><td>18.0603</td><td>61.5363</td><td>16.0364</td><td>68.1686</td><td>149.188</td><td>206.879</td><td>152.196</td><td>-1.0</td><td>0.0</td><td>-1.0</td><td>-1.0</td><td>-1.0</td></tr>\n",
       "<tr><td>288230398217945097</td><td>12968431</td><td>0</td><td>0.206353</td><td>GALAXY</td><td>BGS</td><td></td><td>674</td><td>111129886</td><td>19.6587</td><td>61.5363</td><td>4.83601</td><td>15.3217</td><td>29.3135</td><td>29.3734</td><td>20.7506</td><td>-1.0</td><td>0.0</td><td>-1.0</td><td>-1.0</td><td>-1.0</td></tr>\n",
       "<tr><td>...</td><td>...</td><td>...</td><td>...</td><td>...</td><td>...</td><td>...</td><td>...</td><td>...</td><td>...</td><td>...</td><td>...</td><td>...</td><td>...</td><td>...</td><td>...</td><td>...</td><td>...</td><td>...</td><td>...</td><td>...</td></tr>\n",
       "<tr><td>288230399866311515</td><td>1298455</td><td>0</td><td>1.26878</td><td>QSO</td><td>QSO</td><td></td><td>1</td><td>2384036795</td><td>22.0308</td><td>-1.0</td><td>1.54059</td><td>1.98264</td><td>1.96187</td><td>3.59039</td><td>6.32289</td><td>-1.0</td><td>-1.0</td><td>-1.0</td><td>-1.0</td><td>-1.0</td></tr>\n",
       "<tr><td>288230399866311516</td><td>1230927</td><td>0</td><td>1.64302</td><td>QSO</td><td>QSO</td><td></td><td>2</td><td>2384036795</td><td>21.7264</td><td>-1.0</td><td>2.0392</td><td>2.03655</td><td>2.25573</td><td>4.23249</td><td>7.84327</td><td>-1.0</td><td>-1.0</td><td>-1.0</td><td>-1.0</td><td>-1.0</td></tr>\n",
       "<tr><td>288230399866311517</td><td>1205543</td><td>0</td><td>1.38468</td><td>QSO</td><td>QSO</td><td></td><td>3</td><td>2384036795</td><td>20.8983</td><td>-1.0</td><td>4.37204</td><td>5.87057</td><td>5.69542</td><td>12.1566</td><td>20.079</td><td>-1.0</td><td>-1.0</td><td>-1.0</td><td>-1.0</td><td>-1.0</td></tr>\n",
       "<tr><td>288230399866311518</td><td>33687</td><td>0</td><td>4.73661e-05</td><td>WD</td><td>WD</td><td>DA</td><td>963</td><td>2070350110</td><td>18.422</td><td>-1.0</td><td>41.627</td><td>26.8096</td><td>14.5254</td><td>1.29899</td><td>0.688422</td><td>-1.0</td><td>-1.0</td><td>27000.0</td><td>8.5</td><td>-1.0</td></tr>\n",
       "<tr><td>288230399866311519</td><td>389682</td><td>0</td><td>0.000110076</td><td>WD</td><td>WD</td><td>DA</td><td>741</td><td>518543222</td><td>19.612</td><td>-1.0</td><td>14.169</td><td>10.1428</td><td>6.00472</td><td>0.652523</td><td>0.353166</td><td>-1.0</td><td>-1.0</td><td>16750.0</td><td>8.0</td><td>-1.0</td></tr>\n",
       "<tr><td>288230399866311520</td><td>86008</td><td>0</td><td>-0.000210479</td><td>WD</td><td>WD</td><td>DA</td><td>27</td><td>1800679340</td><td>19.832</td><td>-1.0</td><td>12.1565</td><td>15.5293</td><td>15.9602</td><td>3.60637</td><td>2.02437</td><td>-1.0</td><td>-1.0</td><td>6500.0</td><td>8.25</td><td>-1.0</td></tr>\n",
       "<tr><td>288230399866311521</td><td>389524</td><td>0</td><td>0.000193467</td><td>WD</td><td>WD</td><td>DB</td><td>22</td><td>2127151900</td><td>19.843</td><td>-1.0</td><td>11.4293</td><td>9.42563</td><td>6.38046</td><td>34.0481</td><td>63.9958</td><td>-1.0</td><td>-1.0</td><td>12000.0</td><td>8.0</td><td>-1.0</td></tr>\n",
       "<tr><td>288230399866311522</td><td>389964</td><td>0</td><td>-3.33564e-06</td><td>WD</td><td>WD</td><td>DA</td><td>4</td><td>1314073242</td><td>19.202</td><td>-1.0</td><td>21.9766</td><td>30.8796</td><td>34.1473</td><td>8.65843</td><td>4.92947</td><td>-1.0</td><td>-1.0</td><td>6000.0</td><td>8.0</td><td>-1.0</td></tr>\n",
       "<tr><td>288230399866311523</td><td>86073</td><td>0</td><td>-5.00346e-06</td><td>WD</td><td>WD</td><td>DA</td><td>27</td><td>1458464403</td><td>19.832</td><td>-1.0</td><td>12.1597</td><td>15.5322</td><td>15.9737</td><td>3.60833</td><td>2.02574</td><td>-1.0</td><td>-1.0</td><td>6500.0</td><td>8.25</td><td>-1.0</td></tr>\n",
       "<tr><td>288230399866311524</td><td>86072</td><td>0</td><td>-1.10076e-05</td><td>WD</td><td>WD</td><td>DA</td><td>27</td><td>583685678</td><td>19.832</td><td>-1.0</td><td>12.1596</td><td>15.5321</td><td>15.9734</td><td>3.60828</td><td>2.0257</td><td>-1.0</td><td>-1.0</td><td>6500.0</td><td>8.25</td><td>-1.0</td></tr>\n",
       "</table>"
      ],
      "text/plain": [
       "<Table length=241273>\n",
       "     TARGETID       MOCKID  CONTAM_TARGET ...   TEFF    LOGG    FEH  \n",
       "      int64         int64       int64     ... float32 float32 float32\n",
       "------------------ -------- ------------- ... ------- ------- -------\n",
       "288230398217945088 15594312             0 ...    -1.0    -1.0    -1.0\n",
       "288230398217945089 19713506             0 ...    -1.0    -1.0    -1.0\n",
       "288230398217945090 17928726             0 ...    -1.0    -1.0    -1.0\n",
       "288230398217945091 19762079             0 ...    -1.0    -1.0    -1.0\n",
       "288230398217945092 13979089             0 ...    -1.0    -1.0    -1.0\n",
       "288230398217945093 16459200             0 ...    -1.0    -1.0    -1.0\n",
       "288230398217945094 18522434             0 ...    -1.0    -1.0    -1.0\n",
       "288230398217945095 17843316             0 ...    -1.0    -1.0    -1.0\n",
       "288230398217945096 16440187             0 ...    -1.0    -1.0    -1.0\n",
       "288230398217945097 12968431             0 ...    -1.0    -1.0    -1.0\n",
       "               ...      ...           ... ...     ...     ...     ...\n",
       "288230399866311515  1298455             0 ...    -1.0    -1.0    -1.0\n",
       "288230399866311516  1230927             0 ...    -1.0    -1.0    -1.0\n",
       "288230399866311517  1205543             0 ...    -1.0    -1.0    -1.0\n",
       "288230399866311518    33687             0 ... 27000.0     8.5    -1.0\n",
       "288230399866311519   389682             0 ... 16750.0     8.0    -1.0\n",
       "288230399866311520    86008             0 ...  6500.0    8.25    -1.0\n",
       "288230399866311521   389524             0 ... 12000.0     8.0    -1.0\n",
       "288230399866311522   389964             0 ...  6000.0     8.0    -1.0\n",
       "288230399866311523    86073             0 ...  6500.0    8.25    -1.0\n",
       "288230399866311524    86072             0 ...  6500.0    8.25    -1.0"
      ]
     },
     "execution_count": 5,
     "metadata": {},
     "output_type": "execute_result"
    }
   ],
   "source": [
    "truth = Table.read(os.path.join(rootdir, 'truth.fits'))\n",
    "truth"
   ]
  },
  {
   "cell_type": "code",
   "execution_count": 18,
   "metadata": {},
   "outputs": [],
   "source": [
    "rmag = 22.5 - 2.5 * np.log10(truth['FLUX_R'])\n",
    "oiiflux = truth['OIIFLUX']"
   ]
  },
  {
   "cell_type": "code",
   "execution_count": 20,
   "metadata": {},
   "outputs": [
    {
     "data": {
      "text/plain": [
       "(81877, 241273)"
      ]
     },
     "execution_count": 20,
     "metadata": {},
     "output_type": "execute_result"
    }
   ],
   "source": [
    "elg = ( (targets['DESI_TARGET'] & desi_mask.ELG) != 0 ) * (oiiflux > 0)\n",
    "np.count_nonzero(elg), len(targets)"
   ]
  },
  {
   "cell_type": "code",
   "execution_count": 26,
   "metadata": {},
   "outputs": [
    {
     "data": {
      "text/plain": [
       "<matplotlib.collections.PathCollection at 0x2b4f6b37feb8>"
      ]
     },
     "execution_count": 26,
     "metadata": {},
     "output_type": "execute_result"
    },
    {
     "data": {
      "image/png": "[encoded data removed]",
      "text/plain": [
       "<matplotlib.figure.Figure at 0x2b4f6a024c88>"
      ]
     },
     "metadata": {},
     "output_type": "display_data"
    }
   ],
   "source": [
    "plt.scatter(rmag[elg], np.log10(oiiflux[elg]), s=5)"
   ]
  },
  {
   "cell_type": "code",
   "execution_count": null,
   "metadata": {},
   "outputs": [],
   "source": []
  }
 ],
 "metadata": {
  "kernelspec": {
   "display_name": "DESI 18.2a",
   "language": "python",
   "name": "desi18.2a"
  },
  "language_info": {
   "codemirror_mode": {
    "name": "ipython",
    "version": 3
   },
   "file_extension": ".py",
   "mimetype": "text/x-python",
   "name": "python",
   "nbconvert_exporter": "python",
   "pygments_lexer": "ipython3",
   "version": "3.6.4"
  }
 },
 "nbformat": 4,
 "nbformat_minor": 2
}
