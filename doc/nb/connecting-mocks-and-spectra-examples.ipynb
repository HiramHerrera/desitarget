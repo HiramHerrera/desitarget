{
 "cells": [
  {
   "cell_type": "markdown",
   "metadata": {},
   "source": [
    "# Connecting Mocks and Spectra Examples\n",
    "\n",
    "The purpose of this notebook is to demonstrate how to generate spectra and apply target selection cuts for various mock catalogs and target types.  Here we generate spectra for targets in a single healpixel with no constraints on the target density (relative to the expected target density) or contaminants.\n",
    "\n",
    "For code to generate large numbers of spectra over significant patches of sky and to create a representative DESI dataset (with parallelism), see `desitarget/bin/select_mock_targets` and `desitarget.mock.build.targets_truth`.\n",
    "\n",
    "Finally, note that the various python Classes instantiated here (documented in `desitarget.mock.mockmaker`) are easily extensible to other mock catalogs and galaxy/QSO/stellar physics."
   ]
  },
  {
   "cell_type": "code",
   "execution_count": 1,
   "metadata": {
    "collapsed": true
   },
   "outputs": [],
   "source": [
    "import os\n",
    "import numpy as np\n",
    "import matplotlib.pyplot as plt"
   ]
  },
  {
   "cell_type": "code",
   "execution_count": 2,
   "metadata": {
    "collapsed": true
   },
   "outputs": [],
   "source": [
    "from desiutil.log import get_logger, DEBUG\n",
    "log = get_logger()"
   ]
  },
  {
   "cell_type": "code",
   "execution_count": 3,
   "metadata": {
    "collapsed": true
   },
   "outputs": [],
   "source": [
    "import seaborn as sns\n",
    "sns.set(style='white', font_scale=1.1, palette='deep')"
   ]
  },
  {
   "cell_type": "code",
   "execution_count": 4,
   "metadata": {
    "collapsed": true
   },
   "outputs": [],
   "source": [
    "%matplotlib inline"
   ]
  },
  {
   "cell_type": "markdown",
   "metadata": {},
   "source": [
    "#### Specify the (required) path to the dust maps and the desired healpixel."
   ]
  },
  {
   "cell_type": "code",
   "execution_count": null,
   "metadata": {
    "collapsed": true
   },
   "outputs": [],
   "source": [
    "dust_dir = '/Users/ioannis/research/data/sfd_dustmaps/maps'"
   ]
  },
  {
   "cell_type": "code",
   "execution_count": null,
   "metadata": {
    "collapsed": true
   },
   "outputs": [],
   "source": [
    "healpixel = 26030\n",
    "nside = 64"
   ]
  },
  {
   "cell_type": "code",
   "execution_count": null,
   "metadata": {
    "collapsed": true
   },
   "outputs": [],
   "source": [
    "seed = 555\n",
    "rand = np.random.RandomState(seed)"
   ]
  },
  {
   "cell_type": "markdown",
   "metadata": {},
   "source": [
    "#### Define a couple wrapper routines we will use below several times."
   ]
  },
  {
   "cell_type": "code",
   "execution_count": null,
   "metadata": {
    "collapsed": true
   },
   "outputs": [],
   "source": [
    "def plot_subset(wave, flux, truth, nplot=16, ncol=4, these=None, \n",
    "                xlim=None, loc='right', targname='', objtype=''):\n",
    "    \"\"\"Plot a random sampling of spectra.\"\"\"\n",
    "    \n",
    "    nspec, npix = flux.shape\n",
    "    if nspec < nplot:\n",
    "        nplot = nspec\n",
    "    \n",
    "    nrow = np.ceil(nplot / ncol).astype('int')\n",
    "\n",
    "    if loc == 'left':\n",
    "        xtxt, ytxt, ha = 0.05, 0.93, 'left'\n",
    "    else:\n",
    "        xtxt, ytxt, ha = 0.93, 0.93, 'right'\n",
    "    \n",
    "    if these is None:\n",
    "        these = rand.choice(nspec, nplot, replace=False)\n",
    "        these = np.sort(these)\n",
    "        \n",
    "    ww = (wave > 5500) * (wave < 5550)\n",
    "\n",
    "    fig, ax = plt.subplots(nrow, ncol, figsize=(2.5*ncol, 2*nrow), sharey=False, sharex=True)\n",
    "    for thisax, indx in zip(ax.flat, these):\n",
    "        thisax.plot(wave, flux[indx, :] / np.median(flux[indx, ww]))\n",
    "        if objtype == 'STAR' or objtype == 'WD':\n",
    "            thisax.text(xtxt, ytxt, r'$T_{{eff}}$={:.0f} K'.format(truth['TEFF'][indx]), ha=ha,\n",
    "                 va='top', transform=thisax.transAxes, fontsize=13)\n",
    "        else:\n",
    "            thisax.text(xtxt, ytxt, 'z={:.3f}'.format(truth['TRUEZ'][indx]), ha=ha, \n",
    "                 va='top', transform=thisax.transAxes, fontsize=13)\n",
    "            \n",
    "        thisax.xaxis.set_major_locator(plt.MaxNLocator(3))\n",
    "        if xlim:\n",
    "            thisax.set_xlim(xlim)\n",
    "    for thisax in ax.flat:\n",
    "        thisax.yaxis.set_ticks([])\n",
    "        thisax.margins(0.2)\n",
    "        \n",
    "    fig.suptitle(targname)\n",
    "    fig.subplots_adjust(wspace=0.05, hspace=0.05, top=0.93)"
   ]
  },
  {
   "cell_type": "code",
   "execution_count": null,
   "metadata": {
    "collapsed": true
   },
   "outputs": [],
   "source": [
    "def demo_mockmaker(Maker, seed=None, nrand=16, loc='right'):\n",
    "\n",
    "    TARGET = Maker(seed=seed)\n",
    "    \n",
    "    log.info('Reading the mock catalog for {}s'.format(TARGET.objtype))\n",
    "    tdata = TARGET.read(healpixels=healpixel, nside=nside, dust_dir=dust_dir)\n",
    "    \n",
    "    log.info('Generating {} random spectra.'.format(nrand))\n",
    "    indx = rand.choice(len(tdata['RA']), np.min( (nrand, len(tdata['RA'])) ) )\n",
    "    tflux, twave, tmeta, ttargets, ttruth = TARGET.make_spectra(tdata, indx=indx)\n",
    "    \n",
    "    log.info('Selecting targets')\n",
    "    TARGET.select_targets(ttargets, ttruth)\n",
    "    \n",
    "    plot_subset(twave, tflux, ttruth, loc=loc, targname=tdata['TARGET_NAME'], \n",
    "                objtype=TARGET.objtype)"
   ]
  },
  {
   "cell_type": "markdown",
   "metadata": {},
   "source": [
    "### Tracer QSOs\n",
    "\n",
    "Both tracer and Lya QSOs contain an underlying QSO spectrum but the Lya QSOs (which we demonstrate below) also include the Lya forest from the latest CoLoRe skewer mocks."
   ]
  },
  {
   "cell_type": "code",
   "execution_count": null,
   "metadata": {
    "collapsed": true
   },
   "outputs": [],
   "source": [
    "from desitarget.mock.mockmaker import QSOMaker"
   ]
  },
  {
   "cell_type": "code",
   "execution_count": null,
   "metadata": {
    "collapsed": true
   },
   "outputs": [],
   "source": [
    "QSO = QSOMaker(seed=seed)"
   ]
  },
  {
   "cell_type": "markdown",
   "metadata": {},
   "source": [
    "#### The various `read` methods return a dictionary with target-specific quantities."
   ]
  },
  {
   "cell_type": "code",
   "execution_count": null,
   "metadata": {},
   "outputs": [],
   "source": [
    "data = QSO.read(healpixels=healpixel, nside=nside, dust_dir=dust_dir)"
   ]
  },
  {
   "cell_type": "code",
   "execution_count": null,
   "metadata": {},
   "outputs": [],
   "source": [
    "for key in sorted(list(data.keys())):\n",
    "    print('{:>20}, {:3d}, {}'.format(key, len(data[key]), type(data[key])))"
   ]
  },
  {
   "cell_type": "markdown",
   "metadata": {},
   "source": [
    "#### Now we can generate the spectra as well as the targeting catalogs (`targets`) and corresponding truth table."
   ]
  },
  {
   "cell_type": "code",
   "execution_count": null,
   "metadata": {},
   "outputs": [],
   "source": [
    "%time flux, wave, meta, targets, truth = QSO.make_spectra(data)"
   ]
  },
  {
   "cell_type": "code",
   "execution_count": null,
   "metadata": {},
   "outputs": [],
   "source": [
    "print(flux.shape, wave.shape)"
   ]
  },
  {
   "cell_type": "markdown",
   "metadata": {},
   "source": [
    "#### The truth (and meta) catalog contains all the input, known target properties."
   ]
  },
  {
   "cell_type": "code",
   "execution_count": null,
   "metadata": {},
   "outputs": [],
   "source": [
    "truth[:2]"
   ]
  },
  {
   "cell_type": "code",
   "execution_count": null,
   "metadata": {},
   "outputs": [],
   "source": [
    "meta[:2]"
   ]
  },
  {
   "cell_type": "markdown",
   "metadata": {},
   "source": [
    "#### Let's plot some example spectra."
   ]
  },
  {
   "cell_type": "code",
   "execution_count": null,
   "metadata": {},
   "outputs": [],
   "source": [
    "plot_subset(wave, flux, truth, targname='QSO')"
   ]
  },
  {
   "cell_type": "markdown",
   "metadata": {},
   "source": [
    "#### Select DESI targets, after which point the targets catalog should look just like an imaging targeting catalog.\n",
    "\n",
    "In other words, `targets` includes noisy photometry as well as targeting information."
   ]
  },
  {
   "cell_type": "code",
   "execution_count": null,
   "metadata": {
    "collapsed": true
   },
   "outputs": [],
   "source": [
    "QSO.select_targets(targets, truth)"
   ]
  },
  {
   "cell_type": "code",
   "execution_count": null,
   "metadata": {},
   "outputs": [],
   "source": [
    "targets[:2]"
   ]
  },
  {
   "cell_type": "code",
   "execution_count": null,
   "metadata": {},
   "outputs": [],
   "source": [
    "keep = targets['DESI_TARGET'] != 0\n",
    "log.info('Identified {} / {} DESI QSO targets.'.format(np.sum(keep), len(targets)))"
   ]
  },
  {
   "cell_type": "markdown",
   "metadata": {},
   "source": [
    "### Generating QSO spectra with cosmological Lya skewers proceeds along similar lines.\n",
    "\n",
    "Note that the current set of Lya mocks (based on CoLoRe) have only 5 A wavelength resolution, so the Lya forest is not very obvious in the spectra below."
   ]
  },
  {
   "cell_type": "code",
   "execution_count": null,
   "metadata": {
    "collapsed": true
   },
   "outputs": [],
   "source": [
    "from desitarget.mock.mockmaker import LYAMaker"
   ]
  },
  {
   "cell_type": "code",
   "execution_count": null,
   "metadata": {
    "collapsed": true
   },
   "outputs": [],
   "source": [
    "LYA = LYAMaker(seed=seed)"
   ]
  },
  {
   "cell_type": "code",
   "execution_count": null,
   "metadata": {},
   "outputs": [],
   "source": [
    "lyadata = LYA.read(healpixels=healpixel, nside=nside, dust_dir=dust_dir)"
   ]
  },
  {
   "cell_type": "code",
   "execution_count": null,
   "metadata": {},
   "outputs": [],
   "source": [
    "%time lyaflux, lyawave, lyameta, lyatargets, lyatruth = LYA.make_spectra(lyadata)"
   ]
  },
  {
   "cell_type": "code",
   "execution_count": null,
   "metadata": {},
   "outputs": [],
   "source": [
    "plot_subset(lyawave, lyaflux, lyatruth, xlim=(3500, 5500), targname='LYA')"
   ]
  },
  {
   "cell_type": "markdown",
   "metadata": {},
   "source": [
    "### Demonstrate the other extragalactic target classes: LRG, ELG, and BGS."
   ]
  },
  {
   "cell_type": "markdown",
   "metadata": {},
   "source": [
    "#### LRGs"
   ]
  },
  {
   "cell_type": "code",
   "execution_count": null,
   "metadata": {
    "collapsed": true
   },
   "outputs": [],
   "source": [
    "from desitarget.mock.mockmaker import LRGMaker"
   ]
  },
  {
   "cell_type": "code",
   "execution_count": null,
   "metadata": {},
   "outputs": [],
   "source": [
    "%time demo_mockmaker(LRGMaker, seed=seed, loc='left')"
   ]
  },
  {
   "cell_type": "markdown",
   "metadata": {},
   "source": [
    "#### ELGs"
   ]
  },
  {
   "cell_type": "code",
   "execution_count": null,
   "metadata": {
    "collapsed": true
   },
   "outputs": [],
   "source": [
    "from desitarget.mock.mockmaker import ELGMaker"
   ]
  },
  {
   "cell_type": "code",
   "execution_count": null,
   "metadata": {},
   "outputs": [],
   "source": [
    "%time demo_mockmaker(ELGMaker, seed=seed, loc='left')"
   ]
  },
  {
   "cell_type": "markdown",
   "metadata": {},
   "source": [
    "#### BGS"
   ]
  },
  {
   "cell_type": "code",
   "execution_count": null,
   "metadata": {
    "collapsed": true
   },
   "outputs": [],
   "source": [
    "from desitarget.mock.mockmaker import BGSMaker"
   ]
  },
  {
   "cell_type": "code",
   "execution_count": null,
   "metadata": {},
   "outputs": [],
   "source": [
    "%time demo_mockmaker(BGSMaker, seed=seed)"
   ]
  },
  {
   "cell_type": "markdown",
   "metadata": {},
   "source": [
    "### Next, demonstrate how to generate spectra of stars..."
   ]
  },
  {
   "cell_type": "markdown",
   "metadata": {},
   "source": [
    "#### MWS_MAIN"
   ]
  },
  {
   "cell_type": "code",
   "execution_count": null,
   "metadata": {
    "collapsed": true
   },
   "outputs": [],
   "source": [
    "from desitarget.mock.mockmaker import MWS_MAINMaker"
   ]
  },
  {
   "cell_type": "code",
   "execution_count": null,
   "metadata": {},
   "outputs": [],
   "source": [
    "%time demo_mockmaker(MWS_MAINMaker, seed=seed, loc='left')"
   ]
  },
  {
   "cell_type": "markdown",
   "metadata": {},
   "source": [
    "#### MWS_NEARBY"
   ]
  },
  {
   "cell_type": "code",
   "execution_count": null,
   "metadata": {
    "collapsed": true
   },
   "outputs": [],
   "source": [
    "from desitarget.mock.mockmaker import MWS_NEARBYMaker"
   ]
  },
  {
   "cell_type": "code",
   "execution_count": null,
   "metadata": {},
   "outputs": [],
   "source": [
    "%time demo_mockmaker(MWS_NEARBYMaker, seed=seed, loc='left')"
   ]
  },
  {
   "cell_type": "markdown",
   "metadata": {},
   "source": [
    "#### White dwarfs (WDs)"
   ]
  },
  {
   "cell_type": "code",
   "execution_count": null,
   "metadata": {
    "collapsed": true
   },
   "outputs": [],
   "source": [
    "from desitarget.mock.mockmaker import WDMaker"
   ]
  },
  {
   "cell_type": "code",
   "execution_count": null,
   "metadata": {},
   "outputs": [],
   "source": [
    "%time demo_mockmaker(WDMaker, seed=seed, loc='right')"
   ]
  },
  {
   "cell_type": "markdown",
   "metadata": {},
   "source": [
    "### Finally demonstrate how to generate (empyt) SKY spectra."
   ]
  },
  {
   "cell_type": "code",
   "execution_count": null,
   "metadata": {
    "collapsed": true
   },
   "outputs": [],
   "source": [
    "from desitarget.mock.mockmaker import SKYMaker"
   ]
  },
  {
   "cell_type": "code",
   "execution_count": null,
   "metadata": {
    "collapsed": true
   },
   "outputs": [],
   "source": [
    "SKY = SKYMaker(seed=seed)"
   ]
  },
  {
   "cell_type": "code",
   "execution_count": null,
   "metadata": {},
   "outputs": [],
   "source": [
    "skydata = SKY.read(healpixels=healpixel, nside=nside, dust_dir=dust_dir)"
   ]
  },
  {
   "cell_type": "code",
   "execution_count": null,
   "metadata": {
    "collapsed": true
   },
   "outputs": [],
   "source": [
    "skyflux, skywave, skymeta, skytargets, skytruth = SKY.make_spectra(skydata)"
   ]
  },
  {
   "cell_type": "code",
   "execution_count": null,
   "metadata": {
    "collapsed": true
   },
   "outputs": [],
   "source": [
    "SKY.select_targets(skytargets, skytruth)"
   ]
  }
 ],
 "metadata": {
  "kernelspec": {
   "display_name": "Python 3",
   "language": "python",
   "name": "python3"
  },
  "language_info": {
   "codemirror_mode": {
    "name": "ipython",
    "version": 3
   },
   "file_extension": ".py",
   "mimetype": "text/x-python",
   "name": "python",
   "nbconvert_exporter": "python",
   "pygments_lexer": "ipython3",
   "version": "3.5.3"
  }
 },
 "nbformat": 4,
 "nbformat_minor": 2
}
