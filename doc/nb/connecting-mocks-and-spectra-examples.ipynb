{
 "cells": [
  {
   "cell_type": "markdown",
   "metadata": {},
   "source": [
    "# Connecting Mocks and Spectra Examples\n",
    "\n",
    "The purpose of this notebook is to demonstrate how to generate spectra and apply target selection cuts for various mock catalogs and target types.  Here we generate spectra for targets in a single healpixel with no constraints on the target density (relative to the expected target density) or contaminants.\n",
    "\n",
    "For code to generate large numbers of spectra over significant patches of sky and to create a representative DESI dataset (with parallelism), see `desitarget/bin/select_mock_targets` and `desitarget.mock.build.targets_truth`."
   ]
  },
  {
   "cell_type": "code",
   "execution_count": 1,
   "metadata": {
    "collapsed": true
   },
   "outputs": [],
   "source": [
    "import os\n",
    "import numpy as np\n",
    "import matplotlib.pyplot as plt"
   ]
  },
  {
   "cell_type": "code",
   "execution_count": 2,
   "metadata": {},
   "outputs": [],
   "source": [
    "from desitarget.mock.mockmaker import (QSOMaker, LYAMaker, LRGMaker, ELGMaker, \n",
    "                                       BGSMaker, MWS_MAINMaker, MWS_NEARBYMaker,\n",
    "                                       WDMaker, FAINTSTARMaker, SKYMaker)"
   ]
  },
  {
   "cell_type": "code",
   "execution_count": 3,
   "metadata": {},
   "outputs": [],
   "source": [
    "plt.style.use('seaborn-ticks')\n",
    "%matplotlib inline"
   ]
  },
  {
   "cell_type": "markdown",
   "metadata": {},
   "source": [
    "#### Specify the (required) path to the dust maps and the desired healpixel."
   ]
  },
  {
   "cell_type": "code",
   "execution_count": 4,
   "metadata": {
    "collapsed": true
   },
   "outputs": [],
   "source": [
    "dust_dir = '/Users/ioannis/research/data/sfd_dustmaps/maps'"
   ]
  },
  {
   "cell_type": "code",
   "execution_count": 5,
   "metadata": {
    "collapsed": true
   },
   "outputs": [],
   "source": [
    "healpixel = 26030\n",
    "nside = 64"
   ]
  },
  {
   "cell_type": "code",
   "execution_count": 6,
   "metadata": {
    "collapsed": true
   },
   "outputs": [],
   "source": [
    "seed = 555\n",
    "rand = np.random.RandomState(seed)"
   ]
  },
  {
   "cell_type": "markdown",
   "metadata": {},
   "source": [
    "### Tracer and Lya QSOs.\n",
    "\n",
    "Both tracer and Lya QSOs contain an underlying QSO spectrum but the Lya QSOs also include the Lya forest from the latest CoLoRe skewer mocks."
   ]
  },
  {
   "cell_type": "code",
   "execution_count": 7,
   "metadata": {
    "collapsed": true
   },
   "outputs": [],
   "source": [
    "QSO = QSOMaker(seed=seed)"
   ]
  },
  {
   "cell_type": "markdown",
   "metadata": {},
   "source": [
    "#### The various `read` methods return a dictionary with target-specific quantities."
   ]
  },
  {
   "cell_type": "code",
   "execution_count": 8,
   "metadata": {},
   "outputs": [
    {
     "name": "stdout",
     "output_type": "stream",
     "text": [
      "INFO:mockmaker.py:566:readmock: Reading /Users/ioannis/work/desi/mocks/GaussianRandomField/v0.0.5/QSO.fits\n",
      "INFO:mockmaker.py:578:readmock: Assigning healpix pixels with nside = 64\n",
      "INFO:mockmaker.py:587:readmock: Trimmed to 114 QSOs in healpixel(s) 26030\n"
     ]
    }
   ],
   "source": [
    "data = QSO.read(healpixels=healpixel, nside=nside, dust_dir=dust_dir)"
   ]
  },
  {
   "cell_type": "code",
   "execution_count": 9,
   "metadata": {},
   "outputs": [
    {
     "name": "stdout",
     "output_type": "stream",
     "text": [
      "           BRICKNAME, 114, <class 'numpy.ndarray'>\n",
      "                 DEC, 114, <class 'numpy.ndarray'>\n",
      "                 EBV, 114, <class 'numpy.ndarray'>\n",
      "               FILES,   1, <class 'list'>\n",
      "          GALDEPTH_G, 114, <class 'numpy.ndarray'>\n",
      "          GALDEPTH_R, 114, <class 'numpy.ndarray'>\n",
      "          GALDEPTH_Z, 114, <class 'numpy.ndarray'>\n",
      "          MOCKFORMAT,  13, <class 'str'>\n",
      "              MOCKID, 114, <class 'numpy.ndarray'>\n",
      "   MW_TRANSMISSION_G, 114, <class 'numpy.ndarray'>\n",
      "   MW_TRANSMISSION_R, 114, <class 'numpy.ndarray'>\n",
      "  MW_TRANSMISSION_W1, 114, <class 'numpy.ndarray'>\n",
      "  MW_TRANSMISSION_W2, 114, <class 'numpy.ndarray'>\n",
      "   MW_TRANSMISSION_Z, 114, <class 'numpy.ndarray'>\n",
      "          N_PER_FILE,   1, <class 'list'>\n",
      "               OBJID, 114, <class 'numpy.ndarray'>\n",
      "          PSFDEPTH_G, 114, <class 'numpy.ndarray'>\n",
      "          PSFDEPTH_R, 114, <class 'numpy.ndarray'>\n",
      "         PSFDEPTH_W1, 114, <class 'numpy.ndarray'>\n",
      "         PSFDEPTH_W2, 114, <class 'numpy.ndarray'>\n",
      "          PSFDEPTH_Z, 114, <class 'numpy.ndarray'>\n",
      "                  RA, 114, <class 'numpy.ndarray'>\n",
      "         TARGET_NAME,   3, <class 'str'>\n",
      "     TEMPLATESUBTYPE,   0, <class 'str'>\n",
      "        TEMPLATETYPE,   3, <class 'str'>\n",
      "        TRUESPECTYPE,   3, <class 'str'>\n",
      "                   Z, 114, <class 'numpy.ndarray'>\n"
     ]
    }
   ],
   "source": [
    "for key in sorted(list(data.keys())):\n",
    "    print('{:>20}, {:3d}, {}'.format(key, len(data[key]), type(data[key])))"
   ]
  },
  {
   "cell_type": "markdown",
   "metadata": {},
   "source": [
    "#### Now we can generate the spectra as well as the targeting catalogs (`targets`) and corresponding truth table."
   ]
  },
  {
   "cell_type": "code",
   "execution_count": 10,
   "metadata": {},
   "outputs": [
    {
     "name": "stdout",
     "output_type": "stream",
     "text": [
      "CPU times: user 4.28 s, sys: 225 ms, total: 4.5 s\n",
      "Wall time: 4.64 s\n"
     ]
    }
   ],
   "source": [
    "%time flux, wave, meta, targets, truth = QSO.make_spectra(data)"
   ]
  },
  {
   "cell_type": "code",
   "execution_count": 11,
   "metadata": {},
   "outputs": [
    {
     "name": "stdout",
     "output_type": "stream",
     "text": [
      "(114, 32001) (32001,)\n"
     ]
    }
   ],
   "source": [
    "print(flux.shape, wave.shape)"
   ]
  },
  {
   "cell_type": "markdown",
   "metadata": {},
   "source": [
    "#### The truth (and meta) catalog contains all the input, known target properties."
   ]
  },
  {
   "cell_type": "code",
   "execution_count": 12,
   "metadata": {},
   "outputs": [
    {
     "data": {
      "text/html": [
       "&lt;Table length=2&gt;\n",
       "<table id=\"table4862865248\" class=\"table-striped table-bordered table-condensed\">\n",
       "<thead><tr><th>TARGETID</th><th>MOCKID</th><th>CONTAM_TARGET</th><th>TRUEZ</th><th>TRUESPECTYPE</th><th>TEMPLATETYPE</th><th>TEMPLATESUBTYPE</th><th>TEMPLATEID</th><th>SEED</th><th>MAG</th><th>VDISP</th><th>FLUX_G</th><th>FLUX_R</th><th>FLUX_Z</th><th>FLUX_W1</th><th>FLUX_W2</th><th>OIIFLUX</th><th>HBETAFLUX</th><th>TEFF</th><th>LOGG</th><th>FEH</th></tr></thead>\n",
       "<thead><tr><th></th><th></th><th></th><th></th><th></th><th></th><th></th><th></th><th></th><th>mag</th><th>km / s</th><th>nanomaggies</th><th>nanomaggies</th><th>nanomaggies</th><th>nanomaggies</th><th>nanomaggies</th><th>erg / (cm2 s)</th><th>erg / (cm2 s)</th><th>K</th><th>m / s2</th><th></th></tr></thead>\n",
       "<thead><tr><th>int64</th><th>int64</th><th>int64</th><th>float32</th><th>str10</th><th>str10</th><th>str10</th><th>int32</th><th>int64</th><th>float32</th><th>float32</th><th>float32</th><th>float32</th><th>float32</th><th>float32</th><th>float32</th><th>float32</th><th>float32</th><th>float32</th><th>float32</th><th>float32</th></tr></thead>\n",
       "<tr><td>0</td><td>495878</td><td>0</td><td>0.139552</td><td>QSO</td><td>QSO</td><td></td><td>0</td><td>3083073946</td><td>21.3426</td><td>-1.0</td><td>2.90382</td><td>2.99851</td><td>3.13995</td><td>19.3509</td><td>26.174</td><td>-1.0</td><td>-1.0</td><td>-1.0</td><td>-1.0</td><td>-1.0</td></tr>\n",
       "<tr><td>0</td><td>502558</td><td>0</td><td>0.43569</td><td>QSO</td><td>QSO</td><td></td><td>1</td><td>3083073946</td><td>19.682</td><td>-1.0</td><td>13.4024</td><td>13.8509</td><td>19.9141</td><td>92.6185</td><td>139.872</td><td>-1.0</td><td>-1.0</td><td>-1.0</td><td>-1.0</td><td>-1.0</td></tr>\n",
       "</table>"
      ],
      "text/plain": [
       "<Table length=2>\n",
       "TARGETID MOCKID CONTAM_TARGET  TRUEZ   ...   HBETAFLUX     TEFF    LOGG    FEH  \n",
       "                                       ... erg / (cm2 s)    K     m / s2        \n",
       " int64   int64      int64     float32  ...    float32    float32 float32 float32\n",
       "-------- ------ ------------- -------- ... ------------- ------- ------- -------\n",
       "       0 495878             0 0.139552 ...          -1.0    -1.0    -1.0    -1.0\n",
       "       0 502558             0  0.43569 ...          -1.0    -1.0    -1.0    -1.0"
      ]
     },
     "execution_count": 12,
     "metadata": {},
     "output_type": "execute_result"
    }
   ],
   "source": [
    "truth[:2]"
   ]
  },
  {
   "cell_type": "code",
   "execution_count": 13,
   "metadata": {},
   "outputs": [
    {
     "data": {
      "text/html": [
       "&lt;Table length=2&gt;\n",
       "<table id=\"table5079686840\" class=\"table-striped table-bordered table-condensed\">\n",
       "<thead><tr><th>OBJTYPE</th><th>SUBTYPE</th><th>TEMPLATEID</th><th>SEED</th><th>REDSHIFT</th><th>MAG</th><th>FLUX_G</th><th>FLUX_R</th><th>FLUX_Z</th><th>FLUX_W1</th><th>FLUX_W2</th><th>OIIFLUX</th><th>HBETAFLUX</th><th>EWOII</th><th>EWHBETA</th><th>D4000</th><th>VDISP</th><th>OIIDOUBLET</th><th>OIIIHBETA</th><th>OIIHBETA</th><th>NIIHBETA</th><th>SIIHBETA</th><th>ZMETAL</th><th>AGE</th><th>TEFF</th><th>LOGG</th><th>FEH</th></tr></thead>\n",
       "<thead><tr><th></th><th></th><th></th><th></th><th></th><th>mag</th><th>nanomaggies</th><th>nanomaggies</th><th>nanomaggies</th><th>nanomaggies</th><th>nanomaggies</th><th>erg / (cm2 s)</th><th>erg / (cm2 s)</th><th>Angstrom</th><th>Angstrom</th><th></th><th>km / s</th><th></th><th>dex</th><th>dex</th><th>dex</th><th>dex</th><th></th><th>Gyr</th><th>K</th><th>m / s2</th><th></th></tr></thead>\n",
       "<thead><tr><th>str10</th><th>str10</th><th>int64</th><th>int64</th><th>float32</th><th>float32</th><th>float32</th><th>float32</th><th>float32</th><th>float32</th><th>float32</th><th>float32</th><th>float32</th><th>float32</th><th>float32</th><th>float32</th><th>float32</th><th>float32</th><th>float32</th><th>float32</th><th>float32</th><th>float32</th><th>float32</th><th>float32</th><th>float32</th><th>float32</th><th>float32</th></tr></thead>\n",
       "<tr><td>QSO</td><td></td><td>0</td><td>3083073946</td><td>0.139552</td><td>21.3426</td><td>2.90382</td><td>2.99851</td><td>3.13995</td><td>19.3509</td><td>26.174</td><td>-1.0</td><td>-1.0</td><td>-1.0</td><td>-1.0</td><td>-1.0</td><td>-1.0</td><td>-1.0</td><td>-1.0</td><td>-1.0</td><td>-1.0</td><td>-1.0</td><td>-1.0</td><td>-1.0</td><td>-1.0</td><td>-1.0</td><td>-1.0</td></tr>\n",
       "<tr><td>QSO</td><td></td><td>1</td><td>3083073946</td><td>0.43569</td><td>19.682</td><td>13.4024</td><td>13.8509</td><td>19.9141</td><td>92.6185</td><td>139.872</td><td>-1.0</td><td>-1.0</td><td>-1.0</td><td>-1.0</td><td>-1.0</td><td>-1.0</td><td>-1.0</td><td>-1.0</td><td>-1.0</td><td>-1.0</td><td>-1.0</td><td>-1.0</td><td>-1.0</td><td>-1.0</td><td>-1.0</td><td>-1.0</td></tr>\n",
       "</table>"
      ],
      "text/plain": [
       "<Table length=2>\n",
       "OBJTYPE SUBTYPE TEMPLATEID    SEED    ...   AGE     TEFF    LOGG    FEH  \n",
       "                                      ...   Gyr      K     m / s2        \n",
       " str10   str10    int64      int64    ... float32 float32 float32 float32\n",
       "------- ------- ---------- ---------- ... ------- ------- ------- -------\n",
       "    QSO                  0 3083073946 ...    -1.0    -1.0    -1.0    -1.0\n",
       "    QSO                  1 3083073946 ...    -1.0    -1.0    -1.0    -1.0"
      ]
     },
     "execution_count": 13,
     "metadata": {},
     "output_type": "execute_result"
    }
   ],
   "source": [
    "meta[:2]"
   ]
  },
  {
   "cell_type": "markdown",
   "metadata": {},
   "source": [
    "#### Let's plot some example spectra."
   ]
  },
  {
   "cell_type": "code",
   "execution_count": 14,
   "metadata": {},
   "outputs": [],
   "source": [
    "def plot_subset(wave, flux, truth, nplot=16, ncol=4):\n",
    "    \"\"\"Plot a random sampling of spectra.\"\"\"\n",
    "    nspec, npix = flux.shape\n",
    "    nrow = np.ceil(nplot / ncol).astype('int')\n",
    "    these = rand.choice(nspec, nplot, replace=False)\n",
    "    these = np.sort(these)\n",
    "    ww = (wave > 5500) * (wave < 5550)\n",
    "\n",
    "    fig, ax = plt.subplots(nrow, ncol, figsize=(2.5*ncol, 2*nrow), sharey=False, sharex=True)\n",
    "    for thisax, indx in zip(ax.flat, these):\n",
    "        thisax.plot(wave, flux[indx, :] / np.median(flux[indx, ww]))\n",
    "        thisax.text(0.95, 0.93, 'z={:.3f}'.format(truth['TRUEZ'][indx]), ha='right', \n",
    "             va='top', transform=thisax.transAxes, fontsize=11)\n",
    "        thisax.xaxis.set_major_locator(plt.MaxNLocator(3))\n",
    "        thisax.yaxis.set_ticks([])\n",
    "    fig.subplots_adjust(wspace=0.05, hspace=0.05)\n"
   ]
  },
  {
   "cell_type": "code",
   "execution_count": 15,
   "metadata": {},
   "outputs": [
    {
     "data": {
      "image/png": "[encoded data removed]",
      "text/plain": [
       "<matplotlib.figure.Figure at 0x12ec5e9b0>"
      ]
     },
     "metadata": {},
     "output_type": "display_data"
    }
   ],
   "source": [
    "plot_subset(wave, flux, truth)"
   ]
  },
  {
   "cell_type": "markdown",
   "metadata": {},
   "source": [
    "#### Select DESI targets, after which point the targets catalog should look just like an imaging targeting catalog.\n",
    "\n",
    "In other words, `targets` includes noisy photometry as well as targeting information."
   ]
  },
  {
   "cell_type": "code",
   "execution_count": 16,
   "metadata": {
    "collapsed": true
   },
   "outputs": [],
   "source": [
    "QSO.select_targets(targets, truth)"
   ]
  },
  {
   "cell_type": "code",
   "execution_count": 17,
   "metadata": {},
   "outputs": [
    {
     "data": {
      "text/html": [
       "&lt;Table length=2&gt;\n",
       "<table id=\"table4848793752\" class=\"table-striped table-bordered table-condensed\">\n",
       "<thead><tr><th>BRICKID</th><th>BRICKNAME</th><th>BRICK_OBJID</th><th>RA</th><th>DEC</th><th>FLUX_G</th><th>FLUX_R</th><th>FLUX_Z</th><th>FLUX_W1</th><th>FLUX_W2</th><th>MW_TRANSMISSION_G</th><th>MW_TRANSMISSION_R</th><th>MW_TRANSMISSION_Z</th><th>MW_TRANSMISSION_W1</th><th>MW_TRANSMISSION_W2</th><th>PSFDEPTH_G</th><th>PSFDEPTH_R</th><th>PSFDEPTH_Z</th><th>GALDEPTH_G</th><th>GALDEPTH_R</th><th>GALDEPTH_Z</th><th>PSFDEPTH_W1</th><th>PSFDEPTH_W2</th><th>SHAPEDEV_R</th><th>SHAPEDEV_E1</th><th>SHAPEDEV_E2</th><th>SHAPEEXP_R</th><th>SHAPEEXP_E1</th><th>SHAPEEXP_E2</th><th>SUBPRIORITY</th><th>TARGETID</th><th>DESI_TARGET</th><th>BGS_TARGET</th><th>MWS_TARGET</th><th>HPXPIXEL</th><th>OBSCONDITIONS</th></tr></thead>\n",
       "<thead><tr><th></th><th></th><th></th><th>deg</th><th>deg</th><th>nanomaggies</th><th>nanomaggies</th><th>nanomaggies</th><th>nanomaggies</th><th>nanomaggies</th><th></th><th></th><th></th><th></th><th></th><th>1/nanomaggies**2</th><th>1/nanomaggies**2</th><th>1/nanomaggies**2</th><th>1/nanomaggies**2</th><th>1/nanomaggies**2</th><th>1/nanomaggies**2</th><th>1/nanomaggies**2</th><th>1/nanomaggies**2</th><th>arcsec</th><th></th><th></th><th>arcsec</th><th></th><th></th><th></th><th></th><th></th><th></th><th></th><th></th><th></th></tr></thead>\n",
       "<thead><tr><th>int32</th><th>str8</th><th>int32</th><th>float64</th><th>float64</th><th>float32</th><th>float32</th><th>float32</th><th>float32</th><th>float32</th><th>float32</th><th>float32</th><th>float32</th><th>float32</th><th>float32</th><th>float32</th><th>float32</th><th>float32</th><th>float32</th><th>float32</th><th>float32</th><th>float32</th><th>float32</th><th>float32</th><th>float32</th><th>float32</th><th>float32</th><th>float32</th><th>float32</th><th>float64</th><th>int64</th><th>int64</th><th>int64</th><th>int64</th><th>int64</th><th>int64</th></tr></thead>\n",
       "<tr><td>0</td><td>2043p012</td><td>0</td><td>204.350891113</td><td>1.33589243889</td><td>2.90792</td><td>3.07249</td><td>3.37186</td><td>18.8122</td><td>26.2715</td><td>0.939729</td><td>0.95899</td><td>0.976661</td><td>0.996448</td><td>0.997817</td><td>52.4807</td><td>7.72681</td><td>1.87068</td><td>57.544</td><td>13.1826</td><td>2.51189</td><td>0.0276732</td><td>0.438591</td><td>0.0</td><td>0.0</td><td>0.0</td><td>0.0</td><td>0.0</td><td>0.0</td><td>0.0</td><td>0</td><td>262148</td><td>0</td><td>0</td><td>0</td><td>1</td></tr>\n",
       "<tr><td>0</td><td>2046p007</td><td>0</td><td>204.55027771</td><td>0.717863500118</td><td>13.4122</td><td>13.756</td><td>19.8207</td><td>89.4035</td><td>139.577</td><td>0.931901</td><td>0.953602</td><td>0.973562</td><td>0.99597</td><td>0.997523</td><td>52.4807</td><td>7.72681</td><td>1.87068</td><td>57.544</td><td>13.1826</td><td>2.51189</td><td>0.0276732</td><td>0.438591</td><td>0.0</td><td>0.0</td><td>0.0</td><td>0.0</td><td>0.0</td><td>0.0</td><td>0.0</td><td>0</td><td>262148</td><td>0</td><td>0</td><td>0</td><td>1</td></tr>\n",
       "</table>"
      ],
      "text/plain": [
       "<Table length=2>\n",
       "BRICKID BRICKNAME BRICK_OBJID ... MWS_TARGET HPXPIXEL OBSCONDITIONS\n",
       "                              ...                                  \n",
       " int32     str8      int32    ...   int64     int64       int64    \n",
       "------- --------- ----------- ... ---------- -------- -------------\n",
       "      0  2043p012           0 ...          0        0             1\n",
       "      0  2046p007           0 ...          0        0             1"
      ]
     },
     "execution_count": 17,
     "metadata": {},
     "output_type": "execute_result"
    }
   ],
   "source": [
    "targets[:2]"
   ]
  },
  {
   "cell_type": "code",
   "execution_count": 18,
   "metadata": {},
   "outputs": [
    {
     "name": "stdout",
     "output_type": "stream",
     "text": [
      "Identified 101 / 114 QSO targets.\n"
     ]
    }
   ],
   "source": [
    "keep = targets['DESI_TARGET'] != 0\n",
    "print('Identified {} / {} QSO targets.'.format(np.sum(keep), len(targets)))"
   ]
  },
  {
   "cell_type": "markdown",
   "metadata": {},
   "source": [
    "### Generating Lya QSO spectra proceeds along similar lines."
   ]
  },
  {
   "cell_type": "code",
   "execution_count": 19,
   "metadata": {},
   "outputs": [
    {
     "ename": "NameError",
     "evalue": "name 'verbose' is not defined",
     "output_type": "error",
     "traceback": [
      "\u001b[0;31m---------------------------------------------------------------------------\u001b[0m",
      "\u001b[0;31mNameError\u001b[0m                                 Traceback (most recent call last)",
      "\u001b[0;32m<ipython-input-19-462dc35dba3e>\u001b[0m in \u001b[0;36m<module>\u001b[0;34m()\u001b[0m\n\u001b[0;32m----> 1\u001b[0;31m \u001b[0mLYA\u001b[0m \u001b[0;34m=\u001b[0m \u001b[0mLYAMaker\u001b[0m\u001b[0;34m(\u001b[0m\u001b[0;34m)\u001b[0m\u001b[0;34m\u001b[0m\u001b[0m\n\u001b[0m",
      "\u001b[0;32m~/repos/desihub/desitarget/py/desitarget/mock/mockmaker.py\u001b[0m in \u001b[0;36m__init__\u001b[0;34m(self, seed, normfilter, **kwargs)\u001b[0m\n\u001b[1;32m   1445\u001b[0m \u001b[0;34m\u001b[0m\u001b[0m\n\u001b[1;32m   1446\u001b[0m         \u001b[0mself\u001b[0m\u001b[0;34m.\u001b[0m\u001b[0mseed\u001b[0m \u001b[0;34m=\u001b[0m \u001b[0mseed\u001b[0m\u001b[0;34m\u001b[0m\u001b[0m\n\u001b[0;32m-> 1447\u001b[0;31m         \u001b[0mself\u001b[0m\u001b[0;34m.\u001b[0m\u001b[0mverbose\u001b[0m \u001b[0;34m=\u001b[0m \u001b[0mverbose\u001b[0m\u001b[0;34m\u001b[0m\u001b[0m\n\u001b[0m\u001b[1;32m   1448\u001b[0m         \u001b[0mself\u001b[0m\u001b[0;34m.\u001b[0m\u001b[0mrand\u001b[0m \u001b[0;34m=\u001b[0m \u001b[0mnp\u001b[0m\u001b[0;34m.\u001b[0m\u001b[0mrandom\u001b[0m\u001b[0;34m.\u001b[0m\u001b[0mRandomState\u001b[0m\u001b[0;34m(\u001b[0m\u001b[0mself\u001b[0m\u001b[0;34m.\u001b[0m\u001b[0mseed\u001b[0m\u001b[0;34m)\u001b[0m\u001b[0;34m\u001b[0m\u001b[0m\n\u001b[1;32m   1449\u001b[0m         \u001b[0mself\u001b[0m\u001b[0;34m.\u001b[0m\u001b[0mwave\u001b[0m \u001b[0;34m=\u001b[0m \u001b[0m_default_wave\u001b[0m\u001b[0;34m(\u001b[0m\u001b[0;34m)\u001b[0m\u001b[0;34m\u001b[0m\u001b[0m\n",
      "\u001b[0;31mNameError\u001b[0m: name 'verbose' is not defined"
     ]
    }
   ],
   "source": [
    "#LYA = LYAMaker()"
   ]
  },
  {
   "cell_type": "code",
   "execution_count": null,
   "metadata": {},
   "outputs": [],
   "source": [
    "#ldata = LYA.read(healpixels=healpixel, nside=nside, dust_dir=dust_dir)"
   ]
  },
  {
   "cell_type": "code",
   "execution_count": null,
   "metadata": {},
   "outputs": [],
   "source": [
    "stop"
   ]
  },
  {
   "cell_type": "markdown",
   "metadata": {},
   "source": [
    "### Now demonstrate the other extragalactic target classes: LRG, ELG, and BGS."
   ]
  },
  {
   "cell_type": "code",
   "execution_count": 22,
   "metadata": {},
   "outputs": [
    {
     "name": "stdout",
     "output_type": "stream",
     "text": [
      "INFO:io.py:962:read_basis_templates: Reading /Users/ioannis/work/desi/spectro/templates/basis_templates/v2.4/lrg_templates_v2.0.fits metadata.\n",
      "Reading the mock catalog for LRGs\n",
      "INFO:mockmaker.py:566:readmock: Reading /Users/ioannis/work/desi/mocks/GaussianRandomField/v0.0.5/LRG.fits\n",
      "INFO:mockmaker.py:578:readmock: Assigning healpix pixels with nside = 64\n",
      "INFO:mockmaker.py:587:readmock: Trimmed to 678 LRGs in healpixel(s) 26030\n",
      "INFO:io.py:974:read_basis_templates: Reading /Users/ioannis/work/desi/spectro/templates/basis_templates/v2.4/lrg_templates_v2.0.fits\n",
      "Generating spectra.\n",
      "Selecting targets\n",
      "\n",
      "INFO:io.py:962:read_basis_templates: Reading /Users/ioannis/work/desi/spectro/templates/basis_templates/v2.4/elg_templates_v2.0.fits metadata.\n",
      "Reading the mock catalog for ELGs\n",
      "WARNING:mockmaker.py:553:readmock: Mockfile input is required.\n"
     ]
    },
    {
     "ename": "ValueError",
     "evalue": "",
     "output_type": "error",
     "traceback": [
      "\u001b[0;31m---------------------------------------------------------------------------\u001b[0m",
      "\u001b[0;31mValueError\u001b[0m                                Traceback (most recent call last)",
      "\u001b[0;32m<ipython-input-22-62a16e60b9e8>\u001b[0m in \u001b[0;36m<module>\u001b[0;34m()\u001b[0m\n\u001b[1;32m      3\u001b[0m \u001b[0;34m\u001b[0m\u001b[0m\n\u001b[1;32m      4\u001b[0m     \u001b[0mprint\u001b[0m\u001b[0;34m(\u001b[0m\u001b[0;34m'Reading the mock catalog for {}s'\u001b[0m\u001b[0;34m.\u001b[0m\u001b[0mformat\u001b[0m\u001b[0;34m(\u001b[0m\u001b[0mTARGET\u001b[0m\u001b[0;34m.\u001b[0m\u001b[0mobjtype\u001b[0m\u001b[0;34m)\u001b[0m\u001b[0;34m)\u001b[0m\u001b[0;34m\u001b[0m\u001b[0m\n\u001b[0;32m----> 5\u001b[0;31m     \u001b[0mtdata\u001b[0m \u001b[0;34m=\u001b[0m \u001b[0mTARGET\u001b[0m\u001b[0;34m.\u001b[0m\u001b[0mread\u001b[0m\u001b[0;34m(\u001b[0m\u001b[0mhealpixels\u001b[0m\u001b[0;34m=\u001b[0m\u001b[0mhealpixel\u001b[0m\u001b[0;34m,\u001b[0m \u001b[0mnside\u001b[0m\u001b[0;34m=\u001b[0m\u001b[0mnside\u001b[0m\u001b[0;34m,\u001b[0m \u001b[0mdust_dir\u001b[0m\u001b[0;34m=\u001b[0m\u001b[0mdust_dir\u001b[0m\u001b[0;34m)\u001b[0m\u001b[0;34m\u001b[0m\u001b[0m\n\u001b[0m\u001b[1;32m      6\u001b[0m \u001b[0;34m\u001b[0m\u001b[0m\n\u001b[1;32m      7\u001b[0m     \u001b[0mprint\u001b[0m\u001b[0;34m(\u001b[0m\u001b[0;34m'Generating spectra.'\u001b[0m\u001b[0;34m)\u001b[0m\u001b[0;34m\u001b[0m\u001b[0m\n",
      "\u001b[0;32m~/repos/desihub/desitarget/py/desitarget/mock/mockmaker.py\u001b[0m in \u001b[0;36mread\u001b[0;34m(self, mockfile, mockformat, dust_dir, healpixels, nside, nside_chunk, **kwargs)\u001b[0m\n\u001b[1;32m   1842\u001b[0m \u001b[0;34m\u001b[0m\u001b[0m\n\u001b[1;32m   1843\u001b[0m         data = MockReader.readmock(mockfile, target_name=self.objtype,\n\u001b[0;32m-> 1844\u001b[0;31m                                    healpixels=healpixels, nside=nside)\n\u001b[0m\u001b[1;32m   1845\u001b[0m \u001b[0;34m\u001b[0m\u001b[0m\n\u001b[1;32m   1846\u001b[0m         \u001b[0;32mif\u001b[0m \u001b[0mbool\u001b[0m\u001b[0;34m(\u001b[0m\u001b[0mdata\u001b[0m\u001b[0;34m)\u001b[0m\u001b[0;34m:\u001b[0m\u001b[0;34m\u001b[0m\u001b[0m\n",
      "\u001b[0;32m~/repos/desihub/desitarget/py/desitarget/mock/mockmaker.py\u001b[0m in \u001b[0;36mreadmock\u001b[0;34m(self, mockfile, healpixels, nside, target_name)\u001b[0m\n\u001b[1;32m    552\u001b[0m         \u001b[0;32mif\u001b[0m \u001b[0mmockfile\u001b[0m \u001b[0;32mis\u001b[0m \u001b[0;32mNone\u001b[0m\u001b[0;34m:\u001b[0m\u001b[0;34m\u001b[0m\u001b[0m\n\u001b[1;32m    553\u001b[0m             \u001b[0mlog\u001b[0m\u001b[0;34m.\u001b[0m\u001b[0mwarning\u001b[0m\u001b[0;34m(\u001b[0m\u001b[0;34m'Mockfile input is required.'\u001b[0m\u001b[0;34m)\u001b[0m\u001b[0;34m\u001b[0m\u001b[0m\n\u001b[0;32m--> 554\u001b[0;31m             \u001b[0;32mraise\u001b[0m \u001b[0mValueError\u001b[0m\u001b[0;34m\u001b[0m\u001b[0m\n\u001b[0m\u001b[1;32m    555\u001b[0m \u001b[0;34m\u001b[0m\u001b[0m\n\u001b[1;32m    556\u001b[0m         \u001b[0;32mif\u001b[0m \u001b[0;32mnot\u001b[0m \u001b[0mos\u001b[0m\u001b[0;34m.\u001b[0m\u001b[0mpath\u001b[0m\u001b[0;34m.\u001b[0m\u001b[0misfile\u001b[0m\u001b[0;34m(\u001b[0m\u001b[0mmockfile\u001b[0m\u001b[0;34m)\u001b[0m\u001b[0;34m:\u001b[0m\u001b[0;34m\u001b[0m\u001b[0m\n",
      "\u001b[0;31mValueError\u001b[0m: "
     ]
    }
   ],
   "source": [
    "for Maker in (LRGMaker, ELGMaker, BGSMaker):\n",
    "    TARGET = Maker(seed=seed)\n",
    "    \n",
    "    print('Reading the mock catalog for {}s'.format(TARGET.objtype))\n",
    "    tdata = TARGET.read(healpixels=healpixel, nside=nside, dust_dir=dust_dir)\n",
    "    \n",
    "    print('Generating spectra.')\n",
    "    indx = rand.choice(20, len(tdata['RA']))\n",
    "    tflux, _, tmeta, ttargets, ttruth = TARGET.make_spectra(tdata, indx=indx)\n",
    "    \n",
    "    print('Selecting targets')\n",
    "    TARGET.select_targets(ttargets, ttruth)\n",
    "\n",
    "    print()"
   ]
  },
  {
   "cell_type": "code",
   "execution_count": null,
   "metadata": {
    "collapsed": true
   },
   "outputs": [],
   "source": []
  }
 ],
 "metadata": {
  "kernelspec": {
   "display_name": "Python 3",
   "language": "python",
   "name": "python3"
  },
  "language_info": {
   "codemirror_mode": {
    "name": "ipython",
    "version": 3
   },
   "file_extension": ".py",
   "mimetype": "text/x-python",
   "name": "python",
   "nbconvert_exporter": "python",
   "pygments_lexer": "ipython3",
   "version": "3.5.3"
  }
 },
 "nbformat": 4,
 "nbformat_minor": 2
}
