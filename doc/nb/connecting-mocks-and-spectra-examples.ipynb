{
 "cells": [
  {
   "cell_type": "markdown",
   "metadata": {},
   "source": [
    "# Connecting Mocks and Spectra Examples\n",
    "\n",
    "The purpose of this notebook is to demonstrate how to generate spectra for various mock catalogs and target types.  Here we generate spectra for targets in a single healpixel with no constraints on the target density (relative to the expected target density) or contaminants.\n",
    "\n",
    "For code to generate large numbers of spectra over significant patches of sky and to create a representative DESI dataset (with parallelism), see `desitarget/bin/select_mock_targets` and `desitarget.mock.build.targets_truth`."
   ]
  },
  {
   "cell_type": "code",
   "execution_count": 8,
   "metadata": {
    "collapsed": true
   },
   "outputs": [],
   "source": [
    "import os\n",
    "import numpy as np\n",
    "import matplotlib.pyplot as plt"
   ]
  },
  {
   "cell_type": "code",
   "execution_count": 2,
   "metadata": {
    "collapsed": true
   },
   "outputs": [],
   "source": [
    "from desitarget.mock.mockmaker import (QSOMaker, LYAMaker, LRGMaker, ELGMaker, \n",
    "                                       BGSMaker, MWS_MAINMaker, MWS_NEARBYMaker,\n",
    "                                       WDMaker, FAINTSTARMaker, SKYMaker)"
   ]
  },
  {
   "cell_type": "code",
   "execution_count": 14,
   "metadata": {},
   "outputs": [],
   "source": [
    "plt.style.use('seaborn-talk')\n",
    "%matplotlib inline"
   ]
  },
  {
   "cell_type": "markdown",
   "metadata": {},
   "source": [
    "#### Specify the (required) path to the dust maps and the desired healpixel."
   ]
  },
  {
   "cell_type": "code",
   "execution_count": 3,
   "metadata": {
    "collapsed": true
   },
   "outputs": [],
   "source": [
    "dust_dir = '/Users/ioannis/research/data/sfd_dustmaps/maps'"
   ]
  },
  {
   "cell_type": "code",
   "execution_count": 18,
   "metadata": {
    "collapsed": true
   },
   "outputs": [],
   "source": [
    "healpixel = 26030\n",
    "nside = 64"
   ]
  },
  {
   "cell_type": "markdown",
   "metadata": {},
   "source": [
    "### Tracer and Lya QSOs.\n",
    "\n",
    "Both tracer and Lya QSOs contain an underlying QSO spectrum but the Lya QSOs also include the Lya forest from the latest CoLoRe skewer mocks."
   ]
  },
  {
   "cell_type": "code",
   "execution_count": 16,
   "metadata": {
    "collapsed": true
   },
   "outputs": [],
   "source": [
    "QSO = QSOMaker()"
   ]
  },
  {
   "cell_type": "markdown",
   "metadata": {},
   "source": [
    "#### The various `read` methods return a dictionary with target-specific quantities."
   ]
  },
  {
   "cell_type": "code",
   "execution_count": 21,
   "metadata": {},
   "outputs": [
    {
     "name": "stdout",
     "output_type": "stream",
     "text": [
      "INFO:mockmaker.py:475:readmock: Reading /Users/ioannis/work/desi/mocks/GaussianRandomField/v0.0.5/QSO.fits\n",
      "INFO:mockmaker.py:487:readmock: Assigning healpix pixels with nside = 64\n",
      "INFO:mockmaker.py:496:readmock: Trimmed to 114 QSOs in healpixel(s) 26030\n"
     ]
    }
   ],
   "source": [
    "data = QSO.read(healpixels=healpixel, nside=nside, dust_dir=dust_dir)"
   ]
  },
  {
   "cell_type": "code",
   "execution_count": 41,
   "metadata": {},
   "outputs": [
    {
     "name": "stdout",
     "output_type": "stream",
     "text": [
      "           BRICKNAME, 114, <class 'numpy.ndarray'>\n",
      "                 DEC, 114, <class 'numpy.ndarray'>\n",
      "                 EBV, 114, <class 'numpy.ndarray'>\n",
      "               FILES,   1, <class 'list'>\n",
      "          GALDEPTH_G, 114, <class 'numpy.ndarray'>\n",
      "          GALDEPTH_R, 114, <class 'numpy.ndarray'>\n",
      "          GALDEPTH_Z, 114, <class 'numpy.ndarray'>\n",
      "          MOCKFORMAT,  13, <class 'str'>\n",
      "              MOCKID, 114, <class 'numpy.ndarray'>\n",
      "   MW_TRANSMISSION_G, 114, <class 'numpy.ndarray'>\n",
      "   MW_TRANSMISSION_R, 114, <class 'numpy.ndarray'>\n",
      "  MW_TRANSMISSION_W1, 114, <class 'numpy.ndarray'>\n",
      "  MW_TRANSMISSION_W2, 114, <class 'numpy.ndarray'>\n",
      "   MW_TRANSMISSION_Z, 114, <class 'numpy.ndarray'>\n",
      "          N_PER_FILE,   1, <class 'list'>\n",
      "               OBJID, 114, <class 'numpy.ndarray'>\n",
      "          PSFDEPTH_G, 114, <class 'numpy.ndarray'>\n",
      "          PSFDEPTH_R, 114, <class 'numpy.ndarray'>\n",
      "         PSFDEPTH_W1, 114, <class 'numpy.ndarray'>\n",
      "         PSFDEPTH_W2, 114, <class 'numpy.ndarray'>\n",
      "          PSFDEPTH_Z, 114, <class 'numpy.ndarray'>\n",
      "                  RA, 114, <class 'numpy.ndarray'>\n",
      "         TARGET_NAME,   3, <class 'str'>\n",
      "     TEMPLATESUBTYPE,   0, <class 'str'>\n",
      "        TEMPLATETYPE,   3, <class 'str'>\n",
      "        TRUESPECTYPE,   3, <class 'str'>\n",
      "                   Z, 114, <class 'numpy.ndarray'>\n"
     ]
    }
   ],
   "source": [
    "for key in sorted(list(data.keys())):\n",
    "    print('{:>20}, {:3d}, {}'.format(key, len(data[key]), type(data[key])))"
   ]
  },
  {
   "cell_type": "markdown",
   "metadata": {},
   "source": [
    "#### Now we can generate the spectra as well as the targeting catalogs (`targets`) and corresponding truth table."
   ]
  },
  {
   "cell_type": "code",
   "execution_count": 42,
   "metadata": {},
   "outputs": [
    {
     "name": "stdout",
     "output_type": "stream",
     "text": [
      "CPU times: user 4.26 s, sys: 213 ms, total: 4.47 s\n",
      "Wall time: 4.56 s\n"
     ]
    }
   ],
   "source": [
    "%time flux, wave, meta, targets, truth = QSO.make_spectra(data)"
   ]
  },
  {
   "cell_type": "code",
   "execution_count": 6,
   "metadata": {},
   "outputs": [
    {
     "ename": "NameError",
     "evalue": "name 'stop' is not defined",
     "output_type": "error",
     "traceback": [
      "\u001b[0;31m---------------------------------------------------------------------------\u001b[0m",
      "\u001b[0;31mNameError\u001b[0m                                 Traceback (most recent call last)",
      "\u001b[0;32m<ipython-input-6-4f76a9dad686>\u001b[0m in \u001b[0;36m<module>\u001b[0;34m()\u001b[0m\n\u001b[0;32m----> 1\u001b[0;31m \u001b[0mstop\u001b[0m\u001b[0;34m\u001b[0m\u001b[0m\n\u001b[0m",
      "\u001b[0;31mNameError\u001b[0m: name 'stop' is not defined"
     ]
    }
   ],
   "source": [
    "stop"
   ]
  },
  {
   "cell_type": "markdown",
   "metadata": {},
   "source": [
    "### LRGs"
   ]
  },
  {
   "cell_type": "code",
   "execution_count": null,
   "metadata": {},
   "outputs": [],
   "source": [
    "LRG = LRGMaker()"
   ]
  },
  {
   "cell_type": "code",
   "execution_count": null,
   "metadata": {},
   "outputs": [],
   "source": [
    "data = LRG.read(healpixels=26029, nside=64, dust_dir=dust_dir)"
   ]
  },
  {
   "cell_type": "code",
   "execution_count": null,
   "metadata": {},
   "outputs": [],
   "source": [
    "data.keys()"
   ]
  },
  {
   "cell_type": "code",
   "execution_count": null,
   "metadata": {},
   "outputs": [],
   "source": [
    "flux, wave, meta, targets, truth = LRG.make_spectra(data, indx=np.arange(10))"
   ]
  },
  {
   "cell_type": "code",
   "execution_count": null,
   "metadata": {},
   "outputs": [],
   "source": [
    "targets"
   ]
  },
  {
   "cell_type": "code",
   "execution_count": null,
   "metadata": {},
   "outputs": [],
   "source": [
    "truth"
   ]
  },
  {
   "cell_type": "code",
   "execution_count": null,
   "metadata": {
    "collapsed": true
   },
   "outputs": [],
   "source": []
  }
 ],
 "metadata": {
  "kernelspec": {
   "display_name": "Python 3",
   "language": "python",
   "name": "python3"
  },
  "language_info": {
   "codemirror_mode": {
    "name": "ipython",
    "version": 3
   },
   "file_extension": ".py",
   "mimetype": "text/x-python",
   "name": "python",
   "nbconvert_exporter": "python",
   "pygments_lexer": "ipython3",
   "version": "3.5.3"
  }
 },
 "nbformat": 4,
 "nbformat_minor": 2
}
